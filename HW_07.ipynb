{
 "cells": [
  {
   "cell_type": "markdown",
   "metadata": {
    "application/vnd.databricks.v1+cell": {
     "cellMetadata": {
      "byteLimit": 2048000,
      "rowLimit": 10000
     },
     "inputWidgets": {},
     "nuid": "9df062d2-a98a-49a3-8f83-c3eb55240975",
     "showTitle": false,
     "tableResultSettingsMap": {},
     "title": ""
    }
   },
   "source": [
    "# DSCI 617 – Homework 07\n",
    "**Felix Asare**"
   ]
  },
  {
   "cell_type": "code",
   "execution_count": 0,
   "metadata": {
    "application/vnd.databricks.v1+cell": {
     "cellMetadata": {
      "byteLimit": 2048000,
      "rowLimit": 10000
     },
     "inputWidgets": {},
     "nuid": "73842abf-01da-4de6-8e21-3a6b699b1524",
     "showTitle": false,
     "tableResultSettingsMap": {},
     "title": ""
    }
   },
   "outputs": [],
   "source": [
    "# Import Libraries\n",
    "import pandas as pd\n",
    "import matplotlib.pyplot as plt\n",
    " \n",
    "from pyspark.sql import SparkSession\n",
    "from pyspark.sql.functions import col, expr\n",
    " \n",
    "from pyspark.ml.feature import VectorAssembler, StringIndexer\n",
    "from pyspark.ml.evaluation import MulticlassClassificationEvaluator\n",
    "from pyspark.ml.classification import DecisionTreeClassifier\n",
    "from pyspark.ml import Pipeline\n",
    "from pyspark.ml.tuning import CrossValidator, ParamGridBuilder\n",
    " \n",
    " \n",
    "spark = SparkSession.builder.getOrCreate()"
   ]
  },
  {
   "cell_type": "markdown",
   "metadata": {
    "application/vnd.databricks.v1+cell": {
     "cellMetadata": {
      "byteLimit": 2048000,
      "rowLimit": 10000
     },
     "inputWidgets": {},
     "nuid": "b6b048e2-2a76-4574-8dd9-52532dcdcb65",
     "showTitle": false,
     "tableResultSettingsMap": {},
     "title": ""
    }
   },
   "source": [
    "## Problem 1: Decision Tree Classification"
   ]
  },
  {
   "cell_type": "markdown",
   "metadata": {
    "application/vnd.databricks.v1+cell": {
     "cellMetadata": {
      "byteLimit": 2048000,
      "rowLimit": 10000
     },
     "inputWidgets": {},
     "nuid": "616ea6cc-96e0-400b-9682-e9bdc1b2a3fc",
     "showTitle": false,
     "tableResultSettingsMap": {},
     "title": ""
    }
   },
   "source": [
    "<pre>\n",
    "+-----+-----+-----+-----+-----+------------+-----------+\n",
    "|  x0 |  x1 |  x2 |  x3 |  x4 | prediction | Leaf Node |\n",
    "+-----+-----+-----+-----+-----+------------+-----------+\n",
    "| 3.7 | 5.6 | 3.6 | 2.0 | 1.0 |    0.0     |     4     |\n",
    "| 8.2 | 4.2 | 2.1 | 2.0 | 0.0 |    2.0     |     8     |\n",
    "| 5.4 | 3.9 | 4.9 | 1.0 | 1.0 |    1.0     |     6     |\n",
    "| 2.8 | 6.1 | 8.1 | 0.0 | 0.0 |    2.0     |     2     |\n",
    "+-----+-----+-----+-----+-----+------------+-----------+\n",
    "</pre>\n"
   ]
  },
  {
   "cell_type": "markdown",
   "metadata": {
    "application/vnd.databricks.v1+cell": {
     "cellMetadata": {
      "byteLimit": 2048000,
      "rowLimit": 10000
     },
     "inputWidgets": {},
     "nuid": "7d5f6668-4dcb-4b19-b71c-5540d6906ccb",
     "showTitle": false,
     "tableResultSettingsMap": {},
     "title": ""
    }
   },
   "source": [
    "## Problem 2: Random Forest Classification"
   ]
  },
  {
   "cell_type": "markdown",
   "metadata": {
    "application/vnd.databricks.v1+cell": {
     "cellMetadata": {
      "byteLimit": 2048000,
      "rowLimit": 10000
     },
     "inputWidgets": {},
     "nuid": "7639eb42-ab59-4dcf-93ad-750ebad5e2cc",
     "showTitle": false,
     "tableResultSettingsMap": {},
     "title": ""
    }
   },
   "source": [
    "- Tree Model 1 Prediction: 0.0\n",
    "- Tree Model 2 Prediction: 0.0\n",
    "- Tree Model 3 Prediction: 1.0\n",
    "- Random Forest Prediction: 0.0"
   ]
  },
  {
   "cell_type": "markdown",
   "metadata": {
    "application/vnd.databricks.v1+cell": {
     "cellMetadata": {
      "byteLimit": 2048000,
      "rowLimit": 10000
     },
     "inputWidgets": {},
     "nuid": "c644275d-29f7-4041-997d-db21f22d17b2",
     "showTitle": false,
     "tableResultSettingsMap": {},
     "title": ""
    }
   },
   "source": [
    "## Problem 3: Load and Process Stroke Data"
   ]
  },
  {
   "cell_type": "code",
   "execution_count": 0,
   "metadata": {
    "application/vnd.databricks.v1+cell": {
     "cellMetadata": {
      "byteLimit": 2048000,
      "rowLimit": 10000
     },
     "inputWidgets": {},
     "nuid": "eada964a-a2c1-491f-89a2-e0ebd0f22d29",
     "showTitle": false,
     "tableResultSettingsMap": {},
     "title": ""
    }
   },
   "outputs": [
    {
     "output_type": "stream",
     "name": "stdout",
     "output_type": "stream",
     "text": [
      "root\n |-- gender: string (nullable = true)\n |-- age: double (nullable = true)\n |-- hypertension: integer (nullable = true)\n |-- heart_disease: integer (nullable = true)\n |-- ever_married: string (nullable = true)\n |-- work_type: string (nullable = true)\n |-- residence_type: string (nullable = true)\n |-- avg_glucose_level: double (nullable = true)\n |-- bmi: double (nullable = true)\n |-- smoking_status: string (nullable = true)\n |-- stroke: integer (nullable = true)\n\n"
     ]
    }
   ],
   "source": [
    "# Create Schema\n",
    "stroke_df = (\n",
    "    spark.read\n",
    "    .option(\"delimiter\", \",\")\n",
    "    .option(\"header\", True)\n",
    "    .schema(\n",
    "        'gender STRING, age DOUBLE, hypertension INT, heart_disease INT, ever_married STRING, work_type STRING, residence_type STRING, avg_glucose_level DOUBLE, bmi DOUBLE, smoking_status STRING, stroke INT'\n",
    "    )\n",
    "    .csv('/FileStore/tables/stroke_data.csv')\n",
    ")\n",
    "\n",
    "stroke_df.printSchema()"
   ]
  },
  {
   "cell_type": "code",
   "execution_count": 0,
   "metadata": {
    "application/vnd.databricks.v1+cell": {
     "cellMetadata": {
      "byteLimit": 2048000,
      "rowLimit": 10000
     },
     "inputWidgets": {},
     "nuid": "38d71dd9-a6c8-4bdc-a59a-1b85ca7512b8",
     "showTitle": false,
     "tableResultSettingsMap": {},
     "title": ""
    }
   },
   "outputs": [],
   "source": [
    "# Seperating Numeric and Categorical Columns\n",
    "num_features = ['age', 'avg_glucose_level', 'bmi']\n",
    "cat_features = [c for c in stroke_df.columns[:-1] if c not in num_features]\n",
    "\n",
    "\n",
    "#Integer encoding \n",
    "ix_features = [c + '_ix' for c in cat_features]\n",
    "\n",
    "# String Indexing\n",
    "label_indexer = StringIndexer(inputCol='stroke', outputCol='label')\n",
    "feature_indexer = StringIndexer(inputCols=cat_features, outputCols=ix_features)\n",
    "\n",
    "# Vector Assembler\n",
    "assember = VectorAssembler(inputCols=num_features+ix_features, outputCol='features')"
   ]
  },
  {
   "cell_type": "code",
   "execution_count": 0,
   "metadata": {
    "application/vnd.databricks.v1+cell": {
     "cellMetadata": {
      "byteLimit": 2048000,
      "rowLimit": 10000
     },
     "inputWidgets": {},
     "nuid": "f66a71f0-bd3f-4a16-aaa1-7cfba5dcaa5f",
     "showTitle": false,
     "tableResultSettingsMap": {},
     "title": ""
    }
   },
   "outputs": [
    {
     "output_type": "stream",
     "name": "stdout",
     "output_type": "stream",
     "text": [
      "+------+----+------------+-------------+------------+-------------+--------------+-----------------+----+---------------+------+-----+---------+---------------+----------------+---------------+------------+-----------------+-----------------+----------------------------------------------+\n|gender|age |hypertension|heart_disease|ever_married|work_type    |residence_type|avg_glucose_level|bmi |smoking_status |stroke|label|gender_ix|hypertension_ix|heart_disease_ix|ever_married_ix|work_type_ix|residence_type_ix|smoking_status_ix|features                                      |\n+------+----+------------+-------------+------------+-------------+--------------+-----------------+----+---------------+------+-----+---------+---------------+----------------+---------------+------------+-----------------+-----------------+----------------------------------------------+\n|Female|13.0|0           |0            |No          |Private      |Urban         |77.63            |31.7|never smoked   |0     |0.0  |0.0      |0.0            |0.0             |1.0            |0.0         |0.0              |0.0              |(10,[0,1,2,6],[13.0,77.63,31.7,1.0])          |\n|Male  |10.0|0           |0            |No          |Child        |Rural         |84.02            |18.7|never smoked   |0     |0.0  |1.0      |0.0            |0.0             |1.0            |3.0         |1.0              |0.0              |[10.0,84.02,18.7,1.0,0.0,0.0,1.0,3.0,1.0,0.0] |\n|Female|82.0|0           |1            |Yes         |Self-employed|Rural         |88.6             |32.5|Unknown        |0     |0.0  |0.0      |0.0            |1.0             |0.0            |1.0         |1.0              |1.0              |[82.0,88.6,32.5,0.0,0.0,1.0,0.0,1.0,1.0,1.0]  |\n|Female|3.0 |0           |0            |No          |Child        |Urban         |57.33            |16.8|Unknown        |0     |0.0  |0.0      |0.0            |0.0             |1.0            |3.0         |0.0              |1.0              |[3.0,57.33,16.8,0.0,0.0,0.0,1.0,3.0,0.0,1.0]  |\n|Female|65.0|0           |0            |Yes         |Self-employed|Rural         |220.52           |37.2|smokes         |0     |0.0  |0.0      |0.0            |0.0             |0.0            |1.0         |1.0              |3.0              |[65.0,220.52,37.2,0.0,0.0,0.0,0.0,1.0,1.0,3.0]|\n|Female|65.0|0           |0            |Yes         |Self-employed|Rural         |100.65           |31.0|never smoked   |1     |1.0  |0.0      |0.0            |0.0             |0.0            |1.0         |1.0              |0.0              |(10,[0,1,2,7,8],[65.0,100.65,31.0,1.0,1.0])   |\n|Male  |65.0|0           |0            |Yes         |Private      |Rural         |56.64            |28.4|formerly smoked|1     |1.0  |1.0      |0.0            |0.0             |0.0            |0.0         |1.0              |2.0              |[65.0,56.64,28.4,1.0,0.0,0.0,0.0,0.0,1.0,2.0] |\n|Female|28.0|0           |0            |Yes         |Private      |Rural         |64.64            |22.1|never smoked   |0     |0.0  |0.0      |0.0            |0.0             |0.0            |0.0         |1.0              |0.0              |(10,[0,1,2,8],[28.0,64.64,22.1,1.0])          |\n|Female|80.0|0           |0            |Yes         |Govt_job     |Urban         |84.86            |29.3|Unknown        |0     |0.0  |0.0      |0.0            |0.0             |0.0            |2.0         |0.0              |1.0              |(10,[0,1,2,7,9],[80.0,84.86,29.3,2.0,1.0])    |\n|Male  |78.0|0           |0            |Yes         |Private      |Urban         |60.22            |29.7|formerly smoked|0     |0.0  |1.0      |0.0            |0.0             |0.0            |0.0         |0.0              |2.0              |(10,[0,1,2,3,9],[78.0,60.22,29.7,1.0,2.0])    |\n+------+----+------------+-------------+------------+-------------+--------------+-----------------+----+---------------+------+-----+---------+---------------+----------------+---------------+------------+-----------------+-----------------+----------------------------------------------+\nonly showing top 10 rows\n\n"
     ]
    }
   ],
   "source": [
    "# Create pipeline\n",
    "pipeline = Pipeline(stages=[label_indexer, feature_indexer, assember]).fit(stroke_df)\n",
    "train = pipeline.transform(stroke_df)\n",
    "#Persist train\n",
    "train.persist()\n",
    "\n",
    "# Show first 10 rows\n",
    "train.show(10, truncate=False)"
   ]
  },
  {
   "cell_type": "markdown",
   "metadata": {
    "application/vnd.databricks.v1+cell": {
     "cellMetadata": {
      "byteLimit": 2048000,
      "rowLimit": 10000
     },
     "inputWidgets": {},
     "nuid": "819e7c70-2447-494f-8bdc-1de20fc20fac",
     "showTitle": false,
     "tableResultSettingsMap": {},
     "title": ""
    }
   },
   "source": [
    "## Problem 4: Hyperparameter Tuning for Decision Trees"
   ]
  },
  {
   "cell_type": "code",
   "execution_count": 0,
   "metadata": {
    "application/vnd.databricks.v1+cell": {
     "cellMetadata": {
      "byteLimit": 2048000,
      "rowLimit": 10000
     },
     "inputWidgets": {},
     "nuid": "78533623-1e26-4207-b606-734e09b90e95",
     "showTitle": false,
     "tableResultSettingsMap": {},
     "title": ""
    }
   },
   "outputs": [],
   "source": [
    "# Multi Classifier to calculate accuracy\n",
    "accuracy_eval = MulticlassClassificationEvaluator(\n",
    "    predictionCol='prediction', labelCol='label', metricName='accuracy')"
   ]
  },
  {
   "cell_type": "code",
   "execution_count": 0,
   "metadata": {
    "application/vnd.databricks.v1+cell": {
     "cellMetadata": {
      "byteLimit": 2048000,
      "rowLimit": 10000
     },
     "inputWidgets": {},
     "nuid": "3423e638-b94d-473a-9c9d-9a544421b0ce",
     "showTitle": false,
     "tableResultSettingsMap": {},
     "title": ""
    }
   },
   "outputs": [],
   "source": [
    "# Create Decision Tree Classifier with seed 1\n",
    "dtree = DecisionTreeClassifier(labelCol='label', featuresCol='features', seed=1)\n",
    "\n",
    "# Parameter Grid\n",
    "param_grid = (ParamGridBuilder()\n",
    "              .addGrid(dtree.maxDepth, [2, 4, 6, 8, 10, 12, 14, 16] )\n",
    "              .addGrid(dtree.minInstancesPerNode, [4, 8, 16, 32])\n",
    "             ).build()\n",
    "\n",
    "# Create CrossValidator\n",
    "dtree_cv = CrossValidator(estimator=dtree, estimatorParamMaps=param_grid, evaluator=accuracy_eval, numFolds=5, seed=1)\n",
    "\n",
    "# Fit CrossValidator to train\n",
    "cv_model = dtree_cv.fit(train)"
   ]
  },
  {
   "cell_type": "code",
   "execution_count": 0,
   "metadata": {
    "application/vnd.databricks.v1+cell": {
     "cellMetadata": {
      "byteLimit": 2048000,
      "rowLimit": 10000
     },
     "inputWidgets": {},
     "nuid": "359980a9-8a82-4b1c-a0d0-af3f059f3ea4",
     "showTitle": false,
     "tableResultSettingsMap": {},
     "title": ""
    }
   },
   "outputs": [
    {
     "output_type": "stream",
     "name": "stdout",
     "output_type": "stream",
     "text": [
      "Max CV Score:    0.7895\nOptimal Depth:   6\nOptimal MinInst: 16\n"
     ]
    }
   ],
   "source": [
    "# Optimize the model\n",
    "model = cv_model.bestModel\n",
    "\n",
    "# Optimal parameters\n",
    "maxDepth = model.getMaxDepth()\n",
    "minInstancesPerNode = model.getMinInstancesPerNode()\n",
    "\n",
    "print('Max CV Score:   ', round(max(cv_model.avgMetrics),4))\n",
    "print('Optimal Depth:  ', maxDepth)\n",
    "print('Optimal MinInst:', minInstancesPerNode)\n"
   ]
  },
  {
   "cell_type": "code",
   "execution_count": 0,
   "metadata": {
    "application/vnd.databricks.v1+cell": {
     "cellMetadata": {
      "byteLimit": 2048000,
      "rowLimit": 10000
     },
     "inputWidgets": {},
     "nuid": "a570ec61-0cd2-4802-9b27-0ca90665dc24",
     "showTitle": false,
     "tableResultSettingsMap": {},
     "title": ""
    }
   },
   "outputs": [
    {
     "output_type": "display_data",
     "data": {
      "image/png": "[encoded data removed]",
      "text/plain": [
       "<Figure size 640x480 with 1 Axes>"
      ]
     },
     "metadata": {},
     "output_type": "display_data"
    }
   ],
   "source": [
    "model_params = cv_model.getEstimatorParamMaps()\n",
    "dt_cv_summary_list = []\n",
    "for param_set, acc in zip(model_params, cv_model.avgMetrics):\n",
    "    new_set = list(param_set.values()) + [acc] \n",
    "    dt_cv_summary_list.append(new_set)\n",
    "cv_summary = pd.DataFrame(dt_cv_summary_list, \n",
    "                          columns=['maxDepth', 'minInst', 'acc'])\n",
    "for mi in cv_summary.minInst.unique():\n",
    "    sel = cv_summary.minInst == mi \n",
    "    plt.plot(cv_summary.maxDepth[sel], cv_summary.acc[sel], label=mi) \n",
    "    plt.scatter(cv_summary.maxDepth[sel], cv_summary.acc[sel])\n",
    "plt.legend()\n",
    "plt.grid()\n",
    "plt.xticks(range(2,18,2)) \n",
    "plt.xlabel('Max Depth') \n",
    "plt.ylabel('Cross-Validation Score') \n",
    "plt.show()"
   ]
  },
  {
   "cell_type": "markdown",
   "metadata": {
    "application/vnd.databricks.v1+cell": {
     "cellMetadata": {
      "byteLimit": 2048000,
      "rowLimit": 10000
     },
     "inputWidgets": {},
     "nuid": "10f91bc0-b125-4b60-973d-fba2d4c6718b",
     "showTitle": false,
     "tableResultSettingsMap": {},
     "title": ""
    }
   },
   "source": [
    "## Problem 5: Structure of Final Model"
   ]
  },
  {
   "cell_type": "code",
   "execution_count": 0,
   "metadata": {
    "application/vnd.databricks.v1+cell": {
     "cellMetadata": {
      "byteLimit": 2048000,
      "rowLimit": 10000
     },
     "inputWidgets": {},
     "nuid": "977c4213-7a0d-4da2-945b-fa717f211bf7",
     "showTitle": false,
     "tableResultSettingsMap": {},
     "title": ""
    }
   },
   "outputs": [
    {
     "output_type": "stream",
     "name": "stdout",
     "output_type": "stream",
     "text": [
      "DecisionTreeClassificationModel: uid=DecisionTreeClassifier_917c84c0bf0b, depth=6, numNodes=53, numClasses=2, numFeatures=10\n  If (feature 0 <= 56.5)\n   If (feature 5 in {1.0})\n    If (feature 9 in {3.0})\n     Predict: 0.0\n    Else (feature 9 not in {3.0})\n     If (feature 4 in {1.0})\n      Predict: 1.0\n     Else (feature 4 not in {1.0})\n      If (feature 2 <= 27.15)\n       Predict: 1.0\n      Else (feature 2 > 27.15)\n       If (feature 3 in {1.0})\n        Predict: 0.0\n       Else (feature 3 not in {1.0})\n        Predict: 1.0\n   Else (feature 5 not in {1.0})\n    If (feature 0 <= 43.5)\n     If (feature 4 in {1.0})\n      If (feature 2 <= 28.15)\n       Predict: 1.0\n      Else (feature 2 > 28.15)\n       Predict: 0.0\n     Else (feature 4 not in {1.0})\n      Predict: 0.0\n    Else (feature 0 > 43.5)\n     If (feature 1 <= 156.44)\n      If (feature 4 in {1.0})\n       If (feature 9 in {0.0,2.0,3.0})\n        Predict: 0.0\n       Else (feature 9 not in {0.0,2.0,3.0})\n        Predict: 1.0\n      Else (feature 4 not in {1.0})\n       Predict: 0.0\n     Else (feature 1 > 156.44)\n      If (feature 1 <= 236.815)\n       Predict: 0.0\n      Else (feature 1 > 236.815)\n       Predict: 1.0\n  Else (feature 0 > 56.5)\n   If (feature 0 <= 81.5)\n    If (feature 1 <= 118.485)\n     If (feature 5 in {1.0})\n      If (feature 0 <= 77.5)\n       Predict: 1.0\n      Else (feature 0 > 77.5)\n       If (feature 1 <= 79.625)\n        Predict: 1.0\n       Else (feature 1 > 79.625)\n        Predict: 0.0\n     Else (feature 5 not in {1.0})\n      If (feature 4 in {1.0})\n       If (feature 2 <= 26.05)\n        Predict: 1.0\n       Else (feature 2 > 26.05)\n        Predict: 0.0\n      Else (feature 4 not in {1.0})\n       Predict: 0.0\n    Else (feature 1 > 118.485)\n     If (feature 1 <= 236.815)\n      If (feature 0 <= 62.5)\n       If (feature 3 in {1.0})\n        Predict: 0.0\n       Else (feature 3 not in {1.0})\n        Predict: 1.0\n      Else (feature 0 > 62.5)\n       If (feature 0 <= 77.5)\n        Predict: 1.0\n       Else (feature 0 > 77.5)\n        Predict: 0.0\n     Else (feature 1 > 236.815)\n      If (feature 2 <= 29.35)\n       If (feature 2 <= 26.05)\n        Predict: 1.0\n       Else (feature 2 > 26.05)\n        Predict: 0.0\n      Else (feature 2 > 29.35)\n       Predict: 1.0\n   Else (feature 0 > 81.5)\n    Predict: 1.0\n\n"
     ]
    }
   ],
   "source": [
    "# Print deBugging information\n",
    "print(model.toDebugString)"
   ]
  },
  {
   "cell_type": "code",
   "execution_count": 0,
   "metadata": {
    "application/vnd.databricks.v1+cell": {
     "cellMetadata": {
      "byteLimit": 2048000,
      "rowLimit": 10000
     },
     "inputWidgets": {},
     "nuid": "4be3740f-3758-4c91-9128-81757daa9106",
     "showTitle": false,
     "tableResultSettingsMap": {},
     "title": ""
    }
   },
   "outputs": [
    {
     "output_type": "stream",
     "name": "stdout",
     "output_type": "stream",
     "text": [
      "['age', 'avg_glucose_level', 'bmi', 'gender', 'hypertension', 'heart_disease', 'ever_married', 'work_type', 'residence_type', 'smoking_status']\n"
     ]
    }
   ],
   "source": [
    "# Combine features\n",
    "features = num_features + cat_features\n",
    "\n",
    "# Print features\n",
    "print(features)"
   ]
  },
  {
   "cell_type": "markdown",
   "metadata": {
    "application/vnd.databricks.v1+cell": {
     "cellMetadata": {
      "byteLimit": 2048000,
      "rowLimit": 10000
     },
     "inputWidgets": {},
     "nuid": "a94e75d9-655b-4d29-8c9c-3f947a14e3b5",
     "showTitle": false,
     "tableResultSettingsMap": {},
     "title": ""
    }
   },
   "source": [
    "- First Feature Used in Tree: age\n",
    "- Features Unused in Tree: ever_married, work_type, residence_type"
   ]
  },
  {
   "cell_type": "code",
   "execution_count": 0,
   "metadata": {
    "application/vnd.databricks.v1+cell": {
     "cellMetadata": {
      "byteLimit": 2048000,
      "rowLimit": 10000
     },
     "inputWidgets": {},
     "nuid": "83adbcfb-2037-4248-9420-8c5cbce2485f",
     "showTitle": false,
     "tableResultSettingsMap": {},
     "title": ""
    }
   },
   "outputs": [
    {
     "output_type": "stream",
     "name": "stdout",
     "output_type": "stream",
     "text": [
      "+-----------------+--------------------+\n|feature          |importance          |\n+-----------------+--------------------+\n|age              |0.7805365372711884  |\n|avg_glucose_level|0.06442225566134731 |\n|bmi              |0.022221333075889322|\n|gender           |0.004707540255107664|\n|hypertension     |0.03084441895517952 |\n|heart_disease    |0.088193834022943   |\n|ever_married     |0.0                 |\n|work_type        |0.0                 |\n|residence_type   |0.0                 |\n|smoking_status   |0.009074080758344689|\n+-----------------+--------------------+\n\n"
     ]
    }
   ],
   "source": [
    "feature_importances = model.featureImportances\n",
    "\n",
    "# Step 3: Create a list of feature name, importance\n",
    "feature_importance_list = [(feature, float(feature_importances[idx])) for idx, feature in enumerate(features)]\n",
    "\n",
    "# Convert list to a DataFrame\n",
    "importance_df = spark.createDataFrame(feature_importance_list, schema=[\"feature\", \"importance\"])\n",
    "\n",
    "# Step 5: Show the DataFrame\n",
    "importance_df.show(truncate=False)"
   ]
  },
  {
   "cell_type": "markdown",
   "metadata": {
    "application/vnd.databricks.v1+cell": {
     "cellMetadata": {
      "byteLimit": 2048000,
      "rowLimit": 10000
     },
     "inputWidgets": {},
     "nuid": "50e117a6-2bd2-486b-8f63-fcb2515ffc36",
     "showTitle": false,
     "tableResultSettingsMap": {},
     "title": ""
    }
   },
   "source": [
    "## Problem 6: Applying the Model to New Data"
   ]
  },
  {
   "cell_type": "code",
   "execution_count": 0,
   "metadata": {
    "application/vnd.databricks.v1+cell": {
     "cellMetadata": {
      "byteLimit": 2048000,
      "rowLimit": 10000
     },
     "inputWidgets": {},
     "nuid": "d5524969-fa7d-4987-be11-203ebb4e9e85",
     "showTitle": false,
     "tableResultSettingsMap": {},
     "title": ""
    }
   },
   "outputs": [
    {
     "output_type": "stream",
     "name": "stdout",
     "output_type": "stream",
     "text": [
      "+------+----+------------+-------------+------------+-------------+--------------+-----------------+----+---------------+\n|gender| age|hypertension|heart_disease|ever_married|    work_type|residence_type|avg_glucose_level| bmi| smoking_status|\n+------+----+------------+-------------+------------+-------------+--------------+-----------------+----+---------------+\n|Female|42.0|           1|            0|          No|      Private|         Urban|            182.1|26.8|         smokes|\n|Female|64.0|           1|            1|         Yes|Self-employed|         Rural|            171.5|32.5|formerly smoked|\n|  Male|37.0|           0|            0|         Yes|      Private|         Rural|             79.2|18.4|        Unknown|\n|  Male|72.0|           0|            1|          No|     Govt_job|         Urban|            125.7|19.4|   never smoked|\n+------+----+------------+-------------+------------+-------------+--------------+-----------------+----+---------------+\n\n"
     ]
    }
   ],
   "source": [
    "# Create schema\n",
    "schema = 'gender STRING, age DOUBLE, hypertension INT, heart_disease INT, ever_married STRING, work_type STRING, residence_type STRING, avg_glucose_level DOUBLE, bmi DOUBLE, smoking_status STRING'\n",
    "\n",
    "# Create the data\n",
    "data = [\n",
    "    (\"Female\", 42.0, 1, 0, \"No\", \"Private\", \"Urban\", 182.1, 26.8, \"smokes\"),\n",
    "    (\"Female\", 64.0, 1, 1, \"Yes\", \"Self-employed\", \"Rural\", 171.5, 32.5, \"formerly smoked\"),\n",
    "    (\"Male\", 37.0, 0, 0, \"Yes\", \"Private\", \"Rural\", 79.2, 18.4, \"Unknown\"),\n",
    "    (\"Male\", 72.0, 0, 1, \"No\", \"Govt_job\", \"Urban\", 125.7, 19.4, \"never smoked\")\n",
    "]\n",
    "\n",
    "# Create DataFrame with schema\n",
    "new_data = spark.createDataFrame(data, schema=schema)\n",
    "\n",
    "# Display DataFrame\n",
    "new_data.show()"
   ]
  },
  {
   "cell_type": "code",
   "execution_count": 0,
   "metadata": {
    "application/vnd.databricks.v1+cell": {
     "cellMetadata": {
      "byteLimit": 2048000,
      "rowLimit": 10000
     },
     "inputWidgets": {},
     "nuid": "a5046052-727f-4b09-b2d7-ba3148c4b02f",
     "showTitle": false,
     "tableResultSettingsMap": {},
     "title": ""
    }
   },
   "outputs": [
    {
     "output_type": "stream",
     "name": "stdout",
     "output_type": "stream",
     "text": [
      "+-----------------------------------------+----------+\n|probability                              |prediction|\n+-----------------------------------------+----------+\n|[0.3125,0.6875]                          |1.0       |\n|[0.3755020080321285,0.6244979919678715]  |1.0       |\n|[0.9767441860465116,0.023255813953488372]|0.0       |\n|[0.3755020080321285,0.6244979919678715]  |1.0       |\n+-----------------------------------------+----------+\n\n"
     ]
    }
   ],
   "source": [
    "# Create pipeline\n",
    "new_data_pipeline = pipeline.transform(new_data)\n",
    "\n",
    "# Use the model to make predictions\n",
    "predictions = model.transform(new_data_pipeline)\n",
    "\n",
    "# Display predictions\n",
    "predictions.select(\"probability\", \"prediction\").show(truncate=False)\n"
   ]
  }
 ],
 "metadata": {
  "application/vnd.databricks.v1+notebook": {
   "computePreferences": null,
   "dashboards": [],
   "environmentMetadata": null,
   "language": "python",
   "notebookMetadata": {
    "pythonIndentUnit": 4
   },
   "notebookName": "HW_07",
   "widgets": {}
  },
  "language_info": {
   "name": "python"
  }
 },
 "nbformat": 4,
 "nbformat_minor": 0
}