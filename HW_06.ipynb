{
 "cells": [
  {
   "cell_type": "markdown",
   "metadata": {
    "application/vnd.databricks.v1+cell": {
     "cellMetadata": {
      "byteLimit": 2048000,
      "rowLimit": 10000
     },
     "inputWidgets": {},
     "nuid": "80e446d3-e074-4dea-9b2c-6cc44a998610",
     "showTitle": false,
     "tableResultSettingsMap": {},
     "title": ""
    }
   },
   "source": [
    "# DSCI 617 – Homework 06.\n",
    "**Felix Asare**"
   ]
  },
  {
   "cell_type": "code",
   "execution_count": 0,
   "metadata": {
    "application/vnd.databricks.v1+cell": {
     "cellMetadata": {
      "byteLimit": 2048000,
      "rowLimit": 10000
     },
     "inputWidgets": {},
     "nuid": "f4e183f8-10aa-420d-9b2b-624c8d258fe1",
     "showTitle": false,
     "tableResultSettingsMap": {},
     "title": ""
    }
   },
   "outputs": [],
   "source": [
    "# Import libraries\n",
    "import pandas as pd\n",
    "import matplotlib.pyplot as plt\n",
    " \n",
    "from pyspark.sql import SparkSession\n",
    "from pyspark.sql.functions import col, expr\n",
    " \n",
    "from pyspark.ml.feature import VectorAssembler, OneHotEncoder, StringIndexer\n",
    "from pyspark.ml.evaluation import MulticlassClassificationEvaluator\n",
    "from pyspark.ml.classification import LogisticRegression, DecisionTreeClassifier\n",
    "from pyspark.ml import Pipeline\n",
    " \n",
    "from pyspark.ml.tuning import CrossValidator, ParamGridBuilder\n",
    " \n",
    "spark = SparkSession.builder.getOrCreate()"
   ]
  },
  {
   "cell_type": "markdown",
   "metadata": {
    "application/vnd.databricks.v1+cell": {
     "cellMetadata": {
      "byteLimit": 2048000,
      "rowLimit": 10000
     },
     "inputWidgets": {},
     "nuid": "97e184d4-73d1-474f-8732-e9268270e969",
     "showTitle": false,
     "tableResultSettingsMap": {},
     "title": ""
    }
   },
   "source": [
    "## Problem 1: Load Stroke Data"
   ]
  },
  {
   "cell_type": "code",
   "execution_count": 0,
   "metadata": {
    "application/vnd.databricks.v1+cell": {
     "cellMetadata": {
      "byteLimit": 2048000,
      "rowLimit": 10000
     },
     "inputWidgets": {},
     "nuid": "acfddc84-6b88-4da4-8a47-9d570c492d18",
     "showTitle": false,
     "tableResultSettingsMap": {},
     "title": ""
    }
   },
   "outputs": [
    {
     "output_type": "stream",
     "name": "stdout",
     "output_type": "stream",
     "text": [
      "root\n |-- gender: string (nullable = true)\n |-- age: double (nullable = true)\n |-- hypertension: integer (nullable = true)\n |-- heart_disease: integer (nullable = true)\n |-- ever_married: string (nullable = true)\n |-- work_type: string (nullable = true)\n |-- residence_type: string (nullable = true)\n |-- avg_glucose_level: double (nullable = true)\n |-- bmi: double (nullable = true)\n |-- smoking_status: string (nullable = true)\n |-- stroke: integer (nullable = true)\n\n"
     ]
    }
   ],
   "source": [
    "# Create Schema\n",
    "stroke_df = (\n",
    "    spark.read\n",
    "    .option(\"delimiter\", \",\")\n",
    "    .option(\"header\", True)\n",
    "    .schema(\n",
    "        'gender STRING, age DOUBLE, hypertension INT, heart_disease INT, ever_married STRING, work_type STRING, residence_type STRING, avg_glucose_level DOUBLE, bmi DOUBLE, smoking_status STRING, stroke INT'\n",
    "    )\n",
    "    .csv('/FileStore/tables/stroke_data.csv')\n",
    ")\n",
    "\n",
    "stroke_df.printSchema()\n"
   ]
  },
  {
   "cell_type": "code",
   "execution_count": 0,
   "metadata": {
    "application/vnd.databricks.v1+cell": {
     "cellMetadata": {
      "byteLimit": 2048000,
      "rowLimit": 10000
     },
     "inputWidgets": {},
     "nuid": "868dd1a0-5699-42d9-8a34-3940c92e0897",
     "showTitle": false,
     "tableResultSettingsMap": {},
     "title": ""
    }
   },
   "outputs": [
    {
     "output_type": "stream",
     "name": "stdout",
     "output_type": "stream",
     "text": [
      "+------+----+------------+-------------+------------+-------------+--------------+-----------------+----+---------------+------+\n|gender| age|hypertension|heart_disease|ever_married|    work_type|residence_type|avg_glucose_level| bmi| smoking_status|stroke|\n+------+----+------------+-------------+------------+-------------+--------------+-----------------+----+---------------+------+\n|Female|13.0|           0|            0|          No|      Private|         Urban|            77.63|31.7|   never smoked|     0|\n|  Male|10.0|           0|            0|          No|        Child|         Rural|            84.02|18.7|   never smoked|     0|\n|Female|82.0|           0|            1|         Yes|Self-employed|         Rural|             88.6|32.5|        Unknown|     0|\n|Female| 3.0|           0|            0|          No|        Child|         Urban|            57.33|16.8|        Unknown|     0|\n|Female|65.0|           0|            0|         Yes|Self-employed|         Rural|           220.52|37.2|         smokes|     0|\n|Female|65.0|           0|            0|         Yes|Self-employed|         Rural|           100.65|31.0|   never smoked|     1|\n|  Male|65.0|           0|            0|         Yes|      Private|         Rural|            56.64|28.4|formerly smoked|     1|\n|Female|28.0|           0|            0|         Yes|      Private|         Rural|            64.64|22.1|   never smoked|     0|\n|Female|80.0|           0|            0|         Yes|     Govt_job|         Urban|            84.86|29.3|        Unknown|     0|\n|  Male|78.0|           0|            0|         Yes|      Private|         Urban|            60.22|29.7|formerly smoked|     0|\n+------+----+------------+-------------+------------+-------------+--------------+-----------------+----+---------------+------+\nonly showing top 10 rows\n\n"
     ]
    }
   ],
   "source": [
    "# First 10 rows\n",
    "stroke_df.show(10)"
   ]
  },
  {
   "cell_type": "code",
   "execution_count": 0,
   "metadata": {
    "application/vnd.databricks.v1+cell": {
     "cellMetadata": {
      "byteLimit": 2048000,
      "rowLimit": 10000
     },
     "inputWidgets": {},
     "nuid": "e1db4182-683e-4ec8-887e-b960ecf69bec",
     "showTitle": false,
     "tableResultSettingsMap": {},
     "title": ""
    }
   },
   "outputs": [
    {
     "output_type": "stream",
     "name": "stdout",
     "output_type": "stream",
     "text": [
      "6853\n"
     ]
    }
   ],
   "source": [
    "# Number of Observations\n",
    "N = stroke_df.count()\n",
    "print(N)"
   ]
  },
  {
   "cell_type": "code",
   "execution_count": 0,
   "metadata": {
    "application/vnd.databricks.v1+cell": {
     "cellMetadata": {
      "byteLimit": 2048000,
      "rowLimit": 10000
     },
     "inputWidgets": {},
     "nuid": "e10d9115-3155-45e0-9531-be50635086b8",
     "showTitle": false,
     "tableResultSettingsMap": {},
     "title": ""
    }
   },
   "outputs": [
    {
     "output_type": "stream",
     "name": "stdout",
     "output_type": "stream",
     "text": [
      "+------+-----+------+\n|stroke|count|  prop|\n+------+-----+------+\n|     1| 1992|0.2907|\n|     0| 4861|0.7093|\n+------+-----+------+\n\n"
     ]
    }
   ],
   "source": [
    "# Proportion of Observations\n",
    "stroke_df.select('stroke').groupBy('stroke')\\\n",
    "    .agg(\n",
    "        expr('count(*) as count'),\n",
    "        expr(f'ROUND(COUNT(*)/{N}, 4) as prop')\n",
    "    ).show()"
   ]
  },
  {
   "cell_type": "markdown",
   "metadata": {
    "application/vnd.databricks.v1+cell": {
     "cellMetadata": {
      "byteLimit": 2048000,
      "rowLimit": 10000
     },
     "inputWidgets": {},
     "nuid": "748f8084-be0f-4ebe-b7a8-bf3f376ef43b",
     "showTitle": false,
     "tableResultSettingsMap": {},
     "title": ""
    }
   },
   "source": [
    "## Problem 2: Preprocessing"
   ]
  },
  {
   "cell_type": "code",
   "execution_count": 0,
   "metadata": {
    "application/vnd.databricks.v1+cell": {
     "cellMetadata": {
      "byteLimit": 2048000,
      "rowLimit": 10000
     },
     "inputWidgets": {},
     "nuid": "a2dbefbc-bac2-4790-9305-358083e7d878",
     "showTitle": false,
     "tableResultSettingsMap": {},
     "title": ""
    }
   },
   "outputs": [],
   "source": [
    "# Seperating Numeric and Categorical Columns\n",
    "num_features = ['age', 'avg_glucose_level', 'bmi']\n",
    "cat_features = [c for c in stroke_df.columns[:-1] if c not in num_features]\n",
    "\n",
    "\n",
    "#Integer encoding and One-Hot encoding\n",
    "ix_features = [c + '_ix' for c in cat_features]\n",
    "vec_features = [c + '_vec' for c in cat_features]\n",
    "\n",
    "# String Indexing\n",
    "label_indexer = StringIndexer(inputCol='stroke', outputCol='label')\n",
    "feature_indexer = StringIndexer(inputCols=cat_features, outputCols=ix_features)\n",
    "# One-Hot Encoding\n",
    "encoder = OneHotEncoder(inputCols=ix_features, outputCols=vec_features, dropLast=False)\n",
    "# Vector Assembler\n",
    "assember = VectorAssembler(inputCols=num_features+vec_features, outputCol='features')\n"
   ]
  },
  {
   "cell_type": "code",
   "execution_count": 0,
   "metadata": {
    "application/vnd.databricks.v1+cell": {
     "cellMetadata": {
      "byteLimit": 2048000,
      "rowLimit": 10000
     },
     "inputWidgets": {},
     "nuid": "6344d838-7710-4829-b7b5-bbefacfea79d",
     "showTitle": false,
     "tableResultSettingsMap": {},
     "title": ""
    }
   },
   "outputs": [
    {
     "output_type": "execute_result",
     "data": {
      "text/plain": [
       "DataFrame[gender: string, age: double, hypertension: int, heart_disease: int, ever_married: string, work_type: string, residence_type: string, avg_glucose_level: double, bmi: double, smoking_status: string, stroke: int, label: double, gender_ix: double, hypertension_ix: double, heart_disease_ix: double, ever_married_ix: double, work_type_ix: double, residence_type_ix: double, smoking_status_ix: double, gender_vec: vector, hypertension_vec: vector, heart_disease_vec: vector, ever_married_vec: vector, work_type_vec: vector, residence_type_vec: vector, smoking_status_vec: vector, features: vector]"
      ]
     },
     "execution_count": 7,
     "metadata": {},
     "output_type": "execute_result"
    }
   ],
   "source": [
    "# Create pipeline\n",
    "pipeline = Pipeline(stages=[label_indexer, feature_indexer, encoder, assember]).fit(stroke_df)\n",
    "train = pipeline.transform(stroke_df)\n",
    "#Persist train\n",
    "train.persist()"
   ]
  },
  {
   "cell_type": "markdown",
   "metadata": {
    "application/vnd.databricks.v1+cell": {
     "cellMetadata": {
      "byteLimit": 2048000,
      "rowLimit": 10000
     },
     "inputWidgets": {},
     "nuid": "254924a1-eb1c-4dc7-9d54-61b1302f1d05",
     "showTitle": false,
     "tableResultSettingsMap": {},
     "title": ""
    }
   },
   "source": [
    "## Problem 3: Hyperparameter Tuning for Logistic Regression"
   ]
  },
  {
   "cell_type": "code",
   "execution_count": 0,
   "metadata": {
    "application/vnd.databricks.v1+cell": {
     "cellMetadata": {
      "byteLimit": 2048000,
      "rowLimit": 10000
     },
     "inputWidgets": {},
     "nuid": "9a585013-1896-4528-a6d0-9c1169d0cb74",
     "showTitle": false,
     "tableResultSettingsMap": {},
     "title": ""
    }
   },
   "outputs": [],
   "source": [
    "# Accuracy matrix\n",
    "accuracy_eval = MulticlassClassificationEvaluator(\n",
    "    predictionCol='prediction', labelCol='label', metricName='accuracy')\n",
    "\n",
    "# Create Logistic Regression class\n",
    "logreg = LogisticRegression(labelCol='label', featuresCol='features')\n",
    "logreg_model = logreg.fit(train)\n",
    "\n",
    "# Create hyperparameter grid\n",
    "param_grid = (\n",
    "    ParamGridBuilder()\n",
    "            .addGrid(logreg.regParam, [0.0001, 0.001, 0.01, 0.1, 1])\n",
    "            .addGrid(logreg.elasticNetParam, [0, 0.5, 1])\n",
    ").build()\n",
    "\n",
    "# Create cross validator\n",
    "cv = CrossValidator(estimator=logreg, estimatorParamMaps=param_grid, evaluator=accuracy_eval, numFolds=5, seed=1)\n",
    "cv_model = cv.fit(train)\n"
   ]
  },
  {
   "cell_type": "code",
   "execution_count": 0,
   "metadata": {
    "application/vnd.databricks.v1+cell": {
     "cellMetadata": {
      "byteLimit": 2048000,
      "rowLimit": 10000
     },
     "inputWidgets": {},
     "nuid": "9ad427eb-ac93-4204-8f7e-6fe4c925fdb1",
     "showTitle": false,
     "tableResultSettingsMap": {},
     "title": ""
    }
   },
   "outputs": [
    {
     "output_type": "stream",
     "name": "stdout",
     "output_type": "stream",
     "text": [
      "Max CV Score:   0.774\nOptimal Lambda: 0.01\nOptimal Alpha:  0.0\n"
     ]
    }
   ],
   "source": [
    "#identify optimal model\n",
    "opt_model = cv_model.bestModel\n",
    " \n",
    "opt_regParam = opt_model.getRegParam()\n",
    "opt_enetParam = opt_model.getElasticNetParam()\n",
    " \n",
    "print('Max CV Score:  ', round(max(cv_model.avgMetrics),4))\n",
    "print('Optimal Lambda:', opt_regParam)\n",
    "print('Optimal Alpha: ', opt_enetParam)"
   ]
  },
  {
   "cell_type": "code",
   "execution_count": 0,
   "metadata": {
    "application/vnd.databricks.v1+cell": {
     "cellMetadata": {
      "byteLimit": 2048000,
      "rowLimit": 10000
     },
     "inputWidgets": {},
     "nuid": "8e052b6a-6d83-4352-b455-a1b2353b4b54",
     "showTitle": false,
     "tableResultSettingsMap": {},
     "title": ""
    }
   },
   "outputs": [
    {
     "output_type": "display_data",
     "data": {
      "image/png": "[encoded data removed]",
      "text/plain": [
       "<Figure size 640x480 with 1 Axes>"
      ]
     },
     "metadata": {},
     "output_type": "display_data"
    },
    {
     "output_type": "execute_result",
     "data": {
      "text/plain": [
       "(Text(0.5, 24.0, 'Regularization Parameter'),\n",
       " Text(24.00000000000002, 0.5, 'Cross-Validation Score'),\n",
       " None)"
      ]
     },
     "execution_count": 10,
     "metadata": {},
     "output_type": "execute_result"
    }
   ],
   "source": [
    "# plot cross validation result\n",
    "model_params = cv_model.getEstimatorParamMaps()\n",
    "lr_cv_summary_list = []\n",
    "for param_set, acc in zip(model_params, cv_model.avgMetrics):\n",
    "    new_set = list(param_set.values()) + [acc]\n",
    "    lr_cv_summary_list.append(new_set)\n",
    "\n",
    "cv_summary = pd.DataFrame(lr_cv_summary_list, \n",
    "                          columns=['reg_param', 'enet_param', 'acc'])\n",
    "\n",
    "for en in cv_summary.enet_param.unique():\n",
    "    sel = cv_summary.enet_param == en\n",
    "    plt.plot(cv_summary.reg_param[sel], cv_summary.acc[sel], label=en)\n",
    "    plt.scatter(cv_summary.reg_param[sel], cv_summary.acc[sel])\n",
    "\n",
    "plt.legend()\n",
    "plt.xscale('log')\n",
    "plt.grid()\n",
    "plt.xlabel('Regularization Parameter'), plt.ylabel('Cross-Validation Score'), plt.show()\n",
    "\n",
    "            "
   ]
  },
  {
   "cell_type": "markdown",
   "metadata": {
    "application/vnd.databricks.v1+cell": {
     "cellMetadata": {
      "byteLimit": 2048000,
      "rowLimit": 10000
     },
     "inputWidgets": {},
     "nuid": "1fbc4c9e-cc82-4994-80f1-5a25cefb3969",
     "showTitle": false,
     "tableResultSettingsMap": {},
     "title": ""
    }
   },
   "source": [
    "## Problem 4: Training Predictions"
   ]
  },
  {
   "cell_type": "code",
   "execution_count": 0,
   "metadata": {
    "application/vnd.databricks.v1+cell": {
     "cellMetadata": {
      "byteLimit": 2048000,
      "rowLimit": 10000
     },
     "inputWidgets": {},
     "nuid": "7066d824-18f3-4525-975e-64a3ed2dfeb9",
     "showTitle": false,
     "tableResultSettingsMap": {},
     "title": ""
    }
   },
   "outputs": [
    {
     "output_type": "stream",
     "name": "stdout",
     "output_type": "stream",
     "text": [
      "+-----------------------------------------+----------+-----+\n|probability                              |prediction|label|\n+-----------------------------------------+----------+-----+\n|[0.9747140890756103,0.0252859109243897]  |0.0       |0.0  |\n|[0.9872318011645983,0.0127681988354017]  |0.0       |0.0  |\n|[0.29265947121077845,0.7073405287892216] |1.0       |0.0  |\n|[0.9908447681537692,0.009155231846230794]|0.0       |0.0  |\n|[0.5429884231739687,0.45701157682603133] |0.0       |0.0  |\n|[0.7013317009925937,0.2986682990074063]  |0.0       |1.0  |\n|[0.6793380107028687,0.3206619892971313]  |0.0       |1.0  |\n|[0.9522140166448959,0.04778598335510409] |0.0       |0.0  |\n|[0.4894259348203679,0.5105740651796321]  |1.0       |0.0  |\n|[0.4749500136675296,0.5250499863324705]  |1.0       |0.0  |\n+-----------------------------------------+----------+-----+\nonly showing top 10 rows\n\n"
     ]
    }
   ],
   "source": [
    "# Generate predictions\n",
    "train_pred = opt_model.transform(train)\n",
    "train_pred.select('probability', 'prediction', 'label').show(10, truncate=False)"
   ]
  },
  {
   "cell_type": "code",
   "execution_count": 0,
   "metadata": {
    "application/vnd.databricks.v1+cell": {
     "cellMetadata": {
      "byteLimit": 2048000,
      "rowLimit": 10000
     },
     "inputWidgets": {},
     "nuid": "3148245e-9814-41f9-ac6d-2c15f061e101",
     "showTitle": false,
     "tableResultSettingsMap": {},
     "title": ""
    }
   },
   "outputs": [
    {
     "output_type": "stream",
     "name": "stdout",
     "output_type": "stream",
     "text": [
      "+----------------------------------------+----------+------+\n|probability                             |prediction|stroke|\n+----------------------------------------+----------+------+\n|[0.29265947121077845,0.7073405287892216]|1.0       |0     |\n|[0.7013317009925937,0.2986682990074063] |0.0       |1     |\n|[0.6793380107028687,0.3206619892971313] |0.0       |1     |\n|[0.4894259348203679,0.5105740651796321] |1.0       |0     |\n|[0.4749500136675296,0.5250499863324705] |1.0       |0     |\n|[0.3106588756065039,0.6893411243934962] |1.0       |0     |\n|[0.5111778916185864,0.4888221083814136] |0.0       |1     |\n|[0.5394169187722885,0.4605830812277115] |0.0       |1     |\n|[0.5501176180010955,0.4498823819989045] |0.0       |1     |\n|[0.6985579547487483,0.30144204525125173]|0.0       |1     |\n+----------------------------------------+----------+------+\nonly showing top 10 rows\n\n"
     ]
    }
   ],
   "source": [
    "# Filter rows where predictions is not equal to label\n",
    "train_pred.filter(train_pred.prediction != train_pred.label).select('probability', 'prediction', 'stroke').show(10, truncate=False)"
   ]
  },
  {
   "cell_type": "markdown",
   "metadata": {
    "application/vnd.databricks.v1+cell": {
     "cellMetadata": {
      "byteLimit": 2048000,
      "rowLimit": 10000
     },
     "inputWidgets": {},
     "nuid": "141461d0-10df-424b-8fd5-2e0a3dd6abb6",
     "showTitle": false,
     "tableResultSettingsMap": {},
     "title": ""
    }
   },
   "source": [
    "- The highest probability observed for an incorrect answer is [0.29265947121077845,0.7073405287892216], 0.7073\n",
    "- The lowest probability observed for an incorrect answer is [0.4894259348203679, 0.5105740651796321], 0.5106"
   ]
  },
  {
   "cell_type": "markdown",
   "metadata": {
    "application/vnd.databricks.v1+cell": {
     "cellMetadata": {
      "byteLimit": 2048000,
      "rowLimit": 10000
     },
     "inputWidgets": {},
     "nuid": "52cedcc2-05c2-4252-84b2-b9dd8004d3d4",
     "showTitle": false,
     "tableResultSettingsMap": {},
     "title": ""
    }
   },
   "source": [
    "## Problem 5: Classification Metrics"
   ]
  },
  {
   "cell_type": "code",
   "execution_count": 0,
   "metadata": {
    "application/vnd.databricks.v1+cell": {
     "cellMetadata": {
      "byteLimit": 2048000,
      "rowLimit": 10000
     },
     "inputWidgets": {},
     "nuid": "53862ee7-b14b-49a9-bdaf-d3fae53bfcf8",
     "showTitle": false,
     "tableResultSettingsMap": {},
     "title": ""
    }
   },
   "outputs": [
    {
     "output_type": "stream",
     "name": "stderr",
     "output_type": "stream",
     "text": [
      "/databricks/spark/python/pyspark/sql/context.py:165: FutureWarning: Deprecated in 3.0.0. Use SparkSession.builder.getOrCreate() instead.\n  warnings.warn(\n"
     ]
    },
    {
     "output_type": "stream",
     "name": "stdout",
     "output_type": "stream",
     "text": [
      "0.776010506347585\n"
     ]
    }
   ],
   "source": [
    "# RDD of prediction/label pair\n",
    "pred_and_labels = train_pred.rdd.map(lambda x:(x['prediction'],float(x['stroke'])))\n",
    "\n",
    "# Create a MulticlassMetrics object\n",
    "from pyspark.mllib.evaluation import MulticlassMetrics\n",
    "metrics = MulticlassMetrics(pred_and_labels)\n",
    "print(metrics.accuracy)"
   ]
  },
  {
   "cell_type": "code",
   "execution_count": 0,
   "metadata": {
    "application/vnd.databricks.v1+cell": {
     "cellMetadata": {
      "byteLimit": 2048000,
      "rowLimit": 10000
     },
     "inputWidgets": {},
     "nuid": "816f9588-ea9b-4dce-9d97-19ce9b140ead",
     "showTitle": false,
     "tableResultSettingsMap": {},
     "title": ""
    }
   },
   "outputs": [
    {
     "output_type": "stream",
     "name": "stdout",
     "output_type": "stream",
     "text": [
      "Confusion Matrix:\n        0      1\n0  4323.0  538.0\n1   997.0  995.0\n"
     ]
    }
   ],
   "source": [
    "# Extract Confusion Matrix\n",
    "conf_matrix = metrics.confusionMatrix().toArray()\n",
    "\n",
    "# Display Confusion Matrix in DataFrame\n",
    "conf_matrix_df = pd.DataFrame(conf_matrix, index=[0, 1], columns=[0, 1])\n",
    "\n",
    "# Display the confusion matrix\n",
    "print(\"Confusion Matrix:\")\n",
    "print(conf_matrix_df)\n",
    "\n"
   ]
  },
  {
   "cell_type": "code",
   "execution_count": 0,
   "metadata": {
    "application/vnd.databricks.v1+cell": {
     "cellMetadata": {
      "byteLimit": 2048000,
      "rowLimit": 10000
     },
     "inputWidgets": {},
     "nuid": "551ac8a4-e38e-47fd-8125-cfaa66de86ec",
     "showTitle": false,
     "tableResultSettingsMap": {},
     "title": ""
    }
   },
   "outputs": [
    {
     "output_type": "stream",
     "name": "stdout",
     "output_type": "stream",
     "text": [
      "Label     Precision       Recall\n--------------------------------\n0         0.8126          0.8893\n1         0.6491          0.4995\n"
     ]
    }
   ],
   "source": [
    "# Calculate precision and recall for label 0\n",
    "precision_0 = metrics.precision(0.0)\n",
    "recall_0 = metrics.recall(0.0)\n",
    "\n",
    "# Calculate precision and recall for label 1\n",
    "precision_1 = metrics.precision(1.0)\n",
    "recall_1 = metrics.recall(1.0)\n",
    "\n",
    "# Display the results rounded to 4 decimal places\n",
    "print(f\"{'Label':<10}{'Precision':<10}      {'Recall'}\")\n",
    "print(f\"{'-'*32}\")\n",
    "print(f\"{0:<10}{precision_0:.4f}{' ' * 10}{recall_0:.4f}\")\n",
    "print(f\"{1:<10}{precision_1:.4f}{' ' * 10}{recall_1:.4f}\")\n"
   ]
  },
  {
   "cell_type": "markdown",
   "metadata": {
    "application/vnd.databricks.v1+cell": {
     "cellMetadata": {
      "byteLimit": 2048000,
      "rowLimit": 10000
     },
     "inputWidgets": {},
     "nuid": "933b3e02-99b9-4490-be43-0411107da20f",
     "showTitle": false,
     "tableResultSettingsMap": {},
     "title": ""
    }
   },
   "source": [
    "## Problem 6: Applying the Model to New Data"
   ]
  },
  {
   "cell_type": "code",
   "execution_count": 0,
   "metadata": {
    "application/vnd.databricks.v1+cell": {
     "cellMetadata": {
      "byteLimit": 2048000,
      "rowLimit": 10000
     },
     "inputWidgets": {},
     "nuid": "be739726-5fd8-4611-9a6b-7e6d37533949",
     "showTitle": false,
     "tableResultSettingsMap": {},
     "title": ""
    }
   },
   "outputs": [
    {
     "output_type": "stream",
     "name": "stdout",
     "output_type": "stream",
     "text": [
      "+------+----+------------+-------------+------------+-------------+--------------+-----------------+----+---------------+\n|gender| age|hypertension|heart_disease|ever_married|    work_type|residence_type|avg_glucose_level| bmi| smoking_status|\n+------+----+------------+-------------+------------+-------------+--------------+-----------------+----+---------------+\n|Female|42.0|           1|            0|          No|      Private|         Urban|            182.1|26.8|         smokes|\n|Female|64.0|           1|            1|         Yes|Self-employed|         Rural|            171.5|32.5|formerly smoked|\n|  Male|37.0|           0|            0|         Yes|      Private|         Rural|             79.2|18.4|        Unknown|\n|  Male|72.0|           0|            1|          No|     Govt_job|         Urban|            125.7|19.4|   never smoked|\n+------+----+------------+-------------+------------+-------------+--------------+-----------------+----+---------------+\n\n"
     ]
    }
   ],
   "source": [
    "# Create new data\n",
    "schema = \"\"\"\n",
    "    gender STRING, \n",
    "    age DOUBLE, \n",
    "    hypertension INT, \n",
    "    heart_disease INT, \n",
    "    ever_married STRING, \n",
    "    work_type STRING, \n",
    "    residence_type STRING, \n",
    "    avg_glucose_level DOUBLE, \n",
    "    bmi DOUBLE, \n",
    "    smoking_status STRING\n",
    "\"\"\"\n",
    "\n",
    "# Data for the new DataFrame\n",
    "data = [\n",
    "    ('Female', 42.0, 1, 0, 'No', 'Private', 'Urban', 182.1, 26.8, 'smokes'),\n",
    "    ('Female', 64.0, 1, 1, 'Yes', 'Self-employed', 'Rural', 171.5, 32.5, 'formerly smoked'),\n",
    "    ('Male', 37.0, 0, 0, 'Yes', 'Private', 'Rural', 79.2, 18.4, 'Unknown'),\n",
    "    ('Male', 72.0, 0, 1, 'No', 'Govt_job', 'Urban', 125.7, 19.4, 'never smoked')\n",
    "]\n",
    "\n",
    "# Create the DataFrame using the DDL schema\n",
    "new_data = spark.createDataFrame(data, schema=schema)\n",
    "\n",
    "# Display the new DataFrame\n",
    "new_data.show()\n",
    "\n"
   ]
  },
  {
   "cell_type": "code",
   "execution_count": 0,
   "metadata": {
    "application/vnd.databricks.v1+cell": {
     "cellMetadata": {
      "byteLimit": 2048000,
      "rowLimit": 10000
     },
     "inputWidgets": {},
     "nuid": "1fc705f9-c4b9-464a-aaae-3519be5115f6",
     "showTitle": false,
     "tableResultSettingsMap": {},
     "title": ""
    }
   },
   "outputs": [
    {
     "output_type": "stream",
     "name": "stdout",
     "output_type": "stream",
     "text": [
      "+----------------------------------------+----------+\n|probability                             |prediction|\n+----------------------------------------+----------+\n|[0.7054270074784814,0.2945729925215186] |0.0       |\n|[0.2757821232703251,0.724217876729675]  |1.0       |\n|[0.9126460874571503,0.08735391254284974]|0.0       |\n|[0.40098498644373304,0.599015013556267] |1.0       |\n+----------------------------------------+----------+\n\n"
     ]
    }
   ],
   "source": [
    "# Process Data\n",
    "processed_new_data = pipeline.transform(new_data)\n",
    "\n",
    "# Step 2: Apply the trained cross-validated model to the processed data\n",
    "new_data_predictions = cv_model.transform(processed_new_data)\n",
    "\n",
    "# Step 3: Display the probability and prediction columns\n",
    "new_data_predictions.select('probability', 'prediction').show(truncate=False)"
   ]
  }
 ],
 "metadata": {
  "application/vnd.databricks.v1+notebook": {
   "computePreferences": null,
   "dashboards": [],
   "environmentMetadata": null,
   "language": "python",
   "notebookMetadata": {
    "pythonIndentUnit": 4
   },
   "notebookName": "HW_06",
   "widgets": {}
  },
  "language_info": {
   "name": "python"
  }
 },
 "nbformat": 4,
 "nbformat_minor": 0
}