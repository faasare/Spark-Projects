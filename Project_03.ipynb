{
 "cells": [
  {
   "cell_type": "markdown",
   "metadata": {
    "application/vnd.databricks.v1+cell": {
     "cellMetadata": {
      "byteLimit": 2048000,
      "rowLimit": 10000
     },
     "inputWidgets": {},
     "nuid": "3a4edebf-aab7-4b23-b291-c1f963d03818",
     "showTitle": false,
     "tableResultSettingsMap": {},
     "title": ""
    }
   },
   "source": [
    "# DSCI 617 – Project 03\n",
    "## Forest Cover Prediction\n",
    "**Felix Asare**\n"
   ]
  },
  {
   "cell_type": "markdown",
   "metadata": {
    "application/vnd.databricks.v1+cell": {
     "cellMetadata": {
      "byteLimit": 2048000,
      "rowLimit": 10000
     },
     "inputWidgets": {},
     "nuid": "5584da78-0c2a-4c88-9fbb-f52aa17e1116",
     "showTitle": false,
     "tableResultSettingsMap": {},
     "title": ""
    }
   },
   "source": [
    "## Part A: Set up Environment"
   ]
  },
  {
   "cell_type": "markdown",
   "metadata": {
    "application/vnd.databricks.v1+cell": {
     "cellMetadata": {
      "byteLimit": 2048000,
      "rowLimit": 10000
     },
     "inputWidgets": {},
     "nuid": "27967a35-ef43-49f3-b03b-0929056546a7",
     "showTitle": false,
     "tableResultSettingsMap": {},
     "title": ""
    }
   },
   "source": [
    "Creating libraries for the project"
   ]
  },
  {
   "cell_type": "code",
   "execution_count": 0,
   "metadata": {
    "application/vnd.databricks.v1+cell": {
     "cellMetadata": {
      "byteLimit": 2048000,
      "rowLimit": 10000
     },
     "inputWidgets": {},
     "nuid": "b29062a5-929e-499e-93d5-f3b2f7faf7dd",
     "showTitle": false,
     "tableResultSettingsMap": {},
     "title": ""
    }
   },
   "outputs": [],
   "source": [
    "# Import libraries\n",
    "import pandas as pd\n",
    "import matplotlib.pyplot as plt\n",
    " \n",
    "from pyspark.sql import SparkSession\n",
    "from pyspark.sql.functions import col, expr\n",
    " \n",
    "from pyspark.ml.feature import VectorAssembler, OneHotEncoder, StringIndexer\n",
    "from pyspark.ml.evaluation import MulticlassClassificationEvaluator\n",
    "from pyspark.ml.classification import LogisticRegression, DecisionTreeClassifier\n",
    "from pyspark.ml import Pipeline\n",
    " \n",
    "from pyspark.ml.tuning import CrossValidator, ParamGridBuilder\n",
    " \n",
    "spark = SparkSession.builder.getOrCreate()"
   ]
  },
  {
   "cell_type": "markdown",
   "metadata": {
    "application/vnd.databricks.v1+cell": {
     "cellMetadata": {
      "byteLimit": 2048000,
      "rowLimit": 10000
     },
     "inputWidgets": {},
     "nuid": "154e63aa-2fa1-44a7-8731-ff31cd027b08",
     "showTitle": false,
     "tableResultSettingsMap": {},
     "title": ""
    }
   },
   "source": [
    "## Part B: Load and Explore the Data"
   ]
  },
  {
   "cell_type": "markdown",
   "metadata": {
    "application/vnd.databricks.v1+cell": {
     "cellMetadata": {
      "byteLimit": 2048000,
      "rowLimit": 10000
     },
     "inputWidgets": {},
     "nuid": "7706c967-d3a3-4d59-a9df-11ff0a0aa195",
     "showTitle": false,
     "tableResultSettingsMap": {},
     "title": ""
    }
   },
   "source": [
    "Using DDL string to create schema for the DataFrame"
   ]
  },
  {
   "cell_type": "code",
   "execution_count": 0,
   "metadata": {
    "application/vnd.databricks.v1+cell": {
     "cellMetadata": {
      "byteLimit": 2048000,
      "rowLimit": 10000
     },
     "inputWidgets": {},
     "nuid": "f5e5032c-fb46-4895-beeb-1584bfdbcb96",
     "showTitle": false,
     "tableResultSettingsMap": {},
     "title": ""
    }
   },
   "outputs": [
    {
     "output_type": "stream",
     "name": "stdout",
     "output_type": "stream",
     "text": [
      "root\n |-- Elevation: integer (nullable = true)\n |-- Aspect: integer (nullable = true)\n |-- Slope: integer (nullable = true)\n |-- Horizontal_Distance_To_Hydrology: integer (nullable = true)\n |-- Vertical_Distance_To_Hydrology: integer (nullable = true)\n |-- Horizontal_Distance_To_Roadways: integer (nullable = true)\n |-- Hillshade_9am: integer (nullable = true)\n |-- Hillshade_Noon: integer (nullable = true)\n |-- Hillshade_3pm: integer (nullable = true)\n |-- Horizontal_Distance_To_Fire_Points: integer (nullable = true)\n |-- Wilderness_Area: string (nullable = true)\n |-- Soil_Type: integer (nullable = true)\n |-- Cover_Type: integer (nullable = true)\n\n"
     ]
    }
   ],
   "source": [
    "# Creating Schema\n",
    "fc = (\n",
    "    spark.read\n",
    "    .option(\"header\", True)\n",
    "    .option('delimiter', '\\t')\n",
    "    .schema(\n",
    "      'Elevation INT, Aspect INT, Slope INT, Horizontal_Distance_To_Hydrology INT, Vertical_Distance_To_Hydrology INT, Horizontal_Distance_To_Roadways INT, Hillshade_9am INT, Hillshade_Noon INT, Hillshade_3pm INT, Horizontal_Distance_To_Fire_Points INT, Wilderness_Area STRING, Soil_Type INT, Cover_Type INT'\n",
    "    )\n",
    "    .csv('/FileStore/tables/forest_cover.txt')\n",
    ")\n",
    "\n",
    "fc.printSchema()"
   ]
  },
  {
   "cell_type": "markdown",
   "metadata": {
    "application/vnd.databricks.v1+cell": {
     "cellMetadata": {
      "byteLimit": 2048000,
      "rowLimit": 10000
     },
     "inputWidgets": {},
     "nuid": "c8245165-fc28-4aa5-a4fb-0c365f150830",
     "showTitle": false,
     "tableResultSettingsMap": {},
     "title": ""
    }
   },
   "source": [
    "Viewing dataframe 3 rows"
   ]
  },
  {
   "cell_type": "code",
   "execution_count": 0,
   "metadata": {
    "application/vnd.databricks.v1+cell": {
     "cellMetadata": {
      "byteLimit": 2048000,
      "rowLimit": 10000
     },
     "inputWidgets": {},
     "nuid": "ada9dd5f-c1dc-4049-b54e-8666c0fe5888",
     "showTitle": false,
     "tableResultSettingsMap": {},
     "title": ""
    }
   },
   "outputs": [
    {
     "output_type": "stream",
     "name": "stdout",
     "output_type": "stream",
     "text": [
      "First 6 columns:\n+---------+------+-----+--------------------------------+------------------------------+-------------------------------+\n|Elevation|Aspect|Slope|Horizontal_Distance_To_Hydrology|Vertical_Distance_To_Hydrology|Horizontal_Distance_To_Roadways|\n+---------+------+-----+--------------------------------+------------------------------+-------------------------------+\n|     2596|    51|    3|                             258|                             0|                            510|\n|     2590|    56|    2|                             212|                            -6|                            390|\n|     2804|   139|    9|                             268|                            65|                           3180|\n+---------+------+-----+--------------------------------+------------------------------+-------------------------------+\nonly showing top 3 rows\n\nRemaining columns:\n+-------------+--------------+-------------+----------------------------------+---------------+---------+----------+\n|Hillshade_9am|Hillshade_Noon|Hillshade_3pm|Horizontal_Distance_To_Fire_Points|Wilderness_Area|Soil_Type|Cover_Type|\n+-------------+--------------+-------------+----------------------------------+---------------+---------+----------+\n|          221|           232|          148|                              6279|          Rawah|       29|         5|\n|          220|           235|          151|                              6225|          Rawah|       29|         5|\n|          234|           238|          135|                              6121|          Rawah|       12|         2|\n+-------------+--------------+-------------+----------------------------------+---------------+---------+----------+\nonly showing top 3 rows\n\n"
     ]
    }
   ],
   "source": [
    "column_list = fc.columns\n",
    "\n",
    "# Select the first 6 columns and display the first 3 rows\n",
    "first_six_columns = fc.select(column_list[:6])\n",
    "print(\"First 6 columns:\")\n",
    "first_six_columns.show(3)\n",
    "\n",
    "# Select all remaining columns and display the first 3 rows\n",
    "remaining_columns = fc.select(column_list[6:])\n",
    "print(\"Remaining columns:\")\n",
    "remaining_columns.show(3)"
   ]
  },
  {
   "cell_type": "markdown",
   "metadata": {
    "application/vnd.databricks.v1+cell": {
     "cellMetadata": {
      "byteLimit": 2048000,
      "rowLimit": 10000
     },
     "inputWidgets": {},
     "nuid": "5f94037b-bf39-4465-8e55-077bd1f179d3",
     "showTitle": false,
     "tableResultSettingsMap": {},
     "title": ""
    }
   },
   "source": [
    "Determining the number of Observation"
   ]
  },
  {
   "cell_type": "code",
   "execution_count": 0,
   "metadata": {
    "application/vnd.databricks.v1+cell": {
     "cellMetadata": {
      "byteLimit": 2048000,
      "rowLimit": 10000
     },
     "inputWidgets": {},
     "nuid": "297409b0-a30b-4d73-bf15-7e4ec1d8880e",
     "showTitle": false,
     "tableResultSettingsMap": {},
     "title": ""
    }
   },
   "outputs": [
    {
     "output_type": "stream",
     "name": "stdout",
     "output_type": "stream",
     "text": [
      "15120\n"
     ]
    }
   ],
   "source": [
    "# Count Observation\n",
    "N = fc.count()\n",
    "print(N)"
   ]
  },
  {
   "cell_type": "markdown",
   "metadata": {
    "application/vnd.databricks.v1+cell": {
     "cellMetadata": {
      "byteLimit": 2048000,
      "rowLimit": 10000
     },
     "inputWidgets": {},
     "nuid": "1645d43f-8b9b-44d6-9b59-2aa0a9e98109",
     "showTitle": false,
     "tableResultSettingsMap": {},
     "title": ""
    }
   },
   "source": [
    "Checking proportion of Cover_type"
   ]
  },
  {
   "cell_type": "code",
   "execution_count": 0,
   "metadata": {
    "application/vnd.databricks.v1+cell": {
     "cellMetadata": {
      "byteLimit": 2048000,
      "rowLimit": 10000
     },
     "inputWidgets": {},
     "nuid": "bea6593a-2a8e-4751-913e-05b2cbfe834e",
     "showTitle": false,
     "tableResultSettingsMap": {},
     "title": ""
    }
   },
   "outputs": [
    {
     "output_type": "stream",
     "name": "stdout",
     "output_type": "stream",
     "text": [
      "+----------+-----+------+\n|Cover_Type|count|  prop|\n+----------+-----+------+\n|         1| 2160|0.1429|\n|         6| 2160|0.1429|\n|         3| 2160|0.1429|\n|         5| 2160|0.1429|\n|         4| 2160|0.1429|\n|         7| 2160|0.1429|\n|         2| 2160|0.1429|\n+----------+-----+------+\n\n"
     ]
    }
   ],
   "source": [
    "#Proportion of observation\n",
    "fc.select('Cover_Type').groupBy('Cover_Type')\\\n",
    "    .agg(\n",
    "        expr('count(*) as count'),\n",
    "        expr(f'ROUND(COUNT(*)/{N}, 4) as prop')\n",
    "    ).show()"
   ]
  },
  {
   "cell_type": "markdown",
   "metadata": {
    "application/vnd.databricks.v1+cell": {
     "cellMetadata": {
      "byteLimit": 2048000,
      "rowLimit": 10000
     },
     "inputWidgets": {},
     "nuid": "b652f9a2-0288-4184-83d0-065ad778537f",
     "showTitle": false,
     "tableResultSettingsMap": {},
     "title": ""
    }
   },
   "source": [
    "## Part C: Preprocessing and Splitting the Data"
   ]
  },
  {
   "cell_type": "markdown",
   "metadata": {
    "application/vnd.databricks.v1+cell": {
     "cellMetadata": {
      "byteLimit": 2048000,
      "rowLimit": 10000
     },
     "inputWidgets": {},
     "nuid": "eb3b4100-1abd-4f06-92ee-8d657f6ab44e",
     "showTitle": false,
     "tableResultSettingsMap": {},
     "title": ""
    }
   },
   "source": [
    "Processing data of the dataframe"
   ]
  },
  {
   "cell_type": "code",
   "execution_count": 0,
   "metadata": {
    "application/vnd.databricks.v1+cell": {
     "cellMetadata": {
      "byteLimit": 2048000,
      "rowLimit": 10000
     },
     "inputWidgets": {},
     "nuid": "49cddbbb-1db1-4aef-89a4-5220471aeb0f",
     "showTitle": false,
     "tableResultSettingsMap": {},
     "title": ""
    }
   },
   "outputs": [],
   "source": [
    "# Seperating Numeric and Categorical Columns\n",
    "num_features = [\n",
    "    'Elevation', 'Aspect', 'Slope', 'Horizontal_Distance_To_Hydrology',\n",
    "    'Vertical_Distance_To_Hydrology', 'Horizontal_Distance_To_Roadways',\n",
    "    'Hillshade_9am', 'Hillshade_Noon', 'Hillshade_3pm', \n",
    "    'Horizontal_Distance_To_Fire_Points'\n",
    "]\n",
    "cat_features = ['Wilderness_Area', 'Soil_Type']\n",
    "\n",
    "ix_features = [c + '_ix' for c in cat_features]\n",
    "vec_features = [c + '_vec' for c in cat_features]\n",
    "\n",
    "\n",
    "feature_indexer = StringIndexer(inputCols=cat_features, outputCols=ix_features)\n",
    "encoder = OneHotEncoder(inputCols=ix_features, outputCols=vec_features, dropLast=False)\n",
    "\n",
    "assembler_lr = VectorAssembler(inputCols=num_features + vec_features, outputCol='features_lr')\n",
    "assembler_dt = VectorAssembler(inputCols=num_features + vec_features, outputCol='features_dt')\n"
   ]
  },
  {
   "cell_type": "markdown",
   "metadata": {
    "application/vnd.databricks.v1+cell": {
     "cellMetadata": {
      "byteLimit": 2048000,
      "rowLimit": 10000
     },
     "inputWidgets": {},
     "nuid": "625c0735-ea3f-4c06-97e4-7170cef6c125",
     "showTitle": false,
     "tableResultSettingsMap": {},
     "title": ""
    }
   },
   "source": [
    "Creating pipeline for the processed data"
   ]
  },
  {
   "cell_type": "code",
   "execution_count": 0,
   "metadata": {
    "application/vnd.databricks.v1+cell": {
     "cellMetadata": {
      "byteLimit": 2048000,
      "rowLimit": 10000
     },
     "inputWidgets": {},
     "nuid": "24a32185-ef93-4523-a6dd-e088dc67bb8f",
     "showTitle": false,
     "tableResultSettingsMap": {},
     "title": ""
    }
   },
   "outputs": [
    {
     "output_type": "stream",
     "name": "stdout",
     "output_type": "stream",
     "text": [
      "+--------------------------------------------------------------------------------------------------------+----------+\n|features_dt                                                                                             |Cover_Type|\n+--------------------------------------------------------------------------------------------------------+----------+\n|(52,[0,1,2,3,5,6,7,8,9,12,15],[2596.0,51.0,3.0,258.0,510.0,221.0,232.0,148.0,6279.0,1.0,1.0])           |5         |\n|(52,[0,1,2,3,4,5,6,7,8,9,12,15],[2590.0,56.0,2.0,212.0,-6.0,390.0,220.0,235.0,151.0,6225.0,1.0,1.0])    |5         |\n|(52,[0,1,2,3,4,5,6,7,8,9,12,34],[2804.0,139.0,9.0,268.0,65.0,3180.0,234.0,238.0,135.0,6121.0,1.0,1.0])  |2         |\n|(52,[0,1,2,3,4,5,6,7,8,9,12,20],[2785.0,155.0,18.0,242.0,118.0,3090.0,238.0,238.0,122.0,6211.0,1.0,1.0])|2         |\n|(52,[0,1,2,3,4,5,6,7,8,9,12,15],[2595.0,45.0,2.0,153.0,-1.0,391.0,220.0,234.0,150.0,6172.0,1.0,1.0])    |5         |\n+--------------------------------------------------------------------------------------------------------+----------+\nonly showing top 5 rows\n\n"
     ]
    }
   ],
   "source": [
    "# Create pipeline\n",
    "pipeline = Pipeline(stages=[feature_indexer, encoder, assembler_lr, assembler_dt]).fit(fc)\n",
    "fc_proc = pipeline.transform(fc)\n",
    "fc_proc.persist()\n",
    "\n",
    "# Displayng the first 5 rows of features_dt and Cover_Type\n",
    "fc_proc.select(['features_dt', 'Cover_Type']).show(5, truncate=False)"
   ]
  },
  {
   "cell_type": "markdown",
   "metadata": {
    "application/vnd.databricks.v1+cell": {
     "cellMetadata": {
      "byteLimit": 2048000,
      "rowLimit": 10000
     },
     "inputWidgets": {},
     "nuid": "9d1f98ca-3b9f-435f-81f4-437a3273cec7",
     "showTitle": false,
     "tableResultSettingsMap": {},
     "title": ""
    }
   },
   "source": [
    "Splitting Dataset into Training and Testing"
   ]
  },
  {
   "cell_type": "code",
   "execution_count": 0,
   "metadata": {
    "application/vnd.databricks.v1+cell": {
     "cellMetadata": {
      "byteLimit": 2048000,
      "rowLimit": 10000
     },
     "inputWidgets": {},
     "nuid": "562af938-1520-42fa-bbcc-d53c81737076",
     "showTitle": false,
     "tableResultSettingsMap": {},
     "title": ""
    }
   },
   "outputs": [
    {
     "output_type": "stream",
     "name": "stdout",
     "output_type": "stream",
     "text": [
      "Training Observation: 12118\nTesting Observation:  3002\n"
     ]
    }
   ],
   "source": [
    "# Split Dataset\n",
    "splits = fc_proc.randomSplit([0.8, 0.2], seed=1) \n",
    "train = splits[0]\n",
    "test = splits[1]\n",
    "\n",
    "train.persist()\n",
    "\n",
    "# Displaying the number of rows for train and test\n",
    "print(\"Training Observation:\", train.count())\n",
    "print(\"Testing Observation: \", test.count())"
   ]
  },
  {
   "cell_type": "markdown",
   "metadata": {
    "application/vnd.databricks.v1+cell": {
     "cellMetadata": {
      "byteLimit": 2048000,
      "rowLimit": 10000
     },
     "inputWidgets": {},
     "nuid": "a8c8947c-f234-4ffb-9805-c21bcaa849e3",
     "showTitle": false,
     "tableResultSettingsMap": {},
     "title": ""
    }
   },
   "source": [
    "## Part D: Hyperparameter for Logistic Regression"
   ]
  },
  {
   "cell_type": "markdown",
   "metadata": {
    "application/vnd.databricks.v1+cell": {
     "cellMetadata": {
      "byteLimit": 2048000,
      "rowLimit": 10000
     },
     "inputWidgets": {},
     "nuid": "3575bbcb-45a8-4a66-9b33-c7be03cff1b8",
     "showTitle": false,
     "tableResultSettingsMap": {},
     "title": ""
    }
   },
   "source": [
    "Creating an accuracy evaluator to be used when performing hyperparameter tuning."
   ]
  },
  {
   "cell_type": "code",
   "execution_count": 0,
   "metadata": {
    "application/vnd.databricks.v1+cell": {
     "cellMetadata": {
      "byteLimit": 2048000,
      "rowLimit": 10000
     },
     "inputWidgets": {},
     "nuid": "eb1836fb-daa5-4df5-8409-e99e1c2b307c",
     "showTitle": false,
     "tableResultSettingsMap": {},
     "title": ""
    }
   },
   "outputs": [],
   "source": [
    "# Accuracy evaluator\n",
    "accuracy_eval = MulticlassClassificationEvaluator(\n",
    "    predictionCol='prediction', labelCol='Cover_Type', metricName='accuracy')"
   ]
  },
  {
   "cell_type": "markdown",
   "metadata": {
    "application/vnd.databricks.v1+cell": {
     "cellMetadata": {
      "byteLimit": 2048000,
      "rowLimit": 10000
     },
     "inputWidgets": {},
     "nuid": "0197d388-81d6-420f-869c-ecd4393c5ac9",
     "showTitle": false,
     "tableResultSettingsMap": {},
     "title": ""
    }
   },
   "source": [
    "Creating Logistic Regression model and Cross validation"
   ]
  },
  {
   "cell_type": "code",
   "execution_count": 0,
   "metadata": {
    "application/vnd.databricks.v1+cell": {
     "cellMetadata": {
      "byteLimit": 2048000,
      "rowLimit": 10000
     },
     "inputWidgets": {},
     "nuid": "04de9a80-4b45-4d68-82a2-8fb6d5bae083",
     "showTitle": false,
     "tableResultSettingsMap": {},
     "title": ""
    }
   },
   "outputs": [],
   "source": [
    "# Create a Logistic Regression class\n",
    "logreg = LogisticRegression(featuresCol='features_lr', labelCol='Cover_Type')\n",
    "\n",
    "# Create hyperparameters\n",
    "paramGrid = (\n",
    "    ParamGridBuilder()\n",
    "        .addGrid(logreg.regParam, [0.00001, 0.0001, 0.001, 0.01, 0.1])\n",
    "        .addGrid(logreg.elasticNetParam, [0, 0.5, 1])\n",
    ").build()\n",
    "\n",
    "# Creating crossvalidator\n",
    "cv = CrossValidator(estimator=logreg, estimatorParamMaps=paramGrid, evaluator=accuracy_eval, numFolds=5, seed=1)\n",
    "\n",
    "# Fitting the model\n",
    "logreg_model = cv.fit(train)"
   ]
  },
  {
   "cell_type": "markdown",
   "metadata": {
    "application/vnd.databricks.v1+cell": {
     "cellMetadata": {
      "byteLimit": 2048000,
      "rowLimit": 10000
     },
     "inputWidgets": {},
     "nuid": "4028c34a-89b5-4f31-a1ef-9cb5d8854641",
     "showTitle": false,
     "tableResultSettingsMap": {},
     "title": ""
    }
   },
   "source": [
    "Retriving optimal model"
   ]
  },
  {
   "cell_type": "code",
   "execution_count": 0,
   "metadata": {
    "application/vnd.databricks.v1+cell": {
     "cellMetadata": {
      "byteLimit": 2048000,
      "rowLimit": 10000
     },
     "inputWidgets": {},
     "nuid": "dfd60932-1ca3-480e-8c73-9522c1b785ec",
     "showTitle": false,
     "tableResultSettingsMap": {},
     "title": ""
    }
   },
   "outputs": [
    {
     "output_type": "stream",
     "name": "stdout",
     "output_type": "stream",
     "text": [
      "Max CV Score:   0.7048\nOptimal Lambda: 1e-05\nOptimal Alpha:  0.0\n"
     ]
    }
   ],
   "source": [
    "# Optimal model found by grid search\n",
    "lr_model = logreg_model.bestModel\n",
    "\n",
    "# Identify the optimal hyperparameters\n",
    "opt_regParam = lr_model.getRegParam()\n",
    "opt_enetParam = lr_model.getElasticNetParam()\n",
    "\n",
    "# Printing the optimal hyperparameters\n",
    "print('Max CV Score:  ', round(max(logreg_model.avgMetrics),4))\n",
    "print('Optimal Lambda:', opt_regParam)\n",
    "print('Optimal Alpha: ', opt_enetParam)"
   ]
  },
  {
   "cell_type": "markdown",
   "metadata": {
    "application/vnd.databricks.v1+cell": {
     "cellMetadata": {
      "byteLimit": 2048000,
      "rowLimit": 10000
     },
     "inputWidgets": {},
     "nuid": "2c88cd0c-de81-4ae3-a7b1-19810486f46a",
     "showTitle": false,
     "tableResultSettingsMap": {},
     "title": ""
    }
   },
   "source": [
    "Visualizing the results of cross validation"
   ]
  },
  {
   "cell_type": "code",
   "execution_count": 0,
   "metadata": {
    "application/vnd.databricks.v1+cell": {
     "cellMetadata": {
      "byteLimit": 2048000,
      "rowLimit": 10000
     },
     "inputWidgets": {},
     "nuid": "f4eaf17b-b629-436f-9659-d2e996b27cca",
     "showTitle": false,
     "tableResultSettingsMap": {},
     "title": ""
    }
   },
   "outputs": [
    {
     "output_type": "display_data",
     "data": {
      "image/png": "[encoded data removed]",
      "text/plain": [
       "<Figure size 640x480 with 1 Axes>"
      ]
     },
     "metadata": {},
     "output_type": "display_data"
    }
   ],
   "source": [
    "# Plotting the cross-validation results\n",
    "model_params = logreg_model.getEstimatorParamMaps()\n",
    "lr_cv_summary_list = []\n",
    "for param_set, acc in zip(model_params, logreg_model.avgMetrics):\n",
    "    new_set = list(param_set.values()) + [acc] \n",
    "    lr_cv_summary_list.append(new_set)\n",
    "\n",
    "cv_summary = pd.DataFrame(lr_cv_summary_list,\n",
    "                          columns=['reg_param', 'enet_param', 'acc'])\n",
    "for en in cv_summary.enet_param.unique():\n",
    "    sel = cv_summary.enet_param == en \n",
    "    plt.plot(cv_summary.reg_param[sel], cv_summary.acc[sel], label=en) \n",
    "    plt.scatter(cv_summary.reg_param[sel], cv_summary.acc[sel])\n",
    "plt.legend()\n",
    "plt.xscale('log')\n",
    "plt.grid()\n",
    "plt.xlabel('Regularization Parameter') \n",
    "plt.ylabel('Cross-Validation Score') \n",
    "plt.show()"
   ]
  },
  {
   "cell_type": "markdown",
   "metadata": {
    "application/vnd.databricks.v1+cell": {
     "cellMetadata": {
      "byteLimit": 2048000,
      "rowLimit": 10000
     },
     "inputWidgets": {},
     "nuid": "307e8479-8544-45fb-b032-3a270575931c",
     "showTitle": false,
     "tableResultSettingsMap": {},
     "title": ""
    }
   },
   "source": [
    "## Part E: Hyperparameter Tuning for Decision Trees"
   ]
  },
  {
   "cell_type": "markdown",
   "metadata": {
    "application/vnd.databricks.v1+cell": {
     "cellMetadata": {
      "byteLimit": 2048000,
      "rowLimit": 10000
     },
     "inputWidgets": {},
     "nuid": "772a1065-7594-4977-9b0e-024c2d6f97e6",
     "showTitle": false,
     "tableResultSettingsMap": {},
     "title": ""
    }
   },
   "source": [
    "Performing grid search and cross-validation hyperparameter tuning for decision trees."
   ]
  },
  {
   "cell_type": "code",
   "execution_count": 0,
   "metadata": {
    "application/vnd.databricks.v1+cell": {
     "cellMetadata": {
      "byteLimit": 2048000,
      "rowLimit": 10000
     },
     "inputWidgets": {},
     "nuid": "ae8509d4-ebab-4b34-9c6e-d10a85e81f6c",
     "showTitle": false,
     "tableResultSettingsMap": {},
     "title": ""
    }
   },
   "outputs": [],
   "source": [
    "# Creating Decision Tree Classifier\n",
    "dt = DecisionTreeClassifier(labelCol='Cover_Type', featuresCol='features_dt', maxBins=38, seed=1)\n",
    "\n",
    "# # Grid search for the optimal hyperparameters\n",
    "dt_param_grid = (\n",
    "        ParamGridBuilder()\n",
    "        .addGrid(dt.maxDepth, [4, 6, 8, 10, 12, 14, 16, 18, 20, 22, 24])\n",
    "        .addGrid(dt.minInstancesPerNode, [1, 2, 4])\n",
    "        ).build()\n",
    "\n",
    "# Creating a cross-validator\n",
    "dt_crossval = CrossValidator(estimator=dt, estimatorParamMaps=dt_param_grid, evaluator=accuracy_eval, numFolds=5)\n",
    "\n",
    "# Fitting the cross-validator on the training data\n",
    "cv_model = dt_crossval.fit(train)\n"
   ]
  },
  {
   "cell_type": "markdown",
   "metadata": {
    "application/vnd.databricks.v1+cell": {
     "cellMetadata": {
      "byteLimit": 2048000,
      "rowLimit": 10000
     },
     "inputWidgets": {},
     "nuid": "d793978a-635c-4711-b5ed-833ac0411eef",
     "showTitle": false,
     "tableResultSettingsMap": {},
     "title": ""
    }
   },
   "source": [
    "Identifying the optimal model found by the grid search algorithm."
   ]
  },
  {
   "cell_type": "code",
   "execution_count": 0,
   "metadata": {
    "application/vnd.databricks.v1+cell": {
     "cellMetadata": {
      "byteLimit": 2048000,
      "rowLimit": 10000
     },
     "inputWidgets": {},
     "nuid": "486eb248-806c-444d-ba6c-1f6cc865d125",
     "showTitle": false,
     "tableResultSettingsMap": {},
     "title": ""
    }
   },
   "outputs": [
    {
     "output_type": "stream",
     "name": "stdout",
     "output_type": "stream",
     "text": [
      " Max CV Score:     0.7768887432924985\n Optimal Depth:    16\n Optimal MinInst:  1\n"
     ]
    }
   ],
   "source": [
    "# Optimal model\n",
    "dt_model = cv_model.bestModel\n",
    "\n",
    "# Identifying maxDepth and minInstancesPerNode\n",
    "dt_maxDepth = dt_model.getMaxDepth()\n",
    "dt_minInstancesPerNode = dt_model.getMinInstancesPerNode()\n",
    "dt_score =max(cv_model.avgMetrics)\n",
    " \n",
    "\n",
    "# Printing the optimal model\n",
    "print(\" Max CV Score:    \", dt_score)\n",
    "print(\" Optimal Depth:   \", dt_maxDepth)\n",
    "print(\" Optimal MinInst: \", dt_minInstancesPerNode)\n"
   ]
  },
  {
   "cell_type": "markdown",
   "metadata": {
    "application/vnd.databricks.v1+cell": {
     "cellMetadata": {
      "byteLimit": 2048000,
      "rowLimit": 10000
     },
     "inputWidgets": {},
     "nuid": "09347316-810b-4800-88c1-52c211573e47",
     "showTitle": false,
     "tableResultSettingsMap": {},
     "title": ""
    }
   },
   "source": [
    "Visualizing Cross-Validation results"
   ]
  },
  {
   "cell_type": "code",
   "execution_count": 0,
   "metadata": {
    "application/vnd.databricks.v1+cell": {
     "cellMetadata": {
      "byteLimit": 2048000,
      "rowLimit": 10000
     },
     "inputWidgets": {},
     "nuid": "2a171aaa-8297-4f28-83f2-f94948c6b54e",
     "showTitle": false,
     "tableResultSettingsMap": {},
     "title": ""
    }
   },
   "outputs": [
    {
     "output_type": "display_data",
     "data": {
      "image/png": "[encoded data removed]",
      "text/plain": [
       "<Figure size 640x480 with 1 Axes>"
      ]
     },
     "metadata": {},
     "output_type": "display_data"
    }
   ],
   "source": [
    "# Plotting the cross-validation results\n",
    "model_params = cv_model.getEstimatorParamMaps()\n",
    "\n",
    "dt_cv_summary_list = []\n",
    "for param_set, acc in zip(model_params, cv_model.avgMetrics):\n",
    "    new_set = list(param_set.values()) + [acc] \n",
    "    dt_cv_summary_list.append(new_set)\n",
    "cv_summary = pd.DataFrame(dt_cv_summary_list, \n",
    "                          columns=['maxDepth', 'minInst', 'acc'])\n",
    "for mi in cv_summary.minInst.unique():\n",
    "    sel = cv_summary.minInst == mi \n",
    "    plt.plot(cv_summary.maxDepth[sel], cv_summary.acc[sel], label=mi) \n",
    "    plt.scatter(cv_summary.maxDepth[sel], cv_summary.acc[sel])\n",
    "plt.legend()\n",
    "plt.grid()\n",
    "plt.xticks(range(4,26,2)) \n",
    "plt.xlabel('Max Depth') \n",
    "plt.ylabel('Cross-Validation Score') \n",
    "plt.show()"
   ]
  },
  {
   "cell_type": "markdown",
   "metadata": {
    "application/vnd.databricks.v1+cell": {
     "cellMetadata": {
      "byteLimit": 2048000,
      "rowLimit": 10000
     },
     "inputWidgets": {},
     "nuid": "cbeb49ce-d0b1-4ac1-9a8f-6e4198da4cd8",
     "showTitle": false,
     "tableResultSettingsMap": {},
     "title": ""
    }
   },
   "source": [
    "Displaying features and feature importance"
   ]
  },
  {
   "cell_type": "code",
   "execution_count": 0,
   "metadata": {
    "application/vnd.databricks.v1+cell": {
     "cellMetadata": {
      "byteLimit": 2048000,
      "rowLimit": 10000
     },
     "inputWidgets": {},
     "nuid": "db07e6f5-dbbb-4a1a-8fbd-3d1de79679e0",
     "showTitle": false,
     "tableResultSettingsMap": {},
     "title": ""
    }
   },
   "outputs": [
    {
     "output_type": "execute_result",
     "data": {
      "text/html": [
       "<div>\n",
       "<style scoped>\n",
       "    .dataframe tbody tr th:only-of-type {\n",
       "        vertical-align: middle;\n",
       "    }\n",
       "\n",
       "    .dataframe tbody tr th {\n",
       "        vertical-align: top;\n",
       "    }\n",
       "\n",
       "    .dataframe thead th {\n",
       "        text-align: right;\n",
       "    }\n",
       "</style>\n",
       "<table border=\"1\" class=\"dataframe\">\n",
       "  <thead>\n",
       "    <tr style=\"text-align: right;\">\n",
       "      <th></th>\n",
       "      <th>feature</th>\n",
       "      <th>importance</th>\n",
       "    </tr>\n",
       "  </thead>\n",
       "  <tbody>\n",
       "    <tr>\n",
       "      <th>0</th>\n",
       "      <td>Elevation</td>\n",
       "      <td>0.425148</td>\n",
       "    </tr>\n",
       "    <tr>\n",
       "      <th>5</th>\n",
       "      <td>Horizontal_Distance_To_Roadways</td>\n",
       "      <td>0.082644</td>\n",
       "    </tr>\n",
       "    <tr>\n",
       "      <th>3</th>\n",
       "      <td>Horizontal_Distance_To_Hydrology</td>\n",
       "      <td>0.072353</td>\n",
       "    </tr>\n",
       "    <tr>\n",
       "      <th>9</th>\n",
       "      <td>Horizontal_Distance_To_Fire_Points</td>\n",
       "      <td>0.067539</td>\n",
       "    </tr>\n",
       "    <tr>\n",
       "      <th>6</th>\n",
       "      <td>Hillshade_9am</td>\n",
       "      <td>0.051475</td>\n",
       "    </tr>\n",
       "    <tr>\n",
       "      <th>1</th>\n",
       "      <td>Aspect</td>\n",
       "      <td>0.050639</td>\n",
       "    </tr>\n",
       "    <tr>\n",
       "      <th>2</th>\n",
       "      <td>Slope</td>\n",
       "      <td>0.038455</td>\n",
       "    </tr>\n",
       "    <tr>\n",
       "      <th>4</th>\n",
       "      <td>Vertical_Distance_To_Hydrology</td>\n",
       "      <td>0.027053</td>\n",
       "    </tr>\n",
       "    <tr>\n",
       "      <th>7</th>\n",
       "      <td>Hillshade_Noon</td>\n",
       "      <td>0.020240</td>\n",
       "    </tr>\n",
       "    <tr>\n",
       "      <th>8</th>\n",
       "      <td>Hillshade_3pm</td>\n",
       "      <td>0.020077</td>\n",
       "    </tr>\n",
       "    <tr>\n",
       "      <th>12</th>\n",
       "      <td>Cover_Type</td>\n",
       "      <td>0.016780</td>\n",
       "    </tr>\n",
       "    <tr>\n",
       "      <th>17</th>\n",
       "      <td>features_lr</td>\n",
       "      <td>0.015093</td>\n",
       "    </tr>\n",
       "    <tr>\n",
       "      <th>16</th>\n",
       "      <td>Soil_Type_vec</td>\n",
       "      <td>0.014594</td>\n",
       "    </tr>\n",
       "    <tr>\n",
       "      <th>14</th>\n",
       "      <td>Soil_Type_ix</td>\n",
       "      <td>0.011961</td>\n",
       "    </tr>\n",
       "    <tr>\n",
       "      <th>10</th>\n",
       "      <td>Wilderness_Area</td>\n",
       "      <td>0.010378</td>\n",
       "    </tr>\n",
       "    <tr>\n",
       "      <th>15</th>\n",
       "      <td>Wilderness_Area_vec</td>\n",
       "      <td>0.005413</td>\n",
       "    </tr>\n",
       "    <tr>\n",
       "      <th>18</th>\n",
       "      <td>features_dt</td>\n",
       "      <td>0.003436</td>\n",
       "    </tr>\n",
       "    <tr>\n",
       "      <th>11</th>\n",
       "      <td>Soil_Type</td>\n",
       "      <td>0.001745</td>\n",
       "    </tr>\n",
       "    <tr>\n",
       "      <th>13</th>\n",
       "      <td>Wilderness_Area_ix</td>\n",
       "      <td>0.000686</td>\n",
       "    </tr>\n",
       "  </tbody>\n",
       "</table>\n",
       "</div>"
      ],
      "text/plain": [
       "                               feature  importance\n",
       "0                            Elevation    0.425148\n",
       "5      Horizontal_Distance_To_Roadways    0.082644\n",
       "3     Horizontal_Distance_To_Hydrology    0.072353\n",
       "9   Horizontal_Distance_To_Fire_Points    0.067539\n",
       "6                        Hillshade_9am    0.051475\n",
       "1                               Aspect    0.050639\n",
       "2                                Slope    0.038455\n",
       "4       Vertical_Distance_To_Hydrology    0.027053\n",
       "7                       Hillshade_Noon    0.020240\n",
       "8                        Hillshade_3pm    0.020077\n",
       "12                          Cover_Type    0.016780\n",
       "17                         features_lr    0.015093\n",
       "16                       Soil_Type_vec    0.014594\n",
       "14                        Soil_Type_ix    0.011961\n",
       "10                     Wilderness_Area    0.010378\n",
       "15                 Wilderness_Area_vec    0.005413\n",
       "18                         features_dt    0.003436\n",
       "11                           Soil_Type    0.001745\n",
       "13                  Wilderness_Area_ix    0.000686"
      ]
     },
     "execution_count": 16,
     "metadata": {},
     "output_type": "execute_result"
    }
   ],
   "source": [
    "# Features and feature importances\n",
    "features = num_features + ix_features\n",
    "pd.DataFrame(list(zip(fc_proc.columns, dt_model.featureImportances)), \n",
    "             columns=['feature', 'importance']).sort_values('importance', ascending=False)"
   ]
  },
  {
   "cell_type": "markdown",
   "metadata": {
    "application/vnd.databricks.v1+cell": {
     "cellMetadata": {
      "byteLimit": 2048000,
      "rowLimit": 10000
     },
     "inputWidgets": {},
     "nuid": "a3e8ab40-8f83-434b-a155-f6f718d839c9",
     "showTitle": false,
     "tableResultSettingsMap": {},
     "title": ""
    }
   },
   "source": [
    "## Part F: Identifying and Evaluating the Final Model"
   ]
  },
  {
   "cell_type": "markdown",
   "metadata": {
    "application/vnd.databricks.v1+cell": {
     "cellMetadata": {
      "byteLimit": 2048000,
      "rowLimit": 10000
     },
     "inputWidgets": {},
     "nuid": "0d70f4ef-1462-498a-8ed9-605f529d0289",
     "showTitle": false,
     "tableResultSettingsMap": {},
     "title": ""
    }
   },
   "source": [
    "The Decision Tree Model has a higher cross-validation (CV) score of 0.7769, compared to the Logistic Regression Model, which achieved a CV score of 0.7048. The cross-validation score indicates how well a model is expected to perform on unseen, out-of-sample data, and a higher score suggests better generalization to new data. The difference in scores (0.7769 vs. 0.7048) suggests that the Decision Tree is likely capturing more of the underlying patterns in the data, thus leading to better performance on unseen data. The Decision Tree's optimal depth of 16 allows it to model more complex relationships, while Logistic Regression, being a linear model, might struggle with capturing non-linear patterns, especially if the data exhibits such relationships."
   ]
  },
  {
   "cell_type": "markdown",
   "metadata": {
    "application/vnd.databricks.v1+cell": {
     "cellMetadata": {
      "byteLimit": 2048000,
      "rowLimit": 10000
     },
     "inputWidgets": {},
     "nuid": "a1c45868-4ca7-4a42-87c9-b12040ba15a0",
     "showTitle": false,
     "tableResultSettingsMap": {},
     "title": ""
    }
   },
   "source": [
    "Generating predictions with test data"
   ]
  },
  {
   "cell_type": "code",
   "execution_count": 0,
   "metadata": {
    "application/vnd.databricks.v1+cell": {
     "cellMetadata": {
      "byteLimit": 2048000,
      "rowLimit": 10000
     },
     "inputWidgets": {},
     "nuid": "1fcf967e-4fe4-48c5-94ed-f0f2766c7fb1",
     "showTitle": false,
     "tableResultSettingsMap": {},
     "title": ""
    }
   },
   "outputs": [
    {
     "output_type": "stream",
     "name": "stdout",
     "output_type": "stream",
     "text": [
      "+------------------------------------------------------------------------------+----------+----------+\n|probability                                                                   |prediction|Cover_Type|\n+------------------------------------------------------------------------------+----------+----------+\n|[0.0,0.0,0.0,0.15384615384615385,0.0,0.0,0.8461538461538461,0.0]              |6.0       |6         |\n|[0.0,0.0,0.0,0.0,0.0,0.0,1.0,0.0]                                             |6.0       |6         |\n|[0.0,0.0,0.0,0.8888888888888888,0.0,0.0,0.1111111111111111,0.0]               |3.0       |6         |\n|[0.0,0.0,0.0,1.0,0.0,0.0,0.0,0.0]                                             |3.0       |3         |\n|[0.0,0.0,0.0,1.0,0.0,0.0,0.0,0.0]                                             |3.0       |6         |\n|[0.0,0.0,0.0,1.0,0.0,0.0,0.0,0.0]                                             |3.0       |3         |\n|[0.0,0.0,0.0,0.3333333333333333,0.1111111111111111,0.0,0.5555555555555556,0.0]|6.0       |6         |\n|[0.0,0.0,0.0,1.0,0.0,0.0,0.0,0.0]                                             |3.0       |3         |\n|[0.0,0.0,0.0,0.0,1.0,0.0,0.0,0.0]                                             |4.0       |3         |\n|[0.0,0.0,0.0,0.0,0.0,0.0,1.0,0.0]                                             |6.0       |6         |\n+------------------------------------------------------------------------------+----------+----------+\nonly showing top 10 rows\n\n"
     ]
    }
   ],
   "source": [
    "\n",
    "# Transforming the test data\n",
    "test_pred = dt_model.transform(test)\n",
    "\n",
    "# Evaluating the model\n",
    "test_pred.select('probability', 'prediction', 'Cover_Type').show(10, truncate=False)"
   ]
  },
  {
   "cell_type": "markdown",
   "metadata": {
    "application/vnd.databricks.v1+cell": {
     "cellMetadata": {
      "byteLimit": 2048000,
      "rowLimit": 10000
     },
     "inputWidgets": {},
     "nuid": "88b15657-bfd9-421f-8e82-121e99d2c0e5",
     "showTitle": false,
     "tableResultSettingsMap": {},
     "title": ""
    }
   },
   "source": [
    "Calculating Accuracy of the dt_model on test"
   ]
  },
  {
   "cell_type": "code",
   "execution_count": 0,
   "metadata": {
    "application/vnd.databricks.v1+cell": {
     "cellMetadata": {
      "byteLimit": 2048000,
      "rowLimit": 10000
     },
     "inputWidgets": {},
     "nuid": "18d5fce5-c73d-478c-a04b-a276e3718bbb",
     "showTitle": false,
     "tableResultSettingsMap": {},
     "title": ""
    }
   },
   "outputs": [
    {
     "output_type": "stream",
     "name": "stderr",
     "output_type": "stream",
     "text": [
      "/databricks/spark/python/pyspark/sql/context.py:165: FutureWarning: Deprecated in 3.0.0. Use SparkSession.builder.getOrCreate() instead.\n  warnings.warn(\n"
     ]
    },
    {
     "output_type": "stream",
     "name": "stdout",
     "output_type": "stream",
     "text": [
      "Test Set Accuracy =  0.7848\n"
     ]
    }
   ],
   "source": [
    "from pyspark.mllib.evaluation import MulticlassMetrics\n",
    "pred_and_labels = test_pred.rdd.map(lambda x:(x['prediction'],float(x['Cover_Type'])))\n",
    "\n",
    "# Create MulticlassMetrics object\n",
    "metrics = MulticlassMetrics(pred_and_labels)\n",
    "\n",
    "# Print Accuracy\n",
    "print('Test Set Accuracy = ', round(metrics.accuracy, 4))\n"
   ]
  },
  {
   "cell_type": "markdown",
   "metadata": {
    "application/vnd.databricks.v1+cell": {
     "cellMetadata": {
      "byteLimit": 2048000,
      "rowLimit": 10000
     },
     "inputWidgets": {},
     "nuid": "6d6d501f-f9bc-4443-8cc4-5eb8f0639ba8",
     "showTitle": false,
     "tableResultSettingsMap": {},
     "title": ""
    }
   },
   "source": [
    "Creating Confusuin matrix"
   ]
  },
  {
   "cell_type": "code",
   "execution_count": 0,
   "metadata": {
    "application/vnd.databricks.v1+cell": {
     "cellMetadata": {
      "byteLimit": 2048000,
      "rowLimit": 10000
     },
     "inputWidgets": {},
     "nuid": "55e59acd-a62e-457c-896d-2d642bd275c2",
     "showTitle": false,
     "tableResultSettingsMap": {},
     "title": ""
    }
   },
   "outputs": [
    {
     "output_type": "stream",
     "name": "stdout",
     "output_type": "stream",
     "text": [
      "       1      2      3      4      5      6      7\n1  293.0  103.0    1.0    0.0   14.0    2.0   44.0\n2  103.0  216.0   10.0    0.0   62.0    9.0    5.0\n3    0.0    4.0  330.0   21.0    9.0   67.0    0.0\n4    0.0    1.0   16.0  434.0    0.0   20.0    0.0\n5    9.0   18.0    5.0    0.0  372.0    2.0    0.0\n6    0.0    2.0   64.0   12.0    6.0  316.0    0.0\n7   31.0    4.0    0.0    0.0    2.0    0.0  395.0\n"
     ]
    }
   ],
   "source": [
    "# Extract confusion matrix\n",
    "confusion_matrix = metrics.confusionMatrix().toArray()\n",
    "conf_matrix_df = pd.DataFrame(confusion_matrix, index=range(1,8), columns=range(1,8))\n",
    "\n",
    "# Print confusion matrix\n",
    "print(conf_matrix_df)\n",
    "\n"
   ]
  },
  {
   "cell_type": "markdown",
   "metadata": {
    "application/vnd.databricks.v1+cell": {
     "cellMetadata": {
      "byteLimit": 2048000,
      "rowLimit": 10000
     },
     "inputWidgets": {},
     "nuid": "034d290a-aabe-42f4-ba2c-4590fa949396",
     "showTitle": false,
     "tableResultSettingsMap": {},
     "title": ""
    }
   },
   "source": [
    "Observations in the test set with Cover Type 1 were misclassified by the model as Cover Type 2 a total of 103 times. This was the most common type of misclassification in the test set.\n"
   ]
  },
  {
   "cell_type": "markdown",
   "metadata": {
    "application/vnd.databricks.v1+cell": {
     "cellMetadata": {
      "byteLimit": 2048000,
      "rowLimit": 10000
     },
     "inputWidgets": {},
     "nuid": "3bc1accf-e45c-479b-96e0-c92aefcc4a2d",
     "showTitle": false,
     "tableResultSettingsMap": {},
     "title": ""
    }
   },
   "source": [
    "Getting deeper understanding of the model performance with precision and recall"
   ]
  },
  {
   "cell_type": "code",
   "execution_count": 0,
   "metadata": {
    "application/vnd.databricks.v1+cell": {
     "cellMetadata": {
      "byteLimit": 2048000,
      "rowLimit": 10000
     },
     "inputWidgets": {},
     "nuid": "a0bcbe1a-4af0-4b6a-8099-786798ebdab1",
     "showTitle": false,
     "tableResultSettingsMap": {},
     "title": ""
    }
   },
   "outputs": [
    {
     "output_type": "stream",
     "name": "stdout",
     "output_type": "stream",
     "text": [
      "Label   Precision   Recall\n--------------------------\n1      0.672      0.6411\n2      0.6207      0.5333\n3      0.7746      0.7657\n4      0.9293      0.9214\n5      0.8      0.9163\n6      0.7596      0.79\n7      0.8896      0.9144\n"
     ]
    }
   ],
   "source": [
    "# Display metrics\n",
    "print(\"Label   Precision   Recall\")\n",
    "print(\"--------------------------\")\n",
    "for label in range(1, 8):\n",
    "    print(f\"{label}      {round(metrics.precision(label), 4)}      {round(metrics.recall(label), 4)}\")"
   ]
  },
  {
   "cell_type": "markdown",
   "metadata": {
    "application/vnd.databricks.v1+cell": {
     "cellMetadata": {
      "byteLimit": 2048000,
      "rowLimit": 10000
     },
     "inputWidgets": {},
     "nuid": "58e60e3e-cc22-482a-b6df-e893c3342835",
     "showTitle": false,
     "tableResultSettingsMap": {},
     "title": ""
    }
   },
   "source": [
    "- The cover type most likely to be correctly classified by our final model is Cover Type 4, which has the highest precision (0.9293) and recall (0.9214). High precision indicates that when the model predicts Cover Type 4, it is correct 92.93% of the time. High recall suggests that the model correctly identifies 92.14% of the actual instances of Cover Type 4.\n",
    "\n",
    "- The cover type most likely to be misclassified by our final model is Cover Type 2, which has the lowest recall (0.5333) among all cover types. A recall of 53.33% indicates that only about half of the actual instances of Cover Type 2 are correctly identified by the model. This suggests that there may be significant confusion between Cover Type 2 and other cover types, leading to a higher chance of misclassification.\n",
    "\n",
    "- Cover Type 5 has the greatest difference between its precision (0.8) and recall (0.9163). This means that when the model predicts Cover Type 5, it is correct 80% of the time. This indicates that the model is able to identify 91.63% of the actual Cover Type 5 instances."
   ]
  },
  {
   "cell_type": "code",
   "execution_count": 0,
   "metadata": {
    "application/vnd.databricks.v1+cell": {
     "cellMetadata": {
      "byteLimit": 2048000,
      "rowLimit": 10000
     },
     "inputWidgets": {},
     "nuid": "8ba1f6a7-84c6-4080-9733-ddaba8a5eca5",
     "showTitle": false,
     "tableResultSettingsMap": {},
     "title": ""
    }
   },
   "outputs": [],
   "source": []
  }
 ],
 "metadata": {
  "application/vnd.databricks.v1+notebook": {
   "computePreferences": null,
   "dashboards": [],
   "environmentMetadata": null,
   "language": "python",
   "notebookMetadata": {
    "pythonIndentUnit": 4
   },
   "notebookName": "Project_03",
   "widgets": {}
  },
  "language_info": {
   "name": "python"
  }
 },
 "nbformat": 4,
 "nbformat_minor": 0
}