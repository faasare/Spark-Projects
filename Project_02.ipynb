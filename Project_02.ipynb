{
 "cells": [
  {
   "cell_type": "markdown",
   "metadata": {
    "application/vnd.databricks.v1+cell": {
     "cellMetadata": {
      "byteLimit": 2048000,
      "rowLimit": 10000
     },
     "inputWidgets": {},
     "nuid": "45ef0d7f-25bb-4e8e-a6d9-b5c5bce078d9",
     "showTitle": false,
     "tableResultSettingsMap": {},
     "title": ""
    }
   },
   "source": [
    "# DSCI 617 – Project 02\n",
    "## Student Grade Database\n",
    "**Felix Asare**"
   ]
  },
  {
   "cell_type": "markdown",
   "metadata": {
    "application/vnd.databricks.v1+cell": {
     "cellMetadata": {
      "byteLimit": 2048000,
      "rowLimit": 10000
     },
     "inputWidgets": {},
     "nuid": "c377f735-f83b-40c6-a0a5-a5d8d5c95b99",
     "showTitle": false,
     "tableResultSettingsMap": {},
     "title": ""
    }
   },
   "source": [
    "## Part A: Set up Environment"
   ]
  },
  {
   "cell_type": "code",
   "execution_count": 0,
   "metadata": {
    "application/vnd.databricks.v1+cell": {
     "cellMetadata": {
      "byteLimit": 2048000,
      "rowLimit": 10000
     },
     "inputWidgets": {},
     "nuid": "db9f837a-8c83-4112-97e5-d5dadd67e88f",
     "showTitle": false,
     "tableResultSettingsMap": {},
     "title": ""
    }
   },
   "outputs": [],
   "source": [
    "# import libraries (numpy, matplotlib, SparkSession, col, expr)\n",
    "import numpy as np\n",
    "import matplotlib.pyplot as plt\n",
    "from pyspark.sql import SparkSession\n",
    "from pyspark.sql.functions import col, expr\n",
    "\n",
    "spark = SparkSession.builder.getOrCreate()\n"
   ]
  },
  {
   "cell_type": "markdown",
   "metadata": {
    "application/vnd.databricks.v1+cell": {
     "cellMetadata": {
      "byteLimit": 2048000,
      "rowLimit": 10000
     },
     "inputWidgets": {},
     "nuid": "4ce08499-02ca-464d-9697-968d9db75398",
     "showTitle": false,
     "tableResultSettingsMap": {},
     "title": ""
    }
   },
   "source": [
    "## Part B: Load the Data"
   ]
  },
  {
   "cell_type": "markdown",
   "metadata": {
    "application/vnd.databricks.v1+cell": {
     "cellMetadata": {
      "byteLimit": 2048000,
      "rowLimit": 10000
     },
     "inputWidgets": {},
     "nuid": "eca61130-fba7-4432-8fd3-e016ba6ed93f",
     "showTitle": false,
     "tableResultSettingsMap": {},
     "title": ""
    }
   },
   "source": [
    "accepted, alumni, courses, expelled, faculty, grades, and unretained."
   ]
  },
  {
   "cell_type": "code",
   "execution_count": 0,
   "metadata": {
    "application/vnd.databricks.v1+cell": {
     "cellMetadata": {
      "byteLimit": 2048000,
      "rowLimit": 10000
     },
     "inputWidgets": {},
     "nuid": "8d2c8e6c-fae6-4913-89c4-18e47623ae3f",
     "showTitle": false,
     "tableResultSettingsMap": {},
     "title": ""
    }
   },
   "outputs": [
    {
     "output_type": "stream",
     "name": "stdout",
     "output_type": "stream",
     "text": [
      "root\n |-- acc_term_id: string (nullable = true)\n |-- sid: integer (nullable = true)\n |-- first_name: string (nullable = true)\n |-- last_name: string (nullable = true)\n |-- major: string (nullable = true)\n\n"
     ]
    }
   ],
   "source": [
    "# Accepted schema\n",
    "accepted_schema = (\"acc_term_id STRING, sid INT, first_name STRING, last_name STRING, major STRING\")\n",
    "accepted = (\n",
    "  spark.read\n",
    "  .option('delimeter', ',')\n",
    "  .option('header', 'true')\n",
    "  .schema(accepted_schema)\n",
    "  .csv('/FileStore/tables/univ/accepted.csv')\n",
    ")\n",
    "\n",
    "accepted.printSchema()\n",
    "\n"
   ]
  },
  {
   "cell_type": "code",
   "execution_count": 0,
   "metadata": {
    "application/vnd.databricks.v1+cell": {
     "cellMetadata": {
      "byteLimit": 2048000,
      "rowLimit": 10000
     },
     "inputWidgets": {},
     "nuid": "b6fa17a8-5578-47d9-ad80-7899a2161e33",
     "showTitle": false,
     "tableResultSettingsMap": {},
     "title": ""
    }
   },
   "outputs": [
    {
     "output_type": "stream",
     "name": "stdout",
     "output_type": "stream",
     "text": [
      "root\n |-- sid: integer (nullable = true)\n\n"
     ]
    }
   ],
   "source": [
    "# Alumni schema\n",
    "alumniSchema = \"sid INT\"\n",
    "alumni = (\n",
    "    spark.read\n",
    "    .option('delimeter', ',')\n",
    "    .option(\"header\", \"true\")\n",
    "    .schema(alumniSchema)\n",
    "    .csv('/FileStore/tables/univ/alumni.csv')\n",
    ")\n",
    "alumni.printSchema()"
   ]
  },
  {
   "cell_type": "code",
   "execution_count": 0,
   "metadata": {
    "application/vnd.databricks.v1+cell": {
     "cellMetadata": {
      "byteLimit": 2048000,
      "rowLimit": 10000
     },
     "inputWidgets": {},
     "nuid": "7862b348-fd1e-4891-aa6d-88da5f430f81",
     "showTitle": false,
     "tableResultSettingsMap": {},
     "title": ""
    }
   },
   "outputs": [
    {
     "output_type": "stream",
     "name": "stdout",
     "output_type": "stream",
     "text": [
      "root\n |-- sid: integer (nullable = true)\n\n"
     ]
    }
   ],
   "source": [
    "# Expelled schema\n",
    "expelledSchema = \"sid INT\"\n",
    "expelled = (spark.read\n",
    "  .option(\"delimeter\", \",\")\n",
    "  .option(\"header\", \"true\")       \n",
    "  .schema(expelledSchema)\n",
    "  .csv(\"/FileStore/tables/univ/expelled.csv\")\n",
    ")\n",
    "\n",
    "expelled.printSchema()"
   ]
  },
  {
   "cell_type": "code",
   "execution_count": 0,
   "metadata": {
    "application/vnd.databricks.v1+cell": {
     "cellMetadata": {
      "byteLimit": 2048000,
      "rowLimit": 10000
     },
     "inputWidgets": {},
     "nuid": "063671da-142d-4318-ad59-9ab8109e6ec7",
     "showTitle": false,
     "tableResultSettingsMap": {},
     "title": ""
    }
   },
   "outputs": [
    {
     "output_type": "stream",
     "name": "stdout",
     "output_type": "stream",
     "text": [
      "root\n |-- sid: integer (nullable = true)\n\n"
     ]
    }
   ],
   "source": [
    "unretainedSchema = \"sid INT\"\n",
    "unretained = (spark.read\n",
    "    .option(\"delimeter\", \",\")\n",
    "    .option(\"header\", \"true\")\n",
    "    .schema(unretainedSchema)\n",
    "    .csv(\"/FileStore/tables/univ/unretained.csv\")          \n",
    "    )\n",
    "\n",
    "unretained.printSchema()"
   ]
  },
  {
   "cell_type": "code",
   "execution_count": 0,
   "metadata": {
    "application/vnd.databricks.v1+cell": {
     "cellMetadata": {
      "byteLimit": 2048000,
      "rowLimit": 10000
     },
     "inputWidgets": {},
     "nuid": "b4977018-0089-4021-a17a-289dc87c87fb",
     "showTitle": false,
     "tableResultSettingsMap": {},
     "title": ""
    }
   },
   "outputs": [
    {
     "output_type": "stream",
     "name": "stdout",
     "output_type": "stream",
     "text": [
      "root\n |-- fid: integer (nullable = true)\n |-- first_name: string (nullable = true)\n |-- last_name: string (nullable = true)\n |-- dept: string (nullable = true)\n\n"
     ]
    }
   ],
   "source": [
    "facultySchema = 'fid INT, first_name STRING, last_name STRING, dept STRING'\n",
    "faculty = (\n",
    "    spark.read\n",
    "    .option(\"delimeter\", \",\")\n",
    "    .option(\"header\", \"true\")\n",
    "    .schema(facultySchema)\n",
    "    .csv(\"/FileStore/tables/univ/faculty.csv\")\n",
    ")\n",
    "faculty.printSchema()"
   ]
  },
  {
   "cell_type": "code",
   "execution_count": 0,
   "metadata": {
    "application/vnd.databricks.v1+cell": {
     "cellMetadata": {
      "byteLimit": 2048000,
      "rowLimit": 10000
     },
     "inputWidgets": {},
     "nuid": "3cc9a76b-655c-445d-9ff5-c170fe960964",
     "showTitle": false,
     "tableResultSettingsMap": {},
     "title": ""
    }
   },
   "outputs": [
    {
     "output_type": "stream",
     "name": "stdout",
     "output_type": "stream",
     "text": [
      "root\n |-- dept: string (nullable = true)\n |-- course: string (nullable = true)\n |-- prereq: string (nullable = true)\n |-- credits: integer (nullable = true)\n\n"
     ]
    }
   ],
   "source": [
    "coursesSchema = 'dept STRING, course STRING, prereq STRING, credits INT'\n",
    "courses = (\n",
    "    spark.read\n",
    "    .option(\"delimeter\", \",\")\n",
    "    .option(\"header\", \"true\")\n",
    "    .schema(coursesSchema)\n",
    "    .csv(\"/FileStore/tables/univ/courses.csv\")\n",
    ")\n",
    "courses.printSchema()"
   ]
  },
  {
   "cell_type": "code",
   "execution_count": 0,
   "metadata": {
    "application/vnd.databricks.v1+cell": {
     "cellMetadata": {
      "byteLimit": 2048000,
      "rowLimit": 10000
     },
     "inputWidgets": {},
     "nuid": "7fe74471-749b-4f36-a290-6a97cd540c62",
     "showTitle": false,
     "tableResultSettingsMap": {},
     "title": ""
    }
   },
   "outputs": [
    {
     "output_type": "stream",
     "name": "stdout",
     "output_type": "stream",
     "text": [
      "root\n |-- term_id: string (nullable = true)\n |-- course: string (nullable = true)\n |-- sid: integer (nullable = true)\n |-- fid: integer (nullable = true)\n |-- grade: string (nullable = true)\n\n"
     ]
    }
   ],
   "source": [
    "gradesSchema = 'term_id STRING, course STRING, sid INT, fid INT, grade STRING'\n",
    "grades = (\n",
    "    spark.read\n",
    "    .option(\"delimeter\", \",\")\n",
    "    .option(\"header\", \"true\")\n",
    "    .schema(gradesSchema)\n",
    "    .csv(\"/FileStore/tables/univ/grades.csv\")\n",
    ")\n",
    "grades.printSchema()"
   ]
  },
  {
   "cell_type": "code",
   "execution_count": 0,
   "metadata": {
    "application/vnd.databricks.v1+cell": {
     "cellMetadata": {
      "byteLimit": 2048000,
      "rowLimit": 10000
     },
     "inputWidgets": {},
     "nuid": "7efbb549-d091-4494-b723-9ddefdb8cfb6",
     "showTitle": false,
     "tableResultSettingsMap": {},
     "title": ""
    }
   },
   "outputs": [
    {
     "output_type": "stream",
     "name": "stdout",
     "output_type": "stream",
     "text": [
      "The number of records in accepted is   12207\nThe number of records in alumni is     4920\nThe number of records in courses is    119\nThe number of records in expelled is   403\nThe number of records in faculty is    330\nThe number of records in grades is     285137\nThe number of records in unretained is 2289\n"
     ]
    }
   ],
   "source": [
    "# Print DataFrames counts\n",
    "print(f\"The number of records in accepted is   {accepted.count()}\")\n",
    "print(f\"The number of records in alumni is     {alumni.count()}\")\n",
    "print(f\"The number of records in courses is    {courses.count()}\")\n",
    "print(f\"The number of records in expelled is   {expelled.count()}\")\n",
    "print(f\"The number of records in faculty is    {faculty.count()}\")\n",
    "print(f\"The number of records in grades is     {grades.count()}\")\n",
    "print(f\"The number of records in unretained is {unretained.count()}\")\n"
   ]
  },
  {
   "cell_type": "markdown",
   "metadata": {
    "application/vnd.databricks.v1+cell": {
     "cellMetadata": {
      "byteLimit": 2048000,
      "rowLimit": 10000
     },
     "inputWidgets": {},
     "nuid": "9da61225-7890-4153-afdb-f2e35c2ff6e3",
     "showTitle": false,
     "tableResultSettingsMap": {},
     "title": ""
    }
   },
   "source": [
    "## Part C: Student Count by Status"
   ]
  },
  {
   "cell_type": "code",
   "execution_count": 0,
   "metadata": {
    "application/vnd.databricks.v1+cell": {
     "cellMetadata": {
      "byteLimit": 2048000,
      "rowLimit": 10000
     },
     "inputWidgets": {},
     "nuid": "8cb9cb7d-0e0c-48f9-9d24-36e2d6a05431",
     "showTitle": false,
     "tableResultSettingsMap": {},
     "title": ""
    }
   },
   "outputs": [
    {
     "output_type": "stream",
     "name": "stdout",
     "output_type": "stream",
     "text": [
      "+-----------+------+----------+---------+-----+\n|acc_term_id|   sid|first_name|last_name|major|\n+-----------+------+----------+---------+-----+\n|      2000B|100001|    Jeremy|   Powell|  BIO|\n|      2000B|100004|      Anna|     Bell|  BIO|\n|      2000B|100006|    Amanda|  Kennedy|  CSC|\n|      2000B|100003|   Deborah| Williams|  MTH|\n|      2000B|100002|  Jennifer|   Morris|  BIO|\n+-----------+------+----------+---------+-----+\nonly showing top 5 rows\n\n"
     ]
    }
   ],
   "source": [
    "#1 Creating enrolled DataFrame\n",
    "enrolled = accepted.join(grades, on='sid', how='inner').select(\"acc_term_id\", \"sid\", \"first_name\", \"last_name\", \"major\").distinct()\n",
    "enrolled.show(5)"
   ]
  },
  {
   "cell_type": "code",
   "execution_count": 0,
   "metadata": {
    "application/vnd.databricks.v1+cell": {
     "cellMetadata": {
      "byteLimit": 2048000,
      "rowLimit": 10000
     },
     "inputWidgets": {},
     "nuid": "122fc424-b69c-469c-bd7f-fcc2e7435de1",
     "showTitle": false,
     "tableResultSettingsMap": {},
     "title": ""
    }
   },
   "outputs": [
    {
     "output_type": "stream",
     "name": "stdout",
     "output_type": "stream",
     "text": [
      "+------+-----------+----------+----------+-----+\n|   sid|acc_term_id|first_name| last_name|major|\n+------+-----------+----------+----------+-----+\n|107555|      2016A|   Carolyn|      Ford|  PHY|\n|106971|      2015B|      Rose|    Butler|  CHM|\n|107298|      2015B|     Kayla|    Barnes|  CSC|\n|106685|      2015A|      Sara|Richardson|  CHM|\n|106454|      2014B|     Doris|  Marshall|  BIO|\n+------+-----------+----------+----------+-----+\nonly showing top 5 rows\n\n"
     ]
    }
   ],
   "source": [
    "# Create current DataFrame\n",
    "current = enrolled.join(alumni, on='sid', how='left_anti')\n",
    "current = current.join(unretained, on='sid', how='left_anti')\n",
    "current = current.join(expelled, on='sid', how='left_anti')\n",
    "current.show(5)"
   ]
  },
  {
   "cell_type": "code",
   "execution_count": 0,
   "metadata": {
    "application/vnd.databricks.v1+cell": {
     "cellMetadata": {
      "byteLimit": 2048000,
      "rowLimit": 10000
     },
     "inputWidgets": {},
     "nuid": "2112d55e-43ae-47e9-8d7a-ebee265a40b9",
     "showTitle": false,
     "tableResultSettingsMap": {},
     "title": ""
    }
   },
   "outputs": [
    {
     "output_type": "stream",
     "name": "stdout",
     "output_type": "stream",
     "text": [
      "+------+-----------+----------+---------+-----+\n|   sid|acc_term_id|first_name|last_name|major|\n+------+-----------+----------+---------+-----+\n|100001|      2000B|    Jeremy|   Powell|  BIO|\n|100004|      2000B|      Anna|     Bell|  BIO|\n|100006|      2000B|    Amanda|  Kennedy|  CSC|\n|100003|      2000B|   Deborah| Williams|  MTH|\n|100002|      2000B|  Jennifer|   Morris|  BIO|\n+------+-----------+----------+---------+-----+\nonly showing top 5 rows\n\n"
     ]
    }
   ],
   "source": [
    "# Create former DataFrame\n",
    "former = enrolled.join(current, on='sid', how='left_anti')\n",
    "former.show(5)"
   ]
  },
  {
   "cell_type": "code",
   "execution_count": 0,
   "metadata": {
    "application/vnd.databricks.v1+cell": {
     "cellMetadata": {
      "byteLimit": 2048000,
      "rowLimit": 10000
     },
     "inputWidgets": {},
     "nuid": "eabcba62-aa4d-4fc2-a6fb-8e6ef813ac76",
     "showTitle": false,
     "tableResultSettingsMap": {},
     "title": ""
    }
   },
   "outputs": [
    {
     "output_type": "stream",
     "name": "stdout",
     "output_type": "stream",
     "text": [
      "Number of accepted students:     12207\nNumber of enrolled students:     9667\nNumber of current students:      2055\nNumber of former students:       7612\nNumber of unretained students:   2289\nNumber of expelled students:     403\nNumber of alumni:                4920\n"
     ]
    }
   ],
   "source": [
    "# Displaying the number of students in each DataFrame\n",
    "print(f'Number of accepted students:     {accepted.count()}')\n",
    "print(f'Number of enrolled students:     {enrolled.count()}')\n",
    "print(f'Number of current students:      {current.count()}')\n",
    "print(f'Number of former students:       {former.count()}')\n",
    "print(f'Number of unretained students:   {unretained.count()}')\n",
    "print(f'Number of expelled students:     {expelled.count()}')\n",
    "print(f'Number of alumni:                {alumni.count()}')"
   ]
  },
  {
   "cell_type": "markdown",
   "metadata": {
    "application/vnd.databricks.v1+cell": {
     "cellMetadata": {
      "byteLimit": 2048000,
      "rowLimit": 10000
     },
     "inputWidgets": {},
     "nuid": "609d2e43-70af-4ded-95bd-2aef96198609",
     "showTitle": false,
     "tableResultSettingsMap": {},
     "title": ""
    }
   },
   "source": [
    "## Part D: Distribution of Students by Major"
   ]
  },
  {
   "cell_type": "code",
   "execution_count": 0,
   "metadata": {
    "application/vnd.databricks.v1+cell": {
     "cellMetadata": {
      "byteLimit": 2048000,
      "rowLimit": 10000
     },
     "inputWidgets": {},
     "nuid": "1dccad7e-22df-4d11-a384-1546e4ce0bc5",
     "showTitle": false,
     "tableResultSettingsMap": {},
     "title": ""
    }
   },
   "outputs": [
    {
     "output_type": "stream",
     "name": "stdout",
     "output_type": "stream",
     "text": [
      "+----+---------+------+\n|dept|n_student|  prop|\n+----+---------+------+\n| PHY|      814|0.0664|\n| CSC|     1479|0.1207|\n| CHM|     1512|0.1234|\n| MTH|     1517|0.1238|\n| BIO|     1786|0.1458|\n| GEN|     5142|0.4198|\n+----+---------+------+\n\n"
     ]
    }
   ],
   "source": [
    "# Spring 2021\n",
    "sp21_enr = grades.filter(grades['term_id'] == '2021A').count()\n",
    "grades.filter(grades['term_id'] == '2021A') \\\n",
    "    .join(courses, on='course', how='inner') \\\n",
    "    .groupBy('dept') \\\n",
    "    .agg(expr('count(*) as n_student')) \\\n",
    "    .withColumn('prop', expr('ROUND(n_student / {}, 4)'.format(sp21_enr))).orderBy('prop').show()\n",
    "\n"
   ]
  },
  {
   "cell_type": "markdown",
   "metadata": {
    "application/vnd.databricks.v1+cell": {
     "cellMetadata": {
      "byteLimit": 2048000,
      "rowLimit": 10000
     },
     "inputWidgets": {},
     "nuid": "5d281b60-3c8c-4ee6-8067-6aa8a3b223b7",
     "showTitle": false,
     "tableResultSettingsMap": {},
     "title": ""
    }
   },
   "source": [
    "## Part F: Graduation Rates by Major"
   ]
  },
  {
   "cell_type": "code",
   "execution_count": 0,
   "metadata": {
    "application/vnd.databricks.v1+cell": {
     "cellMetadata": {
      "byteLimit": 2048000,
      "rowLimit": 10000
     },
     "inputWidgets": {},
     "nuid": "535f48a2-0deb-43e0-a13a-1f615e622d14",
     "showTitle": false,
     "tableResultSettingsMap": {},
     "title": ""
    }
   },
   "outputs": [
    {
     "output_type": "stream",
     "name": "stdout",
     "output_type": "stream",
     "text": [
      "+-----+--------+\n|major|n_former|\n+-----+--------+\n|  BIO|    2243|\n|  CHM|    1527|\n|  CSC|    1940|\n|  MTH|    1139|\n|  PHY|     763|\n+-----+--------+\n\n"
     ]
    }
   ],
   "source": [
    "# Grouping former\n",
    "former_by_major = former.groupBy('major').agg(expr('count(*) as n_former')).orderBy('major')\n",
    "former_by_major.show()"
   ]
  },
  {
   "cell_type": "code",
   "execution_count": 0,
   "metadata": {
    "application/vnd.databricks.v1+cell": {
     "cellMetadata": {
      "byteLimit": 2048000,
      "rowLimit": 10000
     },
     "inputWidgets": {},
     "nuid": "819c7954-097a-4dab-8fcc-74c6a463be61",
     "showTitle": false,
     "tableResultSettingsMap": {},
     "title": ""
    }
   },
   "outputs": [
    {
     "output_type": "stream",
     "name": "stdout",
     "output_type": "stream",
     "text": [
      "+-----+--------+\n|major|n_alumni|\n+-----+--------+\n|  BIO|    1485|\n|  CHM|    1017|\n|  CSC|    1231|\n|  MTH|     723|\n|  PHY|     464|\n+-----+--------+\n\n"
     ]
    }
   ],
   "source": [
    "# Records associated with alumni\n",
    "alumni_by_major = former.join(alumni, on='sid', how='inner').groupBy('major').agg(expr('count(*) as n_alumni')).orderBy('major')\n",
    "alumni_by_major.show()"
   ]
  },
  {
   "cell_type": "code",
   "execution_count": 0,
   "metadata": {
    "application/vnd.databricks.v1+cell": {
     "cellMetadata": {
      "byteLimit": 2048000,
      "rowLimit": 10000
     },
     "inputWidgets": {},
     "nuid": "97b4b538-fe95-4e38-90ec-6d56d4744087",
     "showTitle": false,
     "tableResultSettingsMap": {},
     "title": ""
    }
   },
   "outputs": [
    {
     "output_type": "stream",
     "name": "stdout",
     "output_type": "stream",
     "text": [
      "+-----+--------+--------+---------+\n|major|n_former|n_alumni|grad_rate|\n+-----+--------+--------+---------+\n|  BIO|    2243|    1485|   0.6621|\n|  CHM|    1527|    1017|    0.666|\n|  CSC|    1940|    1231|   0.6345|\n|  MTH|    1139|     723|   0.6348|\n|  PHY|     763|     464|   0.6081|\n+-----+--------+--------+---------+\n\n"
     ]
    }
   ],
   "source": [
    "# Joining former and alumni majors\n",
    "major_df = (\n",
    "    former_by_major\n",
    "    .join(alumni_by_major, on='major', how='outer')\n",
    "    .select('major', 'n_former', 'n_alumni')\n",
    "    .withColumn('grad_rate', expr('ROUND(n_alumni / n_former, 4)'))\n",
    "    .orderBy('major')\n",
    ")\n",
    "major_df.show()"
   ]
  },
  {
   "cell_type": "markdown",
   "metadata": {
    "application/vnd.databricks.v1+cell": {
     "cellMetadata": {
      "byteLimit": 2048000,
      "rowLimit": 10000
     },
     "inputWidgets": {},
     "nuid": "9261a19b-ff1f-4c30-a8ef-e458bce407a3",
     "showTitle": false,
     "tableResultSettingsMap": {},
     "title": ""
    }
   },
   "source": [
    "## Part G: Number of Terms Required for Graduation"
   ]
  },
  {
   "cell_type": "code",
   "execution_count": 0,
   "metadata": {
    "application/vnd.databricks.v1+cell": {
     "cellMetadata": {
      "byteLimit": 2048000,
      "rowLimit": 10000
     },
     "inputWidgets": {},
     "nuid": "1c1c45d8-9bc5-4262-91db-eb0dfe14573f",
     "showTitle": false,
     "tableResultSettingsMap": {},
     "title": ""
    }
   },
   "outputs": [
    {
     "output_type": "stream",
     "name": "stdout",
     "output_type": "stream",
     "text": [
      "+-------+--------+\n|n_terms|n_alumni|\n+-------+--------+\n|      7|     200|\n|      8|    3045|\n|      9|    1203|\n|     10|     241|\n|     11|     121|\n|     12|      46|\n|     13|      32|\n|     14|      14|\n|     15|       7|\n|     16|       7|\n|     17|       2|\n|     18|       1|\n|     25|       1|\n+-------+--------+\n\n"
     ]
    }
   ],
   "source": [
    "# Number of Terms Required for Graduation\n",
    "(\n",
    "    grades.join(alumni, on='sid', how='inner')\n",
    "        .groupBy('sid')\n",
    "        .agg(\n",
    "            expr('COUNT(DISTINCT term_id) as n_terms')\n",
    "        )\n",
    "        .groupBy('n_terms')\n",
    "        .agg(expr('COUNT(n_terms) as n_alumni'))\n",
    "        .orderBy('n_terms')\n",
    "        .show()\n",
    ")"
   ]
  },
  {
   "cell_type": "markdown",
   "metadata": {
    "application/vnd.databricks.v1+cell": {
     "cellMetadata": {
      "byteLimit": 2048000,
      "rowLimit": 10000
     },
     "inputWidgets": {},
     "nuid": "46170b27-d5d8-47f4-b8ea-c7bc6de80396",
     "showTitle": false,
     "tableResultSettingsMap": {},
     "title": ""
    }
   },
   "source": [
    "## Part H: Current Student GPA"
   ]
  },
  {
   "cell_type": "code",
   "execution_count": 0,
   "metadata": {
    "application/vnd.databricks.v1+cell": {
     "cellMetadata": {
      "byteLimit": 2048000,
      "rowLimit": 10000
     },
     "inputWidgets": {},
     "nuid": "0f259aeb-fa8a-4014-92dc-17020e07552a",
     "showTitle": false,
     "tableResultSettingsMap": {},
     "title": ""
    }
   },
   "outputs": [],
   "source": [
    "from pyspark.sql.types import IntegerType\n",
    "# Function to convert grades to numeric values\n",
    "def grade_to_numeric(grade):\n",
    "    if grade == 'A':\n",
    "        return 4\n",
    "    elif grade == 'B':\n",
    "        return 3\n",
    "    elif grade == 'C':\n",
    "        return 2\n",
    "    elif grade == 'D':\n",
    "        return 1\n",
    "    else:\n",
    "        return 0\n",
    "    \n",
    "# Register the function as a UDF\n",
    "udf_grade_to_numeric = udf(grade_to_numeric, IntegerType())"
   ]
  },
  {
   "cell_type": "code",
   "execution_count": 0,
   "metadata": {
    "application/vnd.databricks.v1+cell": {
     "cellMetadata": {
      "byteLimit": 2048000,
      "rowLimit": 10000
     },
     "inputWidgets": {},
     "nuid": "1b7c3b36-3c09-4ad1-aa23-72233057974a",
     "showTitle": false,
     "tableResultSettingsMap": {},
     "title": ""
    }
   },
   "outputs": [
    {
     "output_type": "stream",
     "name": "stdout",
     "output_type": "stream",
     "text": [
      "+------+----------+---------+-----+----+\n|   sid|first_name|last_name|major| gpa|\n+------+----------+---------+-----+----+\n|111582|       Amy|Alexander|  CHM|0.29|\n|111316|    Harold| Mitchell|  BIO|0.45|\n|111120|  Lawrence| Sullivan|  BIO|0.54|\n|111084|      Emma|    Ortiz|  PHY|0.57|\n|111947|     Peter| Crawford|  CSC| 0.6|\n|111008|     Wayne|  Coleman|  CSC| 0.6|\n|112082|   Barbara| Thompson|  PHY| 0.6|\n|111250|  Margaret|   Butler|  PHY|0.62|\n|111909| Christine|    Gomez|  BIO|0.65|\n|111258|     Alice|   Butler|  BIO|0.66|\n+------+----------+---------+-----+----+\nonly showing top 10 rows\n\n"
     ]
    }
   ],
   "source": [
    "# Creating current_gpa DataFrame\n",
    "current_gpa = (\n",
    "    grades.join(courses, on='course', how='inner')\n",
    "    .select('sid', 'credits', 'grade')\n",
    "    .withColumn('num_grades', udf_grade_to_numeric(col('grade')))\n",
    "    .withColumn('gp', expr('credits * num_grades'))\n",
    "    .groupBy('sid')\n",
    "    .agg(\n",
    "        expr('SUM(gp) as total_gp'),\n",
    "        expr('SUM(credits) as total_credits')\n",
    "    )\n",
    "    .withColumn('gpa', expr('ROUND(total_gp / total_credits, 2)'))\n",
    "    .join(current, on='sid', how='inner')\n",
    "    .select('sid', 'first_name', 'last_name', 'major', 'gpa')\n",
    "    .orderBy('gpa')\n",
    ")\n",
    "\n",
    "\n",
    "current_gpa.show(10)"
   ]
  },
  {
   "cell_type": "code",
   "execution_count": 0,
   "metadata": {
    "application/vnd.databricks.v1+cell": {
     "cellMetadata": {
      "byteLimit": 2048000,
      "rowLimit": 10000
     },
     "inputWidgets": {},
     "nuid": "008d53ac-d890-4227-a8e4-f36202d0434b",
     "showTitle": false,
     "tableResultSettingsMap": {},
     "title": ""
    }
   },
   "outputs": [
    {
     "output_type": "execute_result",
     "data": {
      "text/plain": [
       "95"
      ]
     },
     "execution_count": 21,
     "metadata": {},
     "output_type": "execute_result"
    }
   ],
   "source": [
    "# Count of students with GPA 4.0\n",
    "current_gpa.filter(col('gpa') == 4.0).count()"
   ]
  },
  {
   "cell_type": "code",
   "execution_count": 0,
   "metadata": {
    "application/vnd.databricks.v1+cell": {
     "cellMetadata": {
      "byteLimit": 2048000,
      "rowLimit": 10000
     },
     "inputWidgets": {},
     "nuid": "a06e23c3-926b-4c38-8703-fca40a7ee7c5",
     "showTitle": false,
     "tableResultSettingsMap": {},
     "title": ""
    }
   },
   "outputs": [
    {
     "output_type": "display_data",
     "data": {
      "image/png": "[encoded data removed]",
      "text/plain": [
       "<Figure size 640x480 with 1 Axes>"
      ]
     },
     "metadata": {},
     "output_type": "display_data"
    }
   ],
   "source": [
    "# Histogram for GPA distribution\n",
    "current_gpa_pd = current_gpa.toPandas()\n",
    "\n",
    "bins = [x * 0.25 for x in range(17)]\n",
    "color = 'darkcyan'\n",
    "plt.hist(current_gpa_pd['gpa'], bins=bins, color=color)\n",
    "plt.title('GPA Distribution for Current Students')\n",
    "plt.xlabel('GPA')\n",
    "plt.show()\n",
    "\n"
   ]
  },
  {
   "cell_type": "markdown",
   "metadata": {
    "application/vnd.databricks.v1+cell": {
     "cellMetadata": {
      "byteLimit": 2048000,
      "rowLimit": 10000
     },
     "inputWidgets": {},
     "nuid": "02dd7bdc-3ac8-43a9-9601-46231edd3d12",
     "showTitle": false,
     "tableResultSettingsMap": {},
     "title": ""
    }
   },
   "source": [
    "# Part I: Grade Distribution by Instructor"
   ]
  },
  {
   "cell_type": "code",
   "execution_count": 0,
   "metadata": {
    "application/vnd.databricks.v1+cell": {
     "cellMetadata": {
      "byteLimit": 2048000,
      "rowLimit": 10000
     },
     "inputWidgets": {},
     "nuid": "b1261ddb-0818-4710-87f2-933cddb15ab1",
     "showTitle": false,
     "tableResultSettingsMap": {},
     "title": ""
    }
   },
   "outputs": [
    {
     "output_type": "stream",
     "name": "stdout",
     "output_type": "stream",
     "text": [
      "+----+----------+---------+----+-----+-----+-----+-----+-----+\n| fid|first_name|last_name|   N|propA|propB|propC|propD|propF|\n+----+----------+---------+----+-----+-----+-----+-----+-----+\n|1088| Stephanie| Williams|1666| 0.17| 0.32| 0.36| 0.13| 0.01|\n|1238|    Willie|    Black| 682| 0.48| 0.33| 0.15| 0.04| 0.01|\n|1829|     Bobby|   Wilson| 640| 0.13| 0.26| 0.37|  0.2| 0.04|\n|1025|  Patricia|   Rogers|2950|  0.3| 0.33|  0.3| 0.07|  0.0|\n|1084|     Susan|  Edwards|  80| 0.14| 0.36| 0.38| 0.11| 0.01|\n+----+----------+---------+----+-----+-----+-----+-----+-----+\nonly showing top 5 rows\n\n"
     ]
    }
   ],
   "source": [
    "# Create faculty_grade_dist DataFrame\n",
    "faculty_grade_dist  = (\n",
    "    grades.groupBy('fid')\n",
    "    .agg(\n",
    "        expr('COUNT(*) AS N'),\n",
    "        expr(\"SUM(CASE WHEN grade = 'A' THEN 1 ELSE 0 END) as countA\"),\n",
    "        expr(\"SUM(CASE WHEN grade = 'B' THEN 1 ELSE 0 END) as countB\"),\n",
    "        expr(\"SUM(CASE WHEN grade = 'C' THEN 1 ELSE 0 END) as countC\"),\n",
    "        expr(\"SUM(CASE WHEN grade = 'D' THEN 1 ELSE 0 END) as countD\"),\n",
    "        expr(\"SUM(CASE WHEN grade = 'F' THEN 1 ELSE 0 END) as countF\")\n",
    "        )\n",
    "    .join(faculty, on='fid')\n",
    "    .select('fid', 'first_name', 'last_name', 'N', \n",
    "            expr(\"ROUND(countA / N, 2) as propA\"),\n",
    "        expr(\"ROUND(countB / N, 2) as propB\"),\n",
    "        expr(\"ROUND(countC / N, 2) as propC\"), \n",
    "        expr(\"ROUND(countD / N, 2) as propD\"),\n",
    "        expr(\"ROUND(countF / N, 2) as propF\")\n",
    "        )\n",
    ")\n",
    "\n",
    "faculty_grade_dist.show(5)"
   ]
  },
  {
   "cell_type": "code",
   "execution_count": 0,
   "metadata": {
    "application/vnd.databricks.v1+cell": {
     "cellMetadata": {
      "byteLimit": 2048000,
      "rowLimit": 10000
     },
     "inputWidgets": {},
     "nuid": "ec212a89-5e89-4f29-8f12-fd343a2026ce",
     "showTitle": false,
     "tableResultSettingsMap": {},
     "title": ""
    }
   },
   "outputs": [
    {
     "output_type": "stream",
     "name": "stdout",
     "output_type": "stream",
     "text": [
      "+----+----------+---------+---+-----+-----+-----+-----+-----+\n| fid|first_name|last_name|  N|propA|propB|propC|propD|propF|\n+----+----------+---------+---+-----+-----+-----+-----+-----+\n|1214|     Joyce|   Hunter|  4|  0.0| 0.75| 0.25|  0.0|  0.0|\n|1637|     Jesse|    Smith|  6|  0.0| 0.67| 0.33|  0.0|  0.0|\n|1018|      Sean|    Brown|  2|  0.0|  0.5|  0.5|  0.0|  0.0|\n|1193|     Nancy|Alexander|  5|  0.0|  0.6|  0.2|  0.2|  0.0|\n|2082|     Jerry|    Perry| 39| 0.05| 0.18| 0.49| 0.18|  0.1|\n|1908|      Kyle|    Henry| 66| 0.06| 0.23| 0.29|  0.3| 0.12|\n|2084| Christine| Crawford| 68| 0.06| 0.19| 0.35| 0.25| 0.15|\n|1448|     Linda|   Hunter| 27| 0.07| 0.33| 0.33| 0.22| 0.04|\n|1927|     Amber|     Gray| 85| 0.07| 0.25| 0.39|  0.2| 0.09|\n|1078| Christine|  Edwards| 37| 0.08| 0.38|  0.3| 0.16| 0.08|\n+----+----------+---------+---+-----+-----+-----+-----+-----+\nonly showing top 10 rows\n\n"
     ]
    }
   ],
   "source": [
    "# Faculty members with at least 100 A grades\n",
    "(\n",
    "faculty_grade_dist\n",
    ".filter(expr('N < 100'))\n",
    ".orderBy('propA')\n",
    ").show(10)"
   ]
  },
  {
   "cell_type": "code",
   "execution_count": 0,
   "metadata": {
    "application/vnd.databricks.v1+cell": {
     "cellMetadata": {
      "byteLimit": 2048000,
      "rowLimit": 10000
     },
     "inputWidgets": {},
     "nuid": "ed2193e2-ae15-4577-9a34-7ee63cfbcad1",
     "showTitle": false,
     "tableResultSettingsMap": {},
     "title": ""
    }
   },
   "outputs": [
    {
     "output_type": "stream",
     "name": "stdout",
     "output_type": "stream",
     "text": [
      "+----+----------+---------+----+-----+-----+-----+-----+-----+\n| fid|first_name|last_name|   N|propA|propB|propC|propD|propF|\n+----+----------+---------+----+-----+-----+-----+-----+-----+\n|1092|    Hannah|   Morgan|1953| 0.59|  0.3| 0.09| 0.01|  0.0|\n|1262|      Sara|   Hunter|2266| 0.57| 0.28| 0.12| 0.02|  0.0|\n|1094|      Judy|Patterson|1904| 0.55| 0.32| 0.12| 0.02|  0.0|\n|1548|    Donald|   Gibson|1478| 0.55| 0.27| 0.14| 0.03| 0.01|\n|1484|     Billy|   Cooper| 434| 0.54| 0.33| 0.09| 0.04| 0.01|\n|1058|      John|  Simpson|2729| 0.53| 0.33| 0.12| 0.02|  0.0|\n|1328|     David|   Parker|1543| 0.53| 0.28| 0.14| 0.04| 0.01|\n|1038|   Theresa|  Stevens| 233| 0.52| 0.31| 0.15| 0.02| 0.01|\n|1291|     Joyce|   Butler|2212| 0.51| 0.31| 0.14| 0.03| 0.01|\n|1305|     Betty|  Stewart|2081| 0.51| 0.31| 0.14| 0.04| 0.01|\n+----+----------+---------+----+-----+-----+-----+-----+-----+\nonly showing top 10 rows\n\n"
     ]
    }
   ],
   "source": [
    "# Faculty members with most A grades\n",
    "(\n",
    "faculty_grade_dist\n",
    ".filter(expr('N > 100'))\n",
    ".orderBy('propA', ascending=False)\n",
    ").show(10)"
   ]
  },
  {
   "cell_type": "markdown",
   "metadata": {
    "application/vnd.databricks.v1+cell": {
     "cellMetadata": {
      "byteLimit": 2048000,
      "rowLimit": 10000
     },
     "inputWidgets": {},
     "nuid": "a8e2839a-c145-4efd-8687-4e7d28f13f49",
     "showTitle": false,
     "tableResultSettingsMap": {},
     "title": ""
    }
   },
   "source": [
    "## Part J: First Term GPA"
   ]
  },
  {
   "cell_type": "code",
   "execution_count": 0,
   "metadata": {
    "application/vnd.databricks.v1+cell": {
     "cellMetadata": {
      "byteLimit": 2048000,
      "rowLimit": 10000
     },
     "inputWidgets": {},
     "nuid": "9f12e474-85c2-4800-9465-669b10873695",
     "showTitle": false,
     "tableResultSettingsMap": {},
     "title": ""
    }
   },
   "outputs": [
    {
     "output_type": "stream",
     "name": "stdout",
     "output_type": "stream",
     "text": [
      "+------+--------------+\n|   sid|first_term_gpa|\n+------+--------------+\n|100170|           2.0|\n|100446|           3.8|\n|100800|           0.4|\n|100884|           2.0|\n|100986|          0.33|\n+------+--------------+\nonly showing top 5 rows\n\n"
     ]
    }
   ],
   "source": [
    "# Create first_term_gpa DataFrame\n",
    "first_term_gpa = (\n",
    "    grades.join(accepted, on='sid', how='inner')\n",
    "    .filter(expr('term_id == acc_term_id'))\n",
    "    .withColumn('num_grades', udf_grade_to_numeric(expr('grade')))\n",
    "    .groupBy('sid')\n",
    "    .agg(\n",
    "        expr('SUM(num_grades) as total_gp'),\n",
    "        expr('COUNT(*) as total_courses')\n",
    "    )\n",
    "    .withColumn('first_term_gpa', expr('ROUND(total_gp / total_courses, 2)'))  \n",
    "    .select('sid', 'first_term_gpa')\n",
    ")\n",
    "\n",
    "# Print 5 rows\n",
    "first_term_gpa.show(5)"
   ]
  },
  {
   "cell_type": "markdown",
   "metadata": {
    "application/vnd.databricks.v1+cell": {
     "cellMetadata": {
      "byteLimit": 2048000,
      "rowLimit": 10000
     },
     "inputWidgets": {},
     "nuid": "807297ee-0daf-4f47-b1ac-dfdd32a2db3b",
     "showTitle": false,
     "tableResultSettingsMap": {},
     "title": ""
    }
   },
   "source": [
    "## Part K: Graduation Rates and First Term GPA"
   ]
  },
  {
   "cell_type": "code",
   "execution_count": 0,
   "metadata": {
    "application/vnd.databricks.v1+cell": {
     "cellMetadata": {
      "byteLimit": 2048000,
      "rowLimit": 10000
     },
     "inputWidgets": {},
     "nuid": "af0f7e31-af55-4e4a-b823-1febc6bf6b78",
     "showTitle": false,
     "tableResultSettingsMap": {},
     "title": ""
    }
   },
   "outputs": [],
   "source": [
    "# Function to represent specific GPA ranges\n",
    "from pyspark.sql.types import StringType\n",
    "def classify_gpa(gpa):\n",
    "    if 0 <= gpa < 1:\n",
    "        return '[0,1)'\n",
    "    elif 1 <= gpa < 2:\n",
    "        return '[1,2)'\n",
    "    elif 2 <= gpa < 3:\n",
    "        return '[2,3)'\n",
    "    elif 3 <= gpa <= 4:\n",
    "        return '[3,4]'\n",
    "    else:\n",
    "        return 'Invalid GPA'\n",
    "\n",
    "# Register the UDF function\n",
    "udf_classify_gpa = udf(classify_gpa, StringType())"
   ]
  },
  {
   "cell_type": "code",
   "execution_count": 0,
   "metadata": {
    "application/vnd.databricks.v1+cell": {
     "cellMetadata": {
      "byteLimit": 2048000,
      "rowLimit": 10000
     },
     "inputWidgets": {},
     "nuid": "ebff2613-1010-4a11-aafe-13774d21f345",
     "showTitle": false,
     "tableResultSettingsMap": {},
     "title": ""
    }
   },
   "outputs": [],
   "source": []
  },
  {
   "cell_type": "code",
   "execution_count": 0,
   "metadata": {
    "application/vnd.databricks.v1+cell": {
     "cellMetadata": {
      "byteLimit": 2048000,
      "rowLimit": 10000
     },
     "inputWidgets": {},
     "nuid": "6b3f93e3-ead5-4888-bdd0-7fcc1e259941",
     "showTitle": false,
     "tableResultSettingsMap": {},
     "title": ""
    }
   },
   "outputs": [
    {
     "output_type": "stream",
     "name": "stdout",
     "output_type": "stream",
     "text": [
      "+-------+--------+\n|gpa_bin|n_alumni|\n+-------+--------+\n|  [0,1)|       3|\n|  [1,2)|     528|\n|  [2,3)|    1860|\n|  [3,4]|    2529|\n+-------+--------+\n\n"
     ]
    }
   ],
   "source": [
    "# Create alumni_ft_gpa DataFrame\n",
    "alumni_ft_gpa = (\n",
    "    first_term_gpa\n",
    "    .join(alumni, on='sid', how='inner')\n",
    "    .withColumn('gpa_bin', udf_classify_gpa('first_term_gpa'))\n",
    "    .groupBy('gpa_bin')\n",
    "    .agg(expr('count(sid) as n_alumni'))\n",
    "    .orderBy('gpa_bin')\n",
    ")\n",
    "\n",
    "# Show results\n",
    "alumni_ft_gpa.show()"
   ]
  },
  {
   "cell_type": "code",
   "execution_count": 0,
   "metadata": {
    "application/vnd.databricks.v1+cell": {
     "cellMetadata": {
      "byteLimit": 2048000,
      "rowLimit": 10000
     },
     "inputWidgets": {},
     "nuid": "0075b241-8cc3-47b5-abac-a5ca52924243",
     "showTitle": false,
     "tableResultSettingsMap": {},
     "title": ""
    }
   },
   "outputs": [
    {
     "output_type": "stream",
     "name": "stdout",
     "output_type": "stream",
     "text": [
      "+-------+--------+\n|gpa_bin|n_former|\n+-------+--------+\n|  [0,1)|     800|\n|  [1,2)|    1727|\n|  [2,3)|    2409|\n|  [3,4]|    2676|\n+-------+--------+\n\n"
     ]
    }
   ],
   "source": [
    "# Create former_ft_gpa DataFrame\n",
    "former_ft_gpa = (\n",
    "    first_term_gpa\n",
    "    .join(former, on='sid', how='inner')\n",
    "    .withColumn('gpa_bin', udf_classify_gpa('first_term_gpa'))\n",
    "    .groupBy('gpa_bin')\n",
    "    .agg(expr('count(sid) as n_former'))\n",
    "    .orderBy('gpa_bin')\n",
    ")\n",
    "former_ft_gpa.show(10)"
   ]
  },
  {
   "cell_type": "code",
   "execution_count": 0,
   "metadata": {
    "application/vnd.databricks.v1+cell": {
     "cellMetadata": {
      "byteLimit": 2048000,
      "rowLimit": 10000
     },
     "inputWidgets": {},
     "nuid": "e98efae7-4124-453a-afaf-1c196801badf",
     "showTitle": false,
     "tableResultSettingsMap": {},
     "title": ""
    }
   },
   "outputs": [
    {
     "output_type": "stream",
     "name": "stdout",
     "output_type": "stream",
     "text": [
      "+-------+--------+--------+---------+\n|gpa_bin|n_alumni|n_former|grad_rate|\n+-------+--------+--------+---------+\n|  [0,1)|       3|     800|      0.0|\n|  [1,2)|     528|    1727|     0.31|\n|  [2,3)|    1860|    2409|     0.77|\n|  [3,4]|    2529|    2676|     0.95|\n+-------+--------+--------+---------+\n\n"
     ]
    }
   ],
   "source": [
    "# Graduation rates\n",
    "from pyspark.sql import functions as F\n",
    "combined_gpa = (\n",
    "    alumni_ft_gpa\n",
    "    .join(former_ft_gpa, on='gpa_bin', how='outer')\n",
    "    .select('gpa_bin', 'n_alumni', 'n_former')\n",
    "    .withColumn('grad_rate', \n",
    "        F.expr(\"ROUND(n_alumni / NULLIF(n_former, 0), 2)\")\n",
    "    )\n",
    "    .orderBy('gpa_bin')\n",
    ")\n",
    "\n",
    "# Show results\n",
    "combined_gpa.show()"
   ]
  }
 ],
 "metadata": {
  "application/vnd.databricks.v1+notebook": {
   "computePreferences": null,
   "dashboards": [],
   "environmentMetadata": null,
   "language": "python",
   "notebookMetadata": {
    "pythonIndentUnit": 4
   },
   "notebookName": "Project_02",
   "widgets": {}
  },
  "language_info": {
   "name": "python"
  }
 },
 "nbformat": 4,
 "nbformat_minor": 0
}