{
 "cells": [
  {
   "cell_type": "markdown",
   "metadata": {
    "application/vnd.databricks.v1+cell": {
     "cellMetadata": {
      "byteLimit": 2048000,
      "rowLimit": 10000
     },
     "inputWidgets": {},
     "nuid": "48f06921-614c-48c2-930e-61c4a6a52486",
     "showTitle": false,
     "tableResultSettingsMap": {},
     "title": ""
    }
   },
   "source": [
    "# DSCI 617 – Project 01\n",
    "## Analysis of NASA Server Logs\n",
    "**Felix Asare**"
   ]
  },
  {
   "cell_type": "markdown",
   "metadata": {
    "application/vnd.databricks.v1+cell": {
     "cellMetadata": {
      "byteLimit": 2048000,
      "rowLimit": 10000
     },
     "inputWidgets": {},
     "nuid": "0ba42cda-b4ee-4f03-8088-fd35f6013e0f",
     "showTitle": false,
     "tableResultSettingsMap": {},
     "title": ""
    }
   },
   "source": [
    "## Part A: Set up Environment"
   ]
  },
  {
   "cell_type": "markdown",
   "metadata": {
    "application/vnd.databricks.v1+cell": {
     "cellMetadata": {
      "byteLimit": 2048000,
      "rowLimit": 10000
     },
     "inputWidgets": {},
     "nuid": "fc3c1a1c-842d-40de-9529-7176d8ff2f61",
     "showTitle": false,
     "tableResultSettingsMap": {},
     "title": ""
    }
   },
   "source": [
    "Importing libraries for project"
   ]
  },
  {
   "cell_type": "code",
   "execution_count": 0,
   "metadata": {
    "application/vnd.databricks.v1+cell": {
     "cellMetadata": {
      "byteLimit": 2048000,
      "rowLimit": 10000
     },
     "inputWidgets": {},
     "nuid": "b4eca4f1-0d29-416a-bfeb-290c53205e77",
     "showTitle": false,
     "tableResultSettingsMap": {},
     "title": ""
    }
   },
   "outputs": [],
   "source": [
    "# Importing matplotlib, spark session\n",
    "import matplotlib.pyplot as plt\n",
    "from pyspark.sql import SparkSession"
   ]
  },
  {
   "cell_type": "markdown",
   "metadata": {
    "application/vnd.databricks.v1+cell": {
     "cellMetadata": {
      "byteLimit": 2048000,
      "rowLimit": 10000
     },
     "inputWidgets": {},
     "nuid": "d6f26ff0-ac2d-4ace-b800-e5cf9c68f8a5",
     "showTitle": false,
     "tableResultSettingsMap": {},
     "title": ""
    }
   },
   "source": [
    "Creating SparkSession and SparkContext objects."
   ]
  },
  {
   "cell_type": "code",
   "execution_count": 0,
   "metadata": {
    "application/vnd.databricks.v1+cell": {
     "cellMetadata": {
      "byteLimit": 2048000,
      "rowLimit": 10000
     },
     "inputWidgets": {},
     "nuid": "3b49929b-34d9-4f69-aa7f-e764f2a1b4d3",
     "showTitle": false,
     "tableResultSettingsMap": {},
     "title": ""
    }
   },
   "outputs": [],
   "source": [
    "# Spark Session and spark context\n",
    "spark = SparkSession.builder.getOrCreate()\n",
    "sc = spark.sparkContext"
   ]
  },
  {
   "cell_type": "markdown",
   "metadata": {
    "application/vnd.databricks.v1+cell": {
     "cellMetadata": {
      "byteLimit": 2048000,
      "rowLimit": 10000
     },
     "inputWidgets": {},
     "nuid": "bfe3bc37-edcd-4f8d-b732-5b2351d27011",
     "showTitle": false,
     "tableResultSettingsMap": {},
     "title": ""
    }
   },
   "source": [
    "## Part B: Load and Process Data\n"
   ]
  },
  {
   "cell_type": "markdown",
   "metadata": {
    "application/vnd.databricks.v1+cell": {
     "cellMetadata": {
      "byteLimit": 2048000,
      "rowLimit": 10000
     },
     "inputWidgets": {},
     "nuid": "f54cfc13-3d89-4ad4-b0b3-7ae8469a9ff8",
     "showTitle": false,
     "tableResultSettingsMap": {},
     "title": ""
    }
   },
   "source": [
    "Loading Data for NASA server logs"
   ]
  },
  {
   "cell_type": "code",
   "execution_count": 0,
   "metadata": {
    "application/vnd.databricks.v1+cell": {
     "cellMetadata": {
      "byteLimit": 2048000,
      "rowLimit": 10000
     },
     "inputWidgets": {},
     "nuid": "d3de2c35-c7c2-4121-a670-653ee547fd96",
     "showTitle": false,
     "tableResultSettingsMap": {},
     "title": ""
    }
   },
   "outputs": [
    {
     "output_type": "execute_result",
     "data": {
      "text/plain": [
       "1569888"
      ]
     },
     "execution_count": 3,
     "metadata": {},
     "output_type": "execute_result"
    }
   ],
   "source": [
    "# Loading NASA Data file\n",
    "nasa_raw = sc.textFile(\"/FileStore/tables/NASA_server_logs_Aug_1995.txt\")\n",
    "\n",
    "# Printing number of element in file\n",
    "nasa_raw.count()"
   ]
  },
  {
   "cell_type": "markdown",
   "metadata": {
    "application/vnd.databricks.v1+cell": {
     "cellMetadata": {
      "byteLimit": 2048000,
      "rowLimit": 10000
     },
     "inputWidgets": {},
     "nuid": "74039dc5-c720-4f8f-a73d-429eaf905fd2",
     "showTitle": false,
     "tableResultSettingsMap": {},
     "title": ""
    }
   },
   "source": [
    "Displaying the first few elements of the data"
   ]
  },
  {
   "cell_type": "code",
   "execution_count": 0,
   "metadata": {
    "application/vnd.databricks.v1+cell": {
     "cellMetadata": {
      "byteLimit": 2048000,
      "rowLimit": 10000
     },
     "inputWidgets": {},
     "nuid": "07e4a916-ab8f-43fd-9141-ab914bd1a5cc",
     "showTitle": false,
     "tableResultSettingsMap": {},
     "title": ""
    }
   },
   "outputs": [
    {
     "output_type": "stream",
     "name": "stdout",
     "output_type": "stream",
     "text": [
      "in24.inetnebr.com [01/Aug/1995:00:00:01] \"GET /shuttle/missions/sts-68/news/sts-68-mcc-05.txt\" 200 1839\nuplherc.upl.com [01/Aug/1995:00:00:07] \"GET /\" 304 0\nuplherc.upl.com [01/Aug/1995:00:00:08] \"GET /images/ksclogo-medium.gif\" 304 0\nuplherc.upl.com [01/Aug/1995:00:00:08] \"GET /images/MOSAIC-logosmall.gif\" 304 0\nuplherc.upl.com [01/Aug/1995:00:00:08] \"GET /images/USA-logosmall.gif\" 304 0\nix-esc-ca2-07.ix.netcom.com [01/Aug/1995:00:00:09] \"GET /images/launch-logo.gif\" 200 1713\nuplherc.upl.com [01/Aug/1995:00:00:10] \"GET /images/WORLD-logosmall.gif\" 304 0\nslppp6.intermind.net [01/Aug/1995:00:00:10] \"GET /history/skylab/skylab.html\" 200 1687\npiweba4y.prodigy.com [01/Aug/1995:00:00:10] \"GET /images/launchmedium.gif\" 200 11853\nslppp6.intermind.net [01/Aug/1995:00:00:11] \"GET /history/skylab/skylab-small.gif\" 200 9202\n"
     ]
    }
   ],
   "source": [
    "# Displaying first 10 rows\n",
    "for row in nasa_raw.take(10):\n",
    "    print(row)"
   ]
  },
  {
   "cell_type": "markdown",
   "metadata": {
    "application/vnd.databricks.v1+cell": {
     "cellMetadata": {
      "byteLimit": 2048000,
      "rowLimit": 10000
     },
     "inputWidgets": {},
     "nuid": "7f247834-997a-4eeb-afc2-1466d08a6698",
     "showTitle": false,
     "tableResultSettingsMap": {},
     "title": ""
    }
   },
   "source": [
    "Processing and tokenizing data"
   ]
  },
  {
   "cell_type": "code",
   "execution_count": 0,
   "metadata": {
    "application/vnd.databricks.v1+cell": {
     "cellMetadata": {
      "byteLimit": 2048000,
      "rowLimit": 10000
     },
     "inputWidgets": {},
     "nuid": "fedbe15e-1917-4dc8-b994-72990b3472d2",
     "showTitle": false,
     "tableResultSettingsMap": {},
     "title": ""
    }
   },
   "outputs": [
    {
     "output_type": "stream",
     "name": "stdout",
     "output_type": "stream",
     "text": [
      "['in24.inetnebr.com', '[01/Aug/1995:00:00:01]', 'GET', '/shuttle/missions/sts-68/news/sts-68-mcc-05.txt', '200', 1839]\n['uplherc.upl.com', '[01/Aug/1995:00:00:07]', 'GET', '/', '304', 0]\n['uplherc.upl.com', '[01/Aug/1995:00:00:08]', 'GET', '/images/ksclogo-medium.gif', '304', 0]\n['uplherc.upl.com', '[01/Aug/1995:00:00:08]', 'GET', '/images/MOSAIC-logosmall.gif', '304', 0]\n['uplherc.upl.com', '[01/Aug/1995:00:00:08]', 'GET', '/images/USA-logosmall.gif', '304', 0]\n['ix-esc-ca2-07.ix.netcom.com', '[01/Aug/1995:00:00:09]', 'GET', '/images/launch-logo.gif', '200', 1713]\n['uplherc.upl.com', '[01/Aug/1995:00:00:10]', 'GET', '/images/WORLD-logosmall.gif', '304', 0]\n['slppp6.intermind.net', '[01/Aug/1995:00:00:10]', 'GET', '/history/skylab/skylab.html', '200', 1687]\n['piweba4y.prodigy.com', '[01/Aug/1995:00:00:10]', 'GET', '/images/launchmedium.gif', '200', 11853]\n['slppp6.intermind.net', '[01/Aug/1995:00:00:11]', 'GET', '/history/skylab/skylab-small.gif', '200', 9202]\n"
     ]
    }
   ],
   "source": [
    "# Function to process row\n",
    "def process_row(row):\n",
    "    #Replacing double quotes with empty strings\n",
    "    row = row.replace('\"', '')\n",
    "\n",
    "    #Tokenizing the string on space characters\n",
    "    tokens = row.split()\n",
    "\n",
    "    #Check if the last token (bytes) is a hyphen, replace it with 0\n",
    "    if tokens[-1] == '-':\n",
    "        tokens[-1] = '0'\n",
    "\n",
    "    # Coercing the bytes token to an integer\n",
    "    tokens[-1] = int(tokens[-1])\n",
    "\n",
    "    # Returning the resulting list of tokens\n",
    "    return tokens\n",
    "  \n",
    "# Applying the function to each row\n",
    "nasa = nasa_raw.map(process_row)\n",
    "nasa.persist()\n",
    "\n",
    "for row in nasa.take(10):\n",
    "    print(row)"
   ]
  },
  {
   "cell_type": "markdown",
   "metadata": {
    "application/vnd.databricks.v1+cell": {
     "cellMetadata": {
      "byteLimit": 2048000,
      "rowLimit": 10000
     },
     "inputWidgets": {},
     "nuid": "9288faf6-e003-40fe-8d51-a5cfb9471a64",
     "showTitle": false,
     "tableResultSettingsMap": {},
     "title": ""
    }
   },
   "source": [
    "## Part C: Most Requested Resources"
   ]
  },
  {
   "cell_type": "markdown",
   "metadata": {
    "application/vnd.databricks.v1+cell": {
     "cellMetadata": {
      "byteLimit": 2048000,
      "rowLimit": 10000
     },
     "inputWidgets": {},
     "nuid": "661bb19b-b674-4734-8ae2-3d614bd7b6e9",
     "showTitle": false,
     "tableResultSettingsMap": {},
     "title": ""
    }
   },
   "source": [
    "Finding resources that was requested most"
   ]
  },
  {
   "cell_type": "code",
   "execution_count": 0,
   "metadata": {
    "application/vnd.databricks.v1+cell": {
     "cellMetadata": {
      "byteLimit": 2048000,
      "rowLimit": 10000
     },
     "inputWidgets": {},
     "nuid": "8f7ce58f-e922-4d31-9add-f645efcdbfcc",
     "showTitle": false,
     "tableResultSettingsMap": {},
     "title": ""
    }
   },
   "outputs": [
    {
     "output_type": "stream",
     "name": "stdout",
     "output_type": "stream",
     "text": [
      "/images/NASA-logosmall.gif 97410\n/images/KSC-logosmall.gif 75337\n/images/MOSAIC-logosmall.gif 67448\n/images/USA-logosmall.gif 67068\n/images/WORLD-logosmall.gif 66444\n/images/ksclogo-medium.gif 62778\n/ksc.html 43688\n/history/apollo/images/apollo-logo1.gif 37826\n/images/launch-logo.gif 35138\n/ 30347\n"
     ]
    }
   ],
   "source": [
    "# Creating pair of rdd \n",
    "count_by_resource = (\n",
    "    nasa.map(lambda row: (row[3], 1)) \n",
    "        .reduceByKey(lambda a, b: a + b) \n",
    "        .sortBy(lambda x: x[1], ascending=False)\n",
    ")\n",
    "\n",
    "# Printing the top 10 resources\n",
    "for resource, count in count_by_resource.take(10):\n",
    "    print(resource, count)"
   ]
  },
  {
   "cell_type": "markdown",
   "metadata": {
    "application/vnd.databricks.v1+cell": {
     "cellMetadata": {
      "byteLimit": 2048000,
      "rowLimit": 10000
     },
     "inputWidgets": {},
     "nuid": "6b2dd5b2-f87a-4465-b25a-c7251ac06b56",
     "showTitle": false,
     "tableResultSettingsMap": {},
     "title": ""
    }
   },
   "source": [
    "## Part D: Most Common Request Origins"
   ]
  },
  {
   "cell_type": "markdown",
   "metadata": {
    "application/vnd.databricks.v1+cell": {
     "cellMetadata": {
      "byteLimit": 2048000,
      "rowLimit": 10000
     },
     "inputWidgets": {},
     "nuid": "27f97a5e-c90c-4c71-b35c-eed3dc2b5473",
     "showTitle": false,
     "tableResultSettingsMap": {},
     "title": ""
    }
   },
   "source": [
    "Finding the most common request origins\n"
   ]
  },
  {
   "cell_type": "code",
   "execution_count": 0,
   "metadata": {
    "application/vnd.databricks.v1+cell": {
     "cellMetadata": {
      "byteLimit": 2048000,
      "rowLimit": 10000
     },
     "inputWidgets": {},
     "nuid": "0ae51d6a-3a3d-48a5-aaff-3ff5165f2985",
     "showTitle": false,
     "tableResultSettingsMap": {},
     "title": ""
    }
   },
   "outputs": [
    {
     "output_type": "stream",
     "name": "stdout",
     "output_type": "stream",
     "text": [
      "edams.ksc.nasa.gov 6530\npiweba4y.prodigy.com 4846\n163.206.89.4 4791\npiweba5y.prodigy.com 4607\npiweba3y.prodigy.com 4416\nwww-d1.proxy.aol.com 3889\nwww-b2.proxy.aol.com 3534\nwww-b3.proxy.aol.com 3463\nwww-c5.proxy.aol.com 3423\nwww-b5.proxy.aol.com 3411\n"
     ]
    }
   ],
   "source": [
    "# Creating rdd pairs for server origin\n",
    "count_by_origin = (\n",
    "    nasa.map(lambda row: (row[0], 1))\n",
    "        .reduceByKey(lambda a, b: a + b)\n",
    "        .sortBy(lambda x: x[1], ascending=False)\n",
    ")\n",
    "\n",
    "# Printing the top 10 origins\n",
    "for origin, count in count_by_origin.take(10):\n",
    "    print(origin, count)"
   ]
  },
  {
   "cell_type": "markdown",
   "metadata": {
    "application/vnd.databricks.v1+cell": {
     "cellMetadata": {
      "byteLimit": 2048000,
      "rowLimit": 10000
     },
     "inputWidgets": {},
     "nuid": "346d913e-70d2-4bbb-8d1e-c361c70e1a10",
     "showTitle": false,
     "tableResultSettingsMap": {},
     "title": ""
    }
   },
   "source": [
    "## Part E: Request Types"
   ]
  },
  {
   "cell_type": "markdown",
   "metadata": {
    "application/vnd.databricks.v1+cell": {
     "cellMetadata": {
      "byteLimit": 2048000,
      "rowLimit": 10000
     },
     "inputWidgets": {},
     "nuid": "6c26103d-d3d1-4765-91ea-31f6ba408dba",
     "showTitle": false,
     "tableResultSettingsMap": {},
     "title": ""
    }
   },
   "source": [
    "Analying records based on request type"
   ]
  },
  {
   "cell_type": "code",
   "execution_count": 0,
   "metadata": {
    "application/vnd.databricks.v1+cell": {
     "cellMetadata": {
      "byteLimit": 2048000,
      "rowLimit": 10000
     },
     "inputWidgets": {},
     "nuid": "82188d78-e29f-467a-89a6-0a0a84639549",
     "showTitle": false,
     "tableResultSettingsMap": {},
     "title": ""
    }
   },
   "outputs": [],
   "source": [
    "# Extracting the unique request types without using collect()\n",
    "req_types = nasa.map(lambda row: row[2]).distinct()\n",
    "\n",
    "\n",
    "\n"
   ]
  },
  {
   "cell_type": "markdown",
   "metadata": {
    "application/vnd.databricks.v1+cell": {
     "cellMetadata": {
      "byteLimit": 2048000,
      "rowLimit": 10000
     },
     "inputWidgets": {},
     "nuid": "323dad65-4ea5-4b45-bc8e-1b6ec361d8d3",
     "showTitle": false,
     "tableResultSettingsMap": {},
     "title": ""
    }
   },
   "source": [
    "Counting requests type\n"
   ]
  },
  {
   "cell_type": "code",
   "execution_count": 0,
   "metadata": {
    "application/vnd.databricks.v1+cell": {
     "cellMetadata": {
      "byteLimit": 2048000,
      "rowLimit": 10000
     },
     "inputWidgets": {},
     "nuid": "33e0087d-243c-4006-a2ad-9f4d66612e2e",
     "showTitle": false,
     "tableResultSettingsMap": {},
     "title": ""
    }
   },
   "outputs": [
    {
     "output_type": "stream",
     "name": "stdout",
     "output_type": "stream",
     "text": [
      "There were 1565812 GET requests\nThere were 3965 HEAD requests\nThere were 111 POST requests\n"
     ]
    }
   ],
   "source": [
    "#Loop through the unique request types using RDD transformations\n",
    "for req_type in req_types.collect():\n",
    "    #determine the number of requests for each request type\n",
    "    req_count = nasa.filter(lambda row: row[2] == req_type).count()\n",
    "    #print the request type and count\n",
    "    print(f'There were {req_count} {req_type} requests')\n",
    "\n"
   ]
  },
  {
   "cell_type": "markdown",
   "metadata": {
    "application/vnd.databricks.v1+cell": {
     "cellMetadata": {
      "byteLimit": 2048000,
      "rowLimit": 10000
     },
     "inputWidgets": {},
     "nuid": "5d050c9f-77d1-42d6-bc71-ac4463b843ec",
     "showTitle": false,
     "tableResultSettingsMap": {},
     "title": ""
    }
   },
   "source": [
    "Determining the average number of bytes returned to the client for each request type"
   ]
  },
  {
   "cell_type": "code",
   "execution_count": 0,
   "metadata": {
    "application/vnd.databricks.v1+cell": {
     "cellMetadata": {
      "byteLimit": 2048000,
      "rowLimit": 10000
     },
     "inputWidgets": {},
     "nuid": "7c4f1828-f985-4873-9390-22bbc81911a8",
     "showTitle": false,
     "tableResultSettingsMap": {},
     "title": ""
    }
   },
   "outputs": [
    {
     "output_type": "stream",
     "name": "stdout",
     "output_type": "stream",
     "text": [
      "The average bytes for GET requests is 17134\nThe average bytes for HEAD requests is 0\nThe average bytes for POST requests is 495\n"
     ]
    }
   ],
   "source": [
    "# Create the avg_bytes RDD with the required transformations\n",
    "avg_bytes = (\n",
    "    nasa.filter(lambda row: len(row) > 5) \n",
    "    .map(lambda row: (row[2], (row[5], 1)))  \n",
    "    .reduceByKey(lambda a, b: (a[0] + b[0], a[1] + b[1]))\n",
    "    .mapValues(lambda x: round(x[0] / x[1])) \n",
    ")\n",
    "\n",
    "# Print the results\n",
    "for req_type, avg in avg_bytes.collect():\n",
    "    print(f'The average bytes for {req_type} requests is {avg}')\n"
   ]
  },
  {
   "cell_type": "markdown",
   "metadata": {
    "application/vnd.databricks.v1+cell": {
     "cellMetadata": {
      "byteLimit": 2048000,
      "rowLimit": 10000
     },
     "inputWidgets": {},
     "nuid": "aa08741e-6347-4c88-ade0-d4f95e2a8a1a",
     "showTitle": false,
     "tableResultSettingsMap": {},
     "title": ""
    }
   },
   "source": [
    "## Part F: Status Codes"
   ]
  },
  {
   "cell_type": "markdown",
   "metadata": {
    "application/vnd.databricks.v1+cell": {
     "cellMetadata": {
      "byteLimit": 2048000,
      "rowLimit": 10000
     },
     "inputWidgets": {},
     "nuid": "09149d34-0a40-407a-99eb-f653a9a415b2",
     "showTitle": false,
     "tableResultSettingsMap": {},
     "title": ""
    }
   },
   "source": [
    "Analyzing the status codes returned by the server."
   ]
  },
  {
   "cell_type": "code",
   "execution_count": 0,
   "metadata": {
    "application/vnd.databricks.v1+cell": {
     "cellMetadata": {
      "byteLimit": 2048000,
      "rowLimit": 10000
     },
     "inputWidgets": {},
     "nuid": "8e758fe2-4861-4b14-898f-05bcd8f6e30c",
     "showTitle": false,
     "tableResultSettingsMap": {},
     "title": ""
    }
   },
   "outputs": [
    {
     "output_type": "stream",
     "name": "stdout",
     "output_type": "stream",
     "text": [
      "[0, '200', '302', '304', '403', '404', '500', '501']\n"
     ]
    }
   ],
   "source": [
    "# Getting distinct status code\n",
    "status_codes = (\n",
    "    nasa.filter(lambda row: len(row) > 4)\n",
    "    .map(lambda row: row[4]) \n",
    "    .distinct() \n",
    "    .sortBy(lambda x: int(x)).collect()\n",
    "\n",
    ")\n",
    "\n",
    "# Print the sorted list of status codes\n",
    "print(status_codes)"
   ]
  },
  {
   "cell_type": "markdown",
   "metadata": {
    "application/vnd.databricks.v1+cell": {
     "cellMetadata": {
      "byteLimit": 2048000,
      "rowLimit": 10000
     },
     "inputWidgets": {},
     "nuid": "a74ea681-d380-4bfd-b362-c851c6fd4066",
     "showTitle": false,
     "tableResultSettingsMap": {},
     "title": ""
    }
   },
   "source": [
    "Determining which status codes appear for each request"
   ]
  },
  {
   "cell_type": "code",
   "execution_count": 0,
   "metadata": {
    "application/vnd.databricks.v1+cell": {
     "cellMetadata": {
      "byteLimit": 2048000,
      "rowLimit": 10000
     },
     "inputWidgets": {},
     "nuid": "b00c5870-154a-40b5-a565-b509e31ede2c",
     "showTitle": false,
     "tableResultSettingsMap": {},
     "title": ""
    }
   },
   "outputs": [
    {
     "output_type": "stream",
     "name": "stdout",
     "output_type": "stream",
     "text": [
      "The status codes for GET requests: [0, '200', '302', '304', '403', '404', '500']\nThe status codes for HEAD requests: ['200', '302', '404']\nThe status codes for POST requests: ['200', '404', '501']\n"
     ]
    }
   ],
   "source": [
    "# Looping over the req_types list\n",
    "for req_type in req_types.collect():\n",
    "   \n",
    "    status_codes_for_req_type = (\n",
    "        nasa.filter(lambda row: len(row) > 4 and row[2] == req_type)\n",
    "        .map(lambda row: row[4]) \n",
    "        .distinct()  \n",
    "        .sortBy(lambda x: int(x))\n",
    "        .collect()\n",
    "    )\n",
    "\n",
    "    # Step 6: Print the results\n",
    "    print(f\"The status codes for {req_type} requests: {status_codes_for_req_type}\")\n"
   ]
  },
  {
   "cell_type": "markdown",
   "metadata": {
    "application/vnd.databricks.v1+cell": {
     "cellMetadata": {
      "byteLimit": 2048000,
      "rowLimit": 10000
     },
     "inputWidgets": {},
     "nuid": "0ec1f9cd-db6d-45d1-b9ff-45d89a05cd96",
     "showTitle": false,
     "tableResultSettingsMap": {},
     "title": ""
    }
   },
   "source": [
    "Counting the number of requests resulting in each status code and displaying results with bar chart"
   ]
  },
  {
   "cell_type": "code",
   "execution_count": 0,
   "metadata": {
    "application/vnd.databricks.v1+cell": {
     "cellMetadata": {
      "byteLimit": 2048000,
      "rowLimit": 10000
     },
     "inputWidgets": {},
     "nuid": "d9a2218e-e9e9-4ff9-a49b-03e72aecb27f",
     "showTitle": false,
     "tableResultSettingsMap": {},
     "title": ""
    }
   },
   "outputs": [
    {
     "output_type": "display_data",
     "data": {
      "image/png": "[encoded data removed]",
      "text/plain": [
       "<Figure size 1000x400 with 1 Axes>"
      ]
     },
     "metadata": {},
     "output_type": "display_data"
    }
   ],
   "source": [
    "# Empty list\n",
    "code_counts = []\n",
    "\n",
    "for status_code in status_codes:\n",
    "    # Determine the number of requests resulting in that particular status code\n",
    "    count = nasa.filter(lambda row: len(row) > 4 and row[4] == status_code).count()\n",
    "    \n",
    "    # Append the resulting count to the code_counts list\n",
    "    code_counts.append((str(status_code), str(count)))\n",
    "\n",
    "\n",
    "status_codes = [code[0] for code in code_counts]\n",
    "counts = [int(code[1]) for code in code_counts]\n",
    "\n",
    "# Bar chart with status_codes and code_counts\n",
    "plt.figure(figsize=(10, 4))\n",
    "plt.bar(status_codes, counts)\n",
    "plt.xlabel(\"Status Code\")\n",
    "plt.ylabel(\"Count\")\n",
    "plt.title(\"Distribution of Status Codes\")\n",
    "plt.yscale('log')\n",
    "plt.show()\n"
   ]
  },
  {
   "cell_type": "markdown",
   "metadata": {
    "application/vnd.databricks.v1+cell": {
     "cellMetadata": {
      "byteLimit": 2048000,
      "rowLimit": 10000
     },
     "inputWidgets": {},
     "nuid": "f261d31f-5cc2-4984-8cad-4c84a87201ea",
     "showTitle": false,
     "tableResultSettingsMap": {},
     "title": ""
    }
   },
   "source": [
    "## Part G: Request Volume by Day"
   ]
  },
  {
   "cell_type": "markdown",
   "metadata": {
    "application/vnd.databricks.v1+cell": {
     "cellMetadata": {
      "byteLimit": 2048000,
      "rowLimit": 10000
     },
     "inputWidgets": {},
     "nuid": "9dd32e1f-0c00-4319-a3ab-38a0f27290a6",
     "showTitle": false,
     "tableResultSettingsMap": {},
     "title": ""
    }
   },
   "source": [
    "Counting requests received by day"
   ]
  },
  {
   "cell_type": "code",
   "execution_count": 0,
   "metadata": {
    "application/vnd.databricks.v1+cell": {
     "cellMetadata": {
      "byteLimit": 2048000,
      "rowLimit": 10000
     },
     "inputWidgets": {},
     "nuid": "832c9ae0-1f8b-49fa-a261-f492038a8dc7",
     "showTitle": false,
     "tableResultSettingsMap": {},
     "title": ""
    }
   },
   "outputs": [
    {
     "output_type": "stream",
     "name": "stdout",
     "output_type": "stream",
     "text": [
      "[('01', 33996), ('03', 41388), ('04', 59557), ('05', 31893), ('06', 32420)]\n"
     ]
    }
   ],
   "source": [
    "counts_by_day = (\n",
    "  nasa.map(lambda row: (row[1][1:3], 1))\n",
    "    .reduceByKey(lambda a, b: a + b) \n",
    "    .sortByKey() \n",
    "    .collect()  \n",
    ")\n",
    "\n",
    "# Printing first 5  \n",
    "print(counts_by_day[:5])"
   ]
  },
  {
   "cell_type": "markdown",
   "metadata": {
    "application/vnd.databricks.v1+cell": {
     "cellMetadata": {
      "byteLimit": 2048000,
      "rowLimit": 10000
     },
     "inputWidgets": {},
     "nuid": "f5df6fbc-3c85-42af-8579-78876fceeb1d",
     "showTitle": false,
     "tableResultSettingsMap": {},
     "title": ""
    }
   },
   "source": [
    "Displaying the distribution of requests by day of the month"
   ]
  },
  {
   "cell_type": "code",
   "execution_count": 0,
   "metadata": {
    "application/vnd.databricks.v1+cell": {
     "cellMetadata": {
      "byteLimit": 2048000,
      "rowLimit": 10000
     },
     "inputWidgets": {},
     "nuid": "90eac216-ce32-44e6-b6ed-e98aa5dd2029",
     "showTitle": false,
     "tableResultSettingsMap": {},
     "title": ""
    }
   },
   "outputs": [
    {
     "output_type": "display_data",
     "data": {
      "image/png": "[encoded data removed]",
      "text/plain": [
       "<Figure size 1000x400 with 1 Axes>"
      ]
     },
     "metadata": {},
     "output_type": "display_data"
    }
   ],
   "source": [
    "# Seperating tuple in count_by_day\n",
    "day_list = []\n",
    "count_list = []\n",
    "\n",
    "# Loop over each tuple in the list\n",
    "for day, count in counts_by_day:\n",
    "    day_list.append(day)\n",
    "    count_list.append(count)\n",
    "\n",
    "# Plotting bar chart\n",
    "plt.figure(figsize=(10, 4))\n",
    "plt.bar(day_list, count_list)\n",
    "plt.xlabel(\"Dayof Month\")\n",
    "plt.ylabel(\"Count\")\n",
    "plt.title(\"Number of Requests by Day (Aug 1995)\")\n",
    "plt.show()"
   ]
  },
  {
   "cell_type": "code",
   "execution_count": 0,
   "metadata": {
    "application/vnd.databricks.v1+cell": {
     "cellMetadata": {
      "byteLimit": 2048000,
      "rowLimit": 10000
     },
     "inputWidgets": {},
     "nuid": "0d5d1d29-5ce7-4869-aecc-7b552383af6b",
     "showTitle": false,
     "tableResultSettingsMap": {},
     "title": ""
    }
   },
   "outputs": [],
   "source": []
  }
 ],
 "metadata": {
  "application/vnd.databricks.v1+notebook": {
   "computePreferences": null,
   "dashboards": [],
   "environmentMetadata": {
    "base_environment": "",
    "client": "1"
   },
   "language": "python",
   "notebookMetadata": {
    "pythonIndentUnit": 4
   },
   "notebookName": "Project 1",
   "widgets": {}
  },
  "language_info": {
   "name": "python"
  }
 },
 "nbformat": 4,
 "nbformat_minor": 0
}