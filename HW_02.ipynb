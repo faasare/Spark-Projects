{
 "cells": [
  {
   "cell_type": "markdown",
   "metadata": {
    "application/vnd.databricks.v1+cell": {
     "cellMetadata": {
      "byteLimit": 2048000,
      "rowLimit": 10000
     },
     "inputWidgets": {},
     "nuid": "9b529aab-737e-43fc-b8f3-87acf32061ac",
     "showTitle": false,
     "tableResultSettingsMap": {},
     "title": ""
    }
   },
   "source": [
    "# DSCI 617 – Homework 02\n",
    "**Felix Asare**"
   ]
  },
  {
   "cell_type": "code",
   "execution_count": 0,
   "metadata": {
    "application/vnd.databricks.v1+cell": {
     "cellMetadata": {
      "byteLimit": 2048000,
      "rowLimit": 10000
     },
     "inputWidgets": {},
     "nuid": "43992dda-8b78-4468-bb26-bd865ee944c8",
     "showTitle": false,
     "tableResultSettingsMap": {},
     "title": ""
    }
   },
   "outputs": [],
   "source": [
    "# Import libraries\n",
    "from pyspark.sql import SparkSession\n",
    "import pandas as pd\n",
    "from string import punctuation"
   ]
  },
  {
   "cell_type": "code",
   "execution_count": 0,
   "metadata": {
    "application/vnd.databricks.v1+cell": {
     "cellMetadata": {
      "byteLimit": 2048000,
      "rowLimit": 10000
     },
     "inputWidgets": {},
     "nuid": "cb87a420-34ec-4fac-a5bd-541ef440258d",
     "showTitle": false,
     "tableResultSettingsMap": {},
     "title": ""
    }
   },
   "outputs": [],
   "source": [
    "# Create a SparkSession and spark context\n",
    "spark = SparkSession.builder.getOrCreate()\n",
    "sc = spark.sparkContext"
   ]
  },
  {
   "cell_type": "markdown",
   "metadata": {
    "application/vnd.databricks.v1+cell": {
     "cellMetadata": {
      "byteLimit": 2048000,
      "rowLimit": 10000
     },
     "inputWidgets": {},
     "nuid": "7dc87a23-328f-41c9-99b7-1f9435d34581",
     "showTitle": false,
     "tableResultSettingsMap": {},
     "title": ""
    }
   },
   "source": [
    "## Problem 1: Word Count"
   ]
  },
  {
   "cell_type": "code",
   "execution_count": 0,
   "metadata": {
    "application/vnd.databricks.v1+cell": {
     "cellMetadata": {
      "byteLimit": 2048000,
      "rowLimit": 10000
     },
     "inputWidgets": {},
     "nuid": "894496f3-16b2-4d72-9d35-d4081cf80023",
     "showTitle": false,
     "tableResultSettingsMap": {},
     "title": ""
    }
   },
   "outputs": [
    {
     "output_type": "stream",
     "name": "stdout",
     "output_type": "stream",
     "text": [
      "Total Number of Words:    887279\nNumber of Distinct Words: 25362\n"
     ]
    }
   ],
   "source": [
    "#1 Reading in data\n",
    "ws_lines = sc.textFile('/FileStore/tables/shakespeare_complete.txt')\n",
    "\n",
    "#2.Creating ws_words RDD\n",
    "import string\n",
    "ws_words = (\n",
    "    ws_lines\n",
    "    .flatMap(lambda line: line.split(' '))  \n",
    "    .flatMap(lambda word: word.split('-'))   \n",
    "    .flatMap(lambda word: word.split('_'))  \n",
    "    .flatMap(lambda word: word.split('.'))    \n",
    "    .flatMap(lambda word: word.split(',')) \n",
    "    .flatMap(lambda word: word.split(':'))   \n",
    "    .flatMap(lambda word: word.split('|'))  \n",
    "    .flatMap(lambda word: word.split('\\t'))\n",
    "    .map(lambda word: word.strip(string.punctuation)) \n",
    "    .map(lambda word: word.strip('0123456789'))\n",
    "    .map(lambda word: word.replace(\"'\", ''))   \n",
    "    .map(lambda word: word.lower())         \n",
    "    .filter(lambda word: word != '') \n",
    ")\n",
    "\n",
    "ws_words.persist()\n",
    "# Create dist_words RDD\n",
    "dist_words = ws_words.distinct()\n",
    "\n",
    "# Print ws_words and dist_words\n",
    "print('Total Number of Words:    {}'.format(ws_words.count()))\n",
    "print('Number of Distinct Words: {}'.format(dist_words.count()))\n"
   ]
  },
  {
   "cell_type": "code",
   "execution_count": 0,
   "metadata": {
    "application/vnd.databricks.v1+cell": {
     "cellMetadata": {
      "byteLimit": 2048000,
      "rowLimit": 10000
     },
     "inputWidgets": {},
     "nuid": "2164dadb-17b2-45d6-940a-18e7eb0139af",
     "showTitle": false,
     "tableResultSettingsMap": {},
     "title": ""
    }
   },
   "outputs": [
    {
     "output_type": "stream",
     "name": "stdout",
     "output_type": "stream",
     "text": [
      "['in', 'thou', 'so', 'own', 'have', 'with', 'the', 'mayst', 'of', 'my', 'grant', 'womb', 'their', 'when', 'hath', 'whom', 'yet', 'perfumes', 'is', 'never', 'those', 'a', 'a', 'florentine', 'scorn', 'so', 'youll', 'you', 'his', 'the', 'sword', 'two', 'in', 'to', 'rousillon', 'very', 'have', 'letters', 'treasure', 'you', 'which', 'is', 'midnight', 'him', 'her', 'our', 'my', 'ear', 'greater', 'brother', 'son', 'she', 'it', 'you', 'tawny', 'pleasure', 'take', 'this', 'speak', 'be', 'get', 'well', 'antony', 'noble', 'caesar', 'exercise', 'who', 'caesar', 'even', 'and', 'but', 'he', 'duty', 'nails', 'oertake', 'dercetas', 'fetch', 'purchase', 'have', 'your', 'say', 'do', 'go', 'when', 'and', 'you', 'to', 'if', 'i', 'exeunt', 'it', 'it', 'good', 'religiously', 'the', 'great', 'and', 'youth', 'mother', 'nothing', 'her', 'have', 'thy', 'my', 'woman', 'her', 'at', 'you', 'will', 'carries', 'thou', 'centaur', 'get', 'deaf', 'second', 'your', 'you', 'have', 'me', 'i', 'better', 'cause', 'he', 'or', 'do', 'dismiss', 'coriolanus', 'quarrel', 'tailors', 'going', 'fike', 'no', 'william', 'conversation', 'the', 'pisanio', 'me', 'the', 'with', 'dorothy', 'the', 'themselves', 'wife', 'of', 'jove', 'strumpet', 'to', 'of', 'of', 'go', 'brought', 'to', 'arviragus', 'powrs', 'too', 'in', 'the', 'stuff', 'two', 'a', 'whether', 'of', 'followed', 'but', 'or', 'ham', 'and', 'rank', 'the', 'these', 'the', 'love', 'sun', 'outstretchd', 'your', 'afraid', 'ham', 'mows', 'it', 'prithee', 'to', 'as', 'ready', 'stonish', 'of', 'o', 'else', 'he', 'for', 'thou', 'that', 'this', 'and', 'no', 'the', 'plains', 'ever', 'thou', 'he', 'may', 'guilty', 'kind', 'game', 'to', 'poins', 'set', 'poins', 'like', 'sword', 'owen', 'accompanied', 'ramping', 'disputation', 'push', 'like', 'in', 'for', 'find', 'the', 'hearts', 'water', 'alarum', 'me', 'i', 'and', 'but', 'came', 'officers', 'the', 'sir', 'prince', 'hotspurs', 'withered', 'of', 'lords', 'of', 'fellow', 'john', 'that', 'to', 'near', 'his', 'way', 'and', 'for', 'the', 'scot', 'will', 'body', 'cannot', 'wrong', 'and', 'have', 'with', 'straight', 'pursuit', 'gunner', 'doubt', 'rage', 'and', 'count', 'lamb', 'bolt', 'the', 'upon', 'is', 'enter', 'gainst', 'of', 'with', 'again', 'cut', 'our', 'of', 'oath', 'the', 'in', 'out', 'knave', 'you', 'me', 'plain', 'of', 'should', 'occasion', 'advance', 'these', 'the', 'not', 'madam', 'the', 'clear', 'the', 'thou', 'on', 'a', 'if', 'to', 'pucelle', 'combat', 'confounded', 'in', 'mount', 'certainly', 'alarum', 'of', 'warwick', 'her', 'at', 'hatfield', 'sight', 'protect', 'the', 'cardinal', 'fortune', 'his', 'the', 'nostrils', 'he', 'you', 'my', 'enter', 'him', 'ten', 'i', 'created', 'is', 'from', 'his', 'natural', 'my', 'the', 'spark', 'abandond', 'henry', 'hands', 'twas', 'of', 'whose', 'better', 'o', 'let', 'eyes', 'second', 'elder', 'hand', 'dear', 'false', 'all', 'to', 'king', 'was', 'young', 'all', 'soldiers', 'that', 'my', 'city', 'then', 'this', 'be', 'you', 'to', 'hunger', 'sped', 'my', 'thought', 'and', 'and', 'bullen', 'grace', 'time', 'so', 'at', 'am', 'shall', 'i', 'them', 'dislike', 'tis', 'lords', 'live', 'of', 'that', 'his', 'capucius', 'creature', 'better', 'act', 'draw', 'new', 'in', 'sir', 'this', 'hath', 'out', 'faith', 'thyself', 'thee', 'his', 'conduct', 'act', 'their', 'holds', 'the', 'flood', 'do', 'soul', 'me', 'look', 'sure', 'a', 'to', 'kill', 'it', 'o', 'that', 're', 'now', 'him', 'throng', 'it', 'stand', 'men', 'is', 'success', 'not', 'moon', 'him', 'enter', 'less', 'myself', 'are', 'that', 'brought', 'fool', 'neck', 'it', 'thou', 'some', 'scene', 'mouth', 'theban', 'to', 'most', 'scarce', 'that', 'may', 'dare', 'than', 'make', 'oswald', 'will', 'proceed', 'what', 'themselves', 'sayst', 'a', 'to', 'wit', 'educated', 'fathers', 'what', 'let', 'i', 'live', 'costard', 'continent', 'comprehend', 'nathaniel', 'happiness', 'mortal', 'therefore', 'he', 'mock', 'whales', 'of', 'elder', 'here', 'free', 'my', 'proclaims', 'enter', 'thane', 'time', 'augment', 'to', 'ten', 'sit', 'state', 'again', 'absence', 'there', 'trouble', 'macbeth', 'eight', 'am', 'where', 'macbeth', 'we', 'and', 'his', 'nor', 'that', 'worn', 'power', 'of', 'if', 'could', 'it', 'readiness', 'his', 'takes', 'back', 'duke', 'take', 'that', 'would', 'brother', 'go', 'together', 'for', 'look', 'i', 'angelo', 'chastisement', 'gone', 'is', 'scene', 'himself', 'welcome', 'shylock', 'at', 'hath', 'a', 'with', 'why', 'again', 'me', 'ill', 'bed', 'kin', 'husbands', 'for', 'but', 'bought', 'bellario', 'is', 'the', 'that', 'you', 'chain', 'nay', 'of', 'out', 'caius', 'there', 'upon', 'been', 'this', 'one', 'what', 'host', 'picture', 'will', 'we', 'you', 'sweet', 'rugby', 'my', 'alas', 'more', 'pray', 'prain', 'him', 'we', 'bully', 'well', 'me', 'hath', 'on', 'only', 'knitteth', 'quince', 'wander', 'and', 'virtuous', 'is', 'have', 'thou', 'not', 'law', 'my', 'that', 'away', 'come', 'you', 'me', 'lion', 'die', 'a', 'if', 'claudio', 'bene', 'him', 'as', 'told', 'tell', 'i', 'i', 'should', 'her', 'you', 'you', 'exit', 'know', 'left', 'a', 'death', 'worship', 'a', 'dapples', 'claud', 'reverend', 'not', 'so', 'resist', 'him', 'moons', 'by', 'my', 'lay', 'joy', 'be', 'not', 'delay', 'a', 'man', 'jealous', 'a', 'i', 'what', 'musician', 'castle', 'bawd', 'in', 'would', 'of', 'brave', 'great', 'london', 'accuse', 'speech', 'gaunt', 'brothers', 'power', 'at', 'and', 'way', 'say', 'of', 'thee', 'on', 'may', 'and', 'i', 'may', 'unbroke', 'soon', 'fear', 'must', 'but', 'though', 'my', 'are', 'thanks', 'husband', 'who', 'opinion', 'of', 'grow', 'heavy', 'day', 'come', 'not', 'know', 'i', 'shall', 'hastings', 'that', 'thy', 'but', 'take', 'taken', 'lord', 'whom', 'henrys', 'richmond', 'overthrows', 'train', 'for', 'pray', 'the', 'eyes', 'yet', 'ghostly', 'light', 'wide', 'a', 'it', 'sententious', 'breast', 'him', 'back', 'still', 'art', 'tempest', 'for', 'on', 'o', 'exeunt', 'flower', 'day', 'cap', 'loathsome', 'will', 'and', 'frame', 'they', 'good', 'first', 'baptista', 'to', 'schoolmaster', 'lucentio', 'petruchio', 'to', 'yet', 'of', 'when', 'me', 'sweet', 'and', 'will', 'one', 'there', 'both', 'thou', 'together', 'here', 'reportst', 'which', 'that', 'nest', 'our', 'will', 'rather', 'hear', 'service', 'nor', 'her', 'some', 'himself', 'grace', 'thy', 'enter', 'that', 'live', 'thee', 'say', 'at', 'varros', 'no', 'it', 'his', 'think', 'but', 'have', 'humours', 'sways', 'confound', 'em', 'both', 'him', 'late', 'make', 'whose', 'and', 'maintain', 'court', 'why', 'new', 'lovely', 'bassianus', 'when', 'them', 'bottomless', 'tragic', 'pipe', 'carefully', 'so', 'of', 'exit', 'at', 'to', 'quench', 'in', 'work', 'into', 'with', 'aeneas', 'upon', 'them', 'won', 'nestor', 'states', 'nestor', 'either', 'how', 'keep', 'raving', 'that', 'if', 'follow', 'fair', 'helen', 'are', 'diomedes', 'the', 'a', 'is', 'the', 'it', 'like', 'how', 'novelties', 'it', 'diomed', 'their', 'fathers', 'the', 'commend', 'in', 'all', 'patients', 'cressida', 'that', 'be', 'strange', 'that', 'the', 'bid', 'you', 'drinking', 'free', 'keep', 'your', 'praise', 'malvolio', 'lady', 'but', 'way', 'him', 'i', 'you', 'hideous', 'was', 'thine', 'sir', 'a', 'me', 'may', 'milan', 'call', 'proteus', 'gentle', 'thou', 'a', 'out', 'outlaw', 'him', 'heart', 'much', 'the', 'launce', 'know', 'julia', 'like', 'they', 'my', 'first', 'rest', 'that', 'push', 'then', 'to', 'him', 'die', 'i', 'this', 'the', 'standing', 'foot', 'upon', 'did']\n"
     ]
    }
   ],
   "source": [
    "# Collecting sample of words\n",
    "sample_words = ws_words.sample(withReplacement=False, fraction=0.001)\n",
    "print(sample_words.collect())"
   ]
  },
  {
   "cell_type": "markdown",
   "metadata": {
    "application/vnd.databricks.v1+cell": {
     "cellMetadata": {
      "byteLimit": 2048000,
      "rowLimit": 10000
     },
     "inputWidgets": {},
     "nuid": "1e60d6ea-8f5f-47ff-bda7-a7890be6792d",
     "showTitle": false,
     "tableResultSettingsMap": {},
     "title": ""
    }
   },
   "source": [
    "## Problem 2: Longest Words"
   ]
  },
  {
   "cell_type": "code",
   "execution_count": 0,
   "metadata": {
    "application/vnd.databricks.v1+cell": {
     "cellMetadata": {
      "byteLimit": 2048000,
      "rowLimit": 10000
     },
     "inputWidgets": {},
     "nuid": "9ecf0048-cba1-4b27-a664-2547ddf98019",
     "showTitle": false,
     "tableResultSettingsMap": {},
     "title": ""
    }
   },
   "outputs": [
    {
     "output_type": "stream",
     "name": "stdout",
     "output_type": "stream",
     "text": [
      "honorificabilitudinitatibus\n"
     ]
    }
   ],
   "source": [
    "#1 Function to find the longest word\n",
    "def longest_word(x, y):\n",
    "  if len(x) > len(y):\n",
    "    return x\n",
    "  elif len(y) > len(x):\n",
    "    return y\n",
    "  else:\n",
    "    return max(x, y)\n",
    "\n",
    "longest = dist_words.reduce(longest_word)\n",
    "print(longest)"
   ]
  },
  {
   "cell_type": "code",
   "execution_count": 0,
   "metadata": {
    "application/vnd.databricks.v1+cell": {
     "cellMetadata": {
      "byteLimit": 2048000,
      "rowLimit": 10000
     },
     "inputWidgets": {},
     "nuid": "a0b3b6cb-d454-454c-8a85-bd1c890ee173",
     "showTitle": false,
     "tableResultSettingsMap": {},
     "title": ""
    }
   },
   "outputs": [
    {
     "output_type": "stream",
     "name": "stdout",
     "output_type": "stream",
     "text": [
      "['honorificabilitudinitatibus', 'anthropophaginian', 'undistinguishable', 'indistinguishable', 'northamptonshire', 'superserviceable', 'incomprehensible', 'prognostication', 'unreconciliable', 'interrogatories', 'gioucestershire', 'extraordinarily', 'particularities', 'praeclarissimus', 'impossibilities', 'misconstruction', 'flibbertigibbet', 'circumscription', 'disproportioned', 'uncomprehensive']\n"
     ]
    }
   ],
   "source": [
    "# 20 longest words\n",
    "sorted_words = dist_words.sortBy(lambda x: -len(x))\n",
    "print(sorted_words.take(20))"
   ]
  },
  {
   "cell_type": "markdown",
   "metadata": {
    "application/vnd.databricks.v1+cell": {
     "cellMetadata": {
      "byteLimit": 2048000,
      "rowLimit": 10000
     },
     "inputWidgets": {},
     "nuid": "8473308f-84ca-409e-a1e2-1edc2fccb4c5",
     "showTitle": false,
     "tableResultSettingsMap": {},
     "title": ""
    }
   },
   "source": [
    "## Problem 3: Word Frequency"
   ]
  },
  {
   "cell_type": "code",
   "execution_count": 0,
   "metadata": {
    "application/vnd.databricks.v1+cell": {
     "cellMetadata": {
      "byteLimit": 2048000,
      "rowLimit": 10000
     },
     "inputWidgets": {},
     "nuid": "d93613fa-1e46-4353-95df-4d85553748e1",
     "showTitle": false,
     "tableResultSettingsMap": {},
     "title": ""
    }
   },
   "outputs": [
    {
     "output_type": "execute_result",
     "data": {
      "text/html": [
       "<div>\n",
       "<style scoped>\n",
       "    .dataframe tbody tr th:only-of-type {\n",
       "        vertical-align: middle;\n",
       "    }\n",
       "\n",
       "    .dataframe tbody tr th {\n",
       "        vertical-align: top;\n",
       "    }\n",
       "\n",
       "    .dataframe thead th {\n",
       "        text-align: right;\n",
       "    }\n",
       "</style>\n",
       "<table border=\"1\" class=\"dataframe\">\n",
       "  <thead>\n",
       "    <tr style=\"text-align: right;\">\n",
       "      <th></th>\n",
       "      <th>Word</th>\n",
       "      <th>Count</th>\n",
       "    </tr>\n",
       "  </thead>\n",
       "  <tbody>\n",
       "    <tr>\n",
       "      <th>0</th>\n",
       "      <td>the</td>\n",
       "      <td>27379</td>\n",
       "    </tr>\n",
       "    <tr>\n",
       "      <th>1</th>\n",
       "      <td>and</td>\n",
       "      <td>26082</td>\n",
       "    </tr>\n",
       "    <tr>\n",
       "      <th>2</th>\n",
       "      <td>i</td>\n",
       "      <td>20717</td>\n",
       "    </tr>\n",
       "    <tr>\n",
       "      <th>3</th>\n",
       "      <td>to</td>\n",
       "      <td>19661</td>\n",
       "    </tr>\n",
       "    <tr>\n",
       "      <th>4</th>\n",
       "      <td>of</td>\n",
       "      <td>17474</td>\n",
       "    </tr>\n",
       "    <tr>\n",
       "      <th>5</th>\n",
       "      <td>a</td>\n",
       "      <td>14723</td>\n",
       "    </tr>\n",
       "    <tr>\n",
       "      <th>6</th>\n",
       "      <td>you</td>\n",
       "      <td>13630</td>\n",
       "    </tr>\n",
       "    <tr>\n",
       "      <th>7</th>\n",
       "      <td>my</td>\n",
       "      <td>12489</td>\n",
       "    </tr>\n",
       "    <tr>\n",
       "      <th>8</th>\n",
       "      <td>in</td>\n",
       "      <td>10996</td>\n",
       "    </tr>\n",
       "    <tr>\n",
       "      <th>9</th>\n",
       "      <td>that</td>\n",
       "      <td>10915</td>\n",
       "    </tr>\n",
       "    <tr>\n",
       "      <th>10</th>\n",
       "      <td>is</td>\n",
       "      <td>9137</td>\n",
       "    </tr>\n",
       "    <tr>\n",
       "      <th>11</th>\n",
       "      <td>not</td>\n",
       "      <td>8512</td>\n",
       "    </tr>\n",
       "    <tr>\n",
       "      <th>12</th>\n",
       "      <td>with</td>\n",
       "      <td>7778</td>\n",
       "    </tr>\n",
       "    <tr>\n",
       "      <th>13</th>\n",
       "      <td>me</td>\n",
       "      <td>7776</td>\n",
       "    </tr>\n",
       "    <tr>\n",
       "      <th>14</th>\n",
       "      <td>it</td>\n",
       "      <td>7692</td>\n",
       "    </tr>\n",
       "    <tr>\n",
       "      <th>15</th>\n",
       "      <td>for</td>\n",
       "      <td>7578</td>\n",
       "    </tr>\n",
       "    <tr>\n",
       "      <th>16</th>\n",
       "      <td>be</td>\n",
       "      <td>6867</td>\n",
       "    </tr>\n",
       "    <tr>\n",
       "      <th>17</th>\n",
       "      <td>his</td>\n",
       "      <td>6859</td>\n",
       "    </tr>\n",
       "    <tr>\n",
       "      <th>18</th>\n",
       "      <td>your</td>\n",
       "      <td>6658</td>\n",
       "    </tr>\n",
       "    <tr>\n",
       "      <th>19</th>\n",
       "      <td>this</td>\n",
       "      <td>6606</td>\n",
       "    </tr>\n",
       "  </tbody>\n",
       "</table>\n",
       "</div>"
      ],
      "text/plain": [
       "    Word  Count\n",
       "0    the  27379\n",
       "1    and  26082\n",
       "2      i  20717\n",
       "3     to  19661\n",
       "4     of  17474\n",
       "5      a  14723\n",
       "6    you  13630\n",
       "7     my  12489\n",
       "8     in  10996\n",
       "9   that  10915\n",
       "10    is   9137\n",
       "11   not   8512\n",
       "12  with   7778\n",
       "13    me   7776\n",
       "14    it   7692\n",
       "15   for   7578\n",
       "16    be   6867\n",
       "17   his   6859\n",
       "18  your   6658\n",
       "19  this   6606"
      ]
     },
     "execution_count": 7,
     "metadata": {},
     "output_type": "execute_result"
    }
   ],
   "source": [
    "#1 Create RDD pairs\n",
    "pairs = ws_words.map(lambda x: (x, 1))\n",
    "\n",
    "#2 Using reducebykey to group pairs\n",
    "word_counts = pairs.reduceByKey(lambda x, y: x + y).sortBy(lambda x: -x[1])\n",
    "            \n",
    "\n",
    "\n",
    "#3 first 20 words of word_counts\n",
    "words_20 = word_counts.take(20)\n",
    "\n",
    "#4 Display the first 20 words of word_counts in a Dataframe\n",
    "df = pd.DataFrame(words_20, columns=[\"Word\", \"Count\"])\n",
    "df\n"
   ]
  },
  {
   "cell_type": "markdown",
   "metadata": {
    "application/vnd.databricks.v1+cell": {
     "cellMetadata": {
      "byteLimit": 2048000,
      "rowLimit": 10000
     },
     "inputWidgets": {},
     "nuid": "79fb3530-423d-483b-92a8-7b8ef2df71d1",
     "showTitle": false,
     "tableResultSettingsMap": {},
     "title": ""
    }
   },
   "source": [
    "## Problem 4: Removing Stop Words"
   ]
  },
  {
   "cell_type": "code",
   "execution_count": 0,
   "metadata": {
    "application/vnd.databricks.v1+cell": {
     "cellMetadata": {
      "byteLimit": 2048000,
      "rowLimit": 10000
     },
     "inputWidgets": {},
     "nuid": "be11e780-9ced-444d-889a-3f1e0dec453f",
     "showTitle": false,
     "tableResultSettingsMap": {},
     "title": ""
    }
   },
   "outputs": [
    {
     "output_type": "stream",
     "name": "stdout",
     "output_type": "stream",
     "text": [
      "668\n['any', 'apparently', 'are', 'co', 'could', 'do', \"doesn't\", 'downwards', 'due', 'eg', 'hereby', 'hundred', 'immediate', \"isn't\", 'itd', 'l', 'like', 'looks', 'moreover', 'necessary', 'now', 'nowhere', 'obtained', 'own', 'right', 'slightly', 'somethan', 'something', 'soon', 'sufficiently', 'sup', '', 'there', 'therein', 'thereto', 'thereupon', 'thoughh', 'usefully', 'vols', \"we've\", 'which', 'whoever', 'yours']\n"
     ]
    }
   ],
   "source": [
    "#1 Stop Words file\n",
    "sw_rdd = sc.textFile('/FileStore/tables/stopwords.txt')\n",
    "\n",
    "#2 Print the number of stopwords\n",
    "print(sw_rdd.count())\n",
    "\n",
    "#3 Sampling stop words\n",
    "print(sw_rdd.sample(withReplacement=False, fraction=0.05).collect())\n",
    "\n",
    "#4 storing sw_rdd in a list sw\n",
    "sw = sw_rdd.collect()"
   ]
  },
  {
   "cell_type": "code",
   "execution_count": 0,
   "metadata": {
    "application/vnd.databricks.v1+cell": {
     "cellMetadata": {
      "byteLimit": 2048000,
      "rowLimit": 10000
     },
     "inputWidgets": {},
     "nuid": "ce522e6c-1b1a-4d0b-875b-4dd0096240e0",
     "showTitle": false,
     "tableResultSettingsMap": {},
     "title": ""
    }
   },
   "outputs": [
    {
     "output_type": "stream",
     "name": "stdout",
     "output_type": "stream",
     "text": [
      "Number of Distinct Non-Stop Words:  24840\n"
     ]
    }
   ],
   "source": [
    "# Removing stopwords\n",
    "ws_words_f = ws_words.filter(lambda x: x not in sw)\n",
    "\n",
    "dist_words_f = ws_words_f.distinct()\n",
    "print(\"Number of Distinct Non-Stop Words: \", dist_words_f.count())"
   ]
  },
  {
   "cell_type": "code",
   "execution_count": 0,
   "metadata": {
    "application/vnd.databricks.v1+cell": {
     "cellMetadata": {
      "byteLimit": 2048000,
      "rowLimit": 10000
     },
     "inputWidgets": {},
     "nuid": "0bb8f856-54ea-483d-bfbd-7ab1a3b6e1a9",
     "showTitle": false,
     "tableResultSettingsMap": {},
     "title": ""
    }
   },
   "outputs": [
    {
     "output_type": "execute_result",
     "data": {
      "text/html": [
       "<div>\n",
       "<style scoped>\n",
       "    .dataframe tbody tr th:only-of-type {\n",
       "        vertical-align: middle;\n",
       "    }\n",
       "\n",
       "    .dataframe tbody tr th {\n",
       "        vertical-align: top;\n",
       "    }\n",
       "\n",
       "    .dataframe thead th {\n",
       "        text-align: right;\n",
       "    }\n",
       "</style>\n",
       "<table border=\"1\" class=\"dataframe\">\n",
       "  <thead>\n",
       "    <tr style=\"text-align: right;\">\n",
       "      <th></th>\n",
       "      <th>Word</th>\n",
       "      <th>Count</th>\n",
       "    </tr>\n",
       "  </thead>\n",
       "  <tbody>\n",
       "    <tr>\n",
       "      <th>0</th>\n",
       "      <td>will</td>\n",
       "      <td>4977</td>\n",
       "    </tr>\n",
       "    <tr>\n",
       "      <th>1</th>\n",
       "      <td>thy</td>\n",
       "      <td>4034</td>\n",
       "    </tr>\n",
       "    <tr>\n",
       "      <th>2</th>\n",
       "      <td>thee</td>\n",
       "      <td>3180</td>\n",
       "    </tr>\n",
       "    <tr>\n",
       "      <th>3</th>\n",
       "      <td>lord</td>\n",
       "      <td>3062</td>\n",
       "    </tr>\n",
       "    <tr>\n",
       "      <th>4</th>\n",
       "      <td>king</td>\n",
       "      <td>2871</td>\n",
       "    </tr>\n",
       "    <tr>\n",
       "      <th>5</th>\n",
       "      <td>good</td>\n",
       "      <td>2834</td>\n",
       "    </tr>\n",
       "    <tr>\n",
       "      <th>6</th>\n",
       "      <td>sir</td>\n",
       "      <td>2763</td>\n",
       "    </tr>\n",
       "    <tr>\n",
       "      <th>7</th>\n",
       "      <td>well</td>\n",
       "      <td>2553</td>\n",
       "    </tr>\n",
       "    <tr>\n",
       "      <th>8</th>\n",
       "      <td>enter</td>\n",
       "      <td>2350</td>\n",
       "    </tr>\n",
       "    <tr>\n",
       "      <th>9</th>\n",
       "      <td>love</td>\n",
       "      <td>2109</td>\n",
       "    </tr>\n",
       "    <tr>\n",
       "      <th>10</th>\n",
       "      <td>ill</td>\n",
       "      <td>2024</td>\n",
       "    </tr>\n",
       "    <tr>\n",
       "      <th>11</th>\n",
       "      <td>hath</td>\n",
       "      <td>1942</td>\n",
       "    </tr>\n",
       "    <tr>\n",
       "      <th>12</th>\n",
       "      <td>man</td>\n",
       "      <td>1876</td>\n",
       "    </tr>\n",
       "    <tr>\n",
       "      <th>13</th>\n",
       "      <td>tis</td>\n",
       "      <td>1408</td>\n",
       "    </tr>\n",
       "    <tr>\n",
       "      <th>14</th>\n",
       "      <td>speak</td>\n",
       "      <td>1169</td>\n",
       "    </tr>\n",
       "    <tr>\n",
       "      <th>15</th>\n",
       "      <td>mine</td>\n",
       "      <td>1165</td>\n",
       "    </tr>\n",
       "    <tr>\n",
       "      <th>16</th>\n",
       "      <td>time</td>\n",
       "      <td>1074</td>\n",
       "    </tr>\n",
       "    <tr>\n",
       "      <th>17</th>\n",
       "      <td>duke</td>\n",
       "      <td>1071</td>\n",
       "    </tr>\n",
       "    <tr>\n",
       "      <th>18</th>\n",
       "      <td>exeunt</td>\n",
       "      <td>1035</td>\n",
       "    </tr>\n",
       "    <tr>\n",
       "      <th>19</th>\n",
       "      <td>heart</td>\n",
       "      <td>1012</td>\n",
       "    </tr>\n",
       "  </tbody>\n",
       "</table>\n",
       "</div>"
      ],
      "text/plain": [
       "      Word  Count\n",
       "0     will   4977\n",
       "1      thy   4034\n",
       "2     thee   3180\n",
       "3     lord   3062\n",
       "4     king   2871\n",
       "5     good   2834\n",
       "6      sir   2763\n",
       "7     well   2553\n",
       "8    enter   2350\n",
       "9     love   2109\n",
       "10     ill   2024\n",
       "11    hath   1942\n",
       "12     man   1876\n",
       "13     tis   1408\n",
       "14   speak   1169\n",
       "15    mine   1165\n",
       "16    time   1074\n",
       "17    duke   1071\n",
       "18  exeunt   1035\n",
       "19   heart   1012"
      ]
     },
     "execution_count": 10,
     "metadata": {},
     "output_type": "execute_result"
    }
   ],
   "source": [
    "# Repeating problem 4 with ws_words_f\n",
    "# Creating RDD pairs from ws_words_f\n",
    "ws_words_pairs = ws_words_f.map(lambda x: (x, 1))\n",
    "\n",
    "#Using reduceByKey to count the number of times each word appears in ws_words_f\n",
    "ws_words_counts = ws_words_pairs.reduceByKey(lambda x, y: x + y).sortBy(lambda x: -x[1])\n",
    "\n",
    "#first 20 elements of ws_words_counts\n",
    "df = pd.DataFrame(ws_words_counts.take(20), columns=['Word', 'Count'])\n",
    "\n",
    "df\n"
   ]
  },
  {
   "cell_type": "markdown",
   "metadata": {
    "application/vnd.databricks.v1+cell": {
     "cellMetadata": {
      "byteLimit": 2048000,
      "rowLimit": 10000
     },
     "inputWidgets": {},
     "nuid": "8f72bed3-837b-4e27-8b1b-54595ba9408d",
     "showTitle": false,
     "tableResultSettingsMap": {},
     "title": ""
    }
   },
   "source": [
    "## Problem 5: Diamonds Dataset"
   ]
  },
  {
   "cell_type": "code",
   "execution_count": 0,
   "metadata": {
    "application/vnd.databricks.v1+cell": {
     "cellMetadata": {
      "byteLimit": 2048000,
      "rowLimit": 10000
     },
     "inputWidgets": {},
     "nuid": "ba8ed3eb-3f70-49ef-83f3-6333199130fc",
     "showTitle": false,
     "tableResultSettingsMap": {},
     "title": ""
    }
   },
   "outputs": [
    {
     "output_type": "stream",
     "name": "stdout",
     "output_type": "stream",
     "text": [
      "Number of elements in the RDD:  53941\n"
     ]
    }
   ],
   "source": [
    "# Read Diamond data\n",
    "diamond_raw = sc.textFile(\"/FileStore/tables/diamonds.txt\")\n",
    "\n",
    "# Print the number of elements in the RDD\n",
    "print(\"Number of elements in the RDD: \", diamond_raw.count())"
   ]
  },
  {
   "cell_type": "code",
   "execution_count": 0,
   "metadata": {
    "application/vnd.databricks.v1+cell": {
     "cellMetadata": {
      "byteLimit": 2048000,
      "rowLimit": 10000
     },
     "inputWidgets": {},
     "nuid": "fd6082f8-fb72-4c9d-b858-f84049721d2d",
     "showTitle": false,
     "tableResultSettingsMap": {},
     "title": ""
    }
   },
   "outputs": [
    {
     "output_type": "stream",
     "name": "stdout",
     "output_type": "stream",
     "text": [
      "carat\tcut\tcolor\tclarity\tdepth\ttable\tprice\tx\ty\tz\n0.23\tIdeal\tE\tSI2\t61.5\t55\t326\t3.95\t3.98\t2.43\n0.21\tPremium\tE\tSI1\t59.8\t61\t326\t3.89\t3.84\t2.31\n0.23\tGood\tE\tVS1\t56.9\t65\t327\t4.05\t4.07\t2.31\n0.29\tPremium\tI\tVS2\t62.4\t58\t334\t4.2\t4.23\t2.63\n"
     ]
    }
   ],
   "source": [
    "# first 5 elements of diamond_raw\n",
    "for i in diamond_raw.take(5):\n",
    "    print(i)"
   ]
  },
  {
   "cell_type": "code",
   "execution_count": 0,
   "metadata": {
    "application/vnd.databricks.v1+cell": {
     "cellMetadata": {
      "byteLimit": 2048000,
      "rowLimit": 10000
     },
     "inputWidgets": {},
     "nuid": "6e5d59d1-693e-4205-9f82-9f27bf0c65d6",
     "showTitle": false,
     "tableResultSettingsMap": {},
     "title": ""
    }
   },
   "outputs": [
    {
     "output_type": "stream",
     "name": "stdout",
     "output_type": "stream",
     "text": [
      "[0.23, 'Ideal', 'E', 'SI2', 61.5, 55.0, 326, 3.95, 3.98, 2.43]\n[0.21, 'Premium', 'E', 'SI1', 59.8, 61.0, 326, 3.89, 3.84, 2.31]\n[0.23, 'Good', 'E', 'VS1', 56.9, 65.0, 327, 4.05, 4.07, 2.31]\n[0.29, 'Premium', 'I', 'VS2', 62.4, 58.0, 334, 4.2, 4.23, 2.63]\n[0.31, 'Good', 'J', 'SI2', 63.3, 58.0, 335, 4.34, 4.35, 2.75]\n"
     ]
    }
   ],
   "source": [
    "# Function to tokenize data\n",
    "def process_row(row):\n",
    "    item = row.split('\\t')\n",
    "    return [float(item[0]), str(item[1]), str(item[2]), str(item[3]), \n",
    "            float(item[4]), float(item[5]), int(item[6]), float(item[7]),\n",
    "             float(item[8]), float(item[9])]\n",
    "# Filtering header row from diamond_raw\n",
    "diamonds = (diamond_raw\n",
    "            .filter(lambda x: 'carat' not in x)\n",
    "            .map(process_row))\n",
    "\n",
    "#First 5 elements of diamonds\n",
    "for i in diamonds.take(5):\n",
    "    print(i)"
   ]
  },
  {
   "cell_type": "markdown",
   "metadata": {
    "application/vnd.databricks.v1+cell": {
     "cellMetadata": {
      "byteLimit": 2048000,
      "rowLimit": 10000
     },
     "inputWidgets": {},
     "nuid": "4839458b-d81a-4213-9351-38921c04df98",
     "showTitle": false,
     "tableResultSettingsMap": {},
     "title": ""
    }
   },
   "source": [
    "## Problem 6: Grouped Means"
   ]
  },
  {
   "cell_type": "code",
   "execution_count": 0,
   "metadata": {
    "application/vnd.databricks.v1+cell": {
     "cellMetadata": {
      "byteLimit": 2048000,
      "rowLimit": 10000
     },
     "inputWidgets": {},
     "nuid": "d436f2c8-92a9-4f2b-876d-b4a0a05045c5",
     "showTitle": false,
     "tableResultSettingsMap": {},
     "title": ""
    }
   },
   "outputs": [
    {
     "output_type": "execute_result",
     "data": {
      "text/html": [
       "<div>\n",
       "<style scoped>\n",
       "    .dataframe tbody tr th:only-of-type {\n",
       "        vertical-align: middle;\n",
       "    }\n",
       "\n",
       "    .dataframe tbody tr th {\n",
       "        vertical-align: top;\n",
       "    }\n",
       "\n",
       "    .dataframe thead th {\n",
       "        text-align: right;\n",
       "    }\n",
       "</style>\n",
       "<table border=\"1\" class=\"dataframe\">\n",
       "  <thead>\n",
       "    <tr style=\"text-align: right;\">\n",
       "      <th></th>\n",
       "      <th>Cut</th>\n",
       "      <th>Count</th>\n",
       "      <th>Mean_Carat</th>\n",
       "      <th>Mean_Price</th>\n",
       "    </tr>\n",
       "  </thead>\n",
       "  <tbody>\n",
       "    <tr>\n",
       "      <th>0</th>\n",
       "      <td>Premium</td>\n",
       "      <td>13791</td>\n",
       "      <td>0.89</td>\n",
       "      <td>61.26</td>\n",
       "    </tr>\n",
       "    <tr>\n",
       "      <th>1</th>\n",
       "      <td>Very Good</td>\n",
       "      <td>12082</td>\n",
       "      <td>0.81</td>\n",
       "      <td>61.82</td>\n",
       "    </tr>\n",
       "    <tr>\n",
       "      <th>2</th>\n",
       "      <td>Good</td>\n",
       "      <td>4906</td>\n",
       "      <td>0.85</td>\n",
       "      <td>62.37</td>\n",
       "    </tr>\n",
       "    <tr>\n",
       "      <th>3</th>\n",
       "      <td>Fair</td>\n",
       "      <td>1610</td>\n",
       "      <td>1.05</td>\n",
       "      <td>64.04</td>\n",
       "    </tr>\n",
       "    <tr>\n",
       "      <th>4</th>\n",
       "      <td>Ideal</td>\n",
       "      <td>21551</td>\n",
       "      <td>0.70</td>\n",
       "      <td>61.71</td>\n",
       "    </tr>\n",
       "  </tbody>\n",
       "</table>\n",
       "</div>"
      ],
      "text/plain": [
       "         Cut  Count  Mean_Carat  Mean_Price\n",
       "0    Premium  13791        0.89       61.26\n",
       "1  Very Good  12082        0.81       61.82\n",
       "2       Good   4906        0.85       62.37\n",
       "3       Fair   1610        1.05       64.04\n",
       "4      Ideal  21551        0.70       61.71"
      ]
     },
     "execution_count": 14,
     "metadata": {},
     "output_type": "execute_result"
    }
   ],
   "source": [
    "#1 cut_summary list\n",
    "cut_summary = (\n",
    "    diamonds\n",
    "    .map(lambda x: (x[1], (x[0], x[4], 1)))  \n",
    "    .reduceByKey(lambda a, b: (a[0] + b[0], a[1] + b[1], a[2] + b[2]))\n",
    "    .map(lambda x: (x[0], x[1][2], round(x[1][0] / x[1][2], 2), round(x[1][1] / x[1][2], 2)))\n",
    "    .collect() \n",
    ")\n",
    "\n",
    "#2 Pandas to display cut_summary\n",
    "cut_df = pd.DataFrame(cut_summary, columns=[\"Cut\", \"Count\", \"Mean_Carat\", \"Mean_Price\"])\n",
    "cut_df"
   ]
  }
 ],
 "metadata": {
  "application/vnd.databricks.v1+notebook": {
   "computePreferences": null,
   "dashboards": [],
   "environmentMetadata": {
    "base_environment": "",
    "client": "1"
   },
   "language": "python",
   "notebookMetadata": {
    "pythonIndentUnit": 4
   },
   "notebookName": "HW_02",
   "widgets": {}
  },
  "language_info": {
   "name": "python"
  }
 },
 "nbformat": 4,
 "nbformat_minor": 0
}